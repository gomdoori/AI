{
  "nbformat": 4,
  "nbformat_minor": 0,
  "metadata": {
    "colab": {
      "provenance": [],
      "gpuType": "T4",
      "include_colab_link": true
    },
    "kernelspec": {
      "name": "python3",
      "display_name": "Python 3"
    },
    "language_info": {
      "name": "python"
    },
    "accelerator": "GPU"
  },
  "cells": [
    {
      "cell_type": "markdown",
      "metadata": {
        "id": "view-in-github",
        "colab_type": "text"
      },
      "source": [
        "<a href=\"https://colab.research.google.com/github/gomdoori/AI/blob/main/2024_Deeplearning_CIFAR10_Tuning1.ipynb\" target=\"_parent\"><img src=\"https://colab.research.google.com/assets/colab-badge.svg\" alt=\"Open In Colab\"/></a>"
      ]
    },
    {
      "cell_type": "code",
      "execution_count": null,
      "metadata": {
        "id": "HgKrUVWG0q4l"
      },
      "outputs": [],
      "source": [
        "import math\n",
        "import torch\n",
        "import matplotlib.pyplot as plt\n",
        "import numpy as np\n",
        "import pandas as pd\n",
        "import torch.nn as nn\n",
        "import torch.optim as optim"
      ]
    },
    {
      "cell_type": "code",
      "source": [],
      "metadata": {
        "id": "t9tUjiX74Z75"
      },
      "execution_count": null,
      "outputs": []
    },
    {
      "cell_type": "code",
      "source": [
        "import torchvision\n",
        "import torchvision.transforms as transforms\n",
        "from torch.utils.data import Dataset, DataLoader"
      ],
      "metadata": {
        "id": "ZqeuMys91Ao8"
      },
      "execution_count": null,
      "outputs": []
    },
    {
      "cell_type": "code",
      "source": [
        "# \ub514\ubc14\uc774\uc2a4 \ud560\ub2f9\n",
        "device = torch.device(\"cuda:0\" if torch.cuda.is_available() else \"cpu\")\n",
        "print(device)"
      ],
      "metadata": {
        "colab": {
          "base_uri": "https://localhost:8080/"
        },
        "id": "JH_0JTL61Ar6",
        "outputId": "f7e1f78d-e7d8-4880-956e-18b5720f2d4d"
      },
      "execution_count": null,
      "outputs": [
        {
          "output_type": "stream",
          "name": "stdout",
          "text": [
            "cuda:0\n"
          ]
        }
      ]
    },
    {
      "cell_type": "code",
      "source": [
        "# \ub77c\uc774\ube0c\ub7ec\ub9ac \uc784\ud3ec\ud2b8\n",
        "import torchvision.datasets as datasets\n",
        "\n",
        "trans = transforms.Compose([transforms.ToTensor()])\n",
        "\n",
        "data_root = './data'\n",
        "train_set = datasets.CIFAR10(\n",
        "    root = data_root, train = True,\n",
        "    download=True, transform = trans)\n",
        "\n",
        "test_set = datasets.CIFAR10(\n",
        "    root = data_root, train = False,\n",
        "    download=True, transform = trans)"
      ],
      "metadata": {
        "colab": {
          "base_uri": "https://localhost:8080/"
        },
        "id": "NrSuw7nf1Aum",
        "outputId": "dee04e51-2f1a-48da-e6a7-05b5750ac343"
      },
      "execution_count": null,
      "outputs": [
        {
          "output_type": "stream",
          "name": "stdout",
          "text": [
            "Downloading https://www.cs.toronto.edu/~kriz/cifar-10-python.tar.gz to ./data/cifar-10-python.tar.gz\n"
          ]
        },
        {
          "output_type": "stream",
          "name": "stderr",
          "text": [
            "100%|\u2588\u2588\u2588\u2588\u2588\u2588\u2588\u2588\u2588\u2588| 170498071/170498071 [00:02<00:00, 70394082.34it/s]\n"
          ]
        },
        {
          "output_type": "stream",
          "name": "stdout",
          "text": [
            "Extracting ./data/cifar-10-python.tar.gz to ./data\n",
            "Files already downloaded and verified\n"
          ]
        }
      ]
    },
    {
      "cell_type": "code",
      "source": [
        "batch_size = 128\n",
        "\n",
        "train_loader = DataLoader(\n",
        "    train_set, batch_size= batch_size,\n",
        "    shuffle = True\n",
        ")\n",
        "\n",
        "test_loader = DataLoader(\n",
        "    test_set, batch_size= batch_size,\n",
        "    shuffle = False\n",
        ")"
      ],
      "metadata": {
        "id": "zxiiRhvp1AxI"
      },
      "execution_count": null,
      "outputs": []
    },
    {
      "cell_type": "code",
      "source": [
        "# class CNN1(nn.Module):\n",
        "#     def __init__(self):\n",
        "#         super(CNN1, self).__init__()\n",
        "\n",
        "#         self.layer1 = nn.Sequential(\n",
        "#             nn.Conv2d(in_channels=3, out_channels=32, kernel_size=3, padding=1),\n",
        "#             nn.ReLU(),\n",
        "#             nn.Conv2d(in_channels=32, out_channels=32, kernel_size=3, padding=1),\n",
        "#             nn.ReLU(),\n",
        "#             nn.MaxPool2d(kernel_size=2, stride=2),\n",
        "#             nn.Conv2d(in_channels=32, out_channels=64, kernel_size=3, padding=1),\n",
        "#             nn.ReLU(),\n",
        "#             nn.Conv2d(in_channels=64, out_channels=64, kernel_size=3, padding=1),\n",
        "#             nn.ReLU(),\n",
        "#             nn.MaxPool2d(kernel_size=2, stride=2),\n",
        "#             nn.Conv2d(in_channels=64, out_channels=128, kernel_size=3, padding=1),\n",
        "#             nn.ReLU(),\n",
        "#             nn.Conv2d(in_channels=128, out_channels=128, kernel_size=3, padding=1),\n",
        "#             nn.ReLU(),\n",
        "#             nn.MaxPool2d(kernel_size=2, stride=2)\n",
        "#         )\n",
        "\n",
        "#         self.l1 = nn.Linear(in_features=128*4*4,out_features=128)\n",
        "#         self.l2 = nn.Linear(in_features=128,out_features=10)\n",
        "\n",
        "#         self.relu = nn.ReLU()\n",
        "\n",
        "#     def forward(self, x):\n",
        "#         x = self.layer1(x)\n",
        "\n",
        "#         x = x.view(x.size(0),-1)\n",
        "\n",
        "#         x = self.l1(x)\n",
        "#         x = self.relu(x)\n",
        "#         x = self.l2(x)\n",
        "#         return x"
      ],
      "metadata": {
        "id": "M8E_srXh1Azp"
      },
      "execution_count": null,
      "outputs": []
    },
    {
      "cell_type": "code",
      "source": [
        "# class CNN1(nn.Module):\n",
        "#     def __init__(self):\n",
        "#         super(CNN1, self).__init__()\n",
        "\n",
        "#         self.layer1 = nn.Sequential(\n",
        "#             nn.Conv2d(in_channels=3, out_channels=32, kernel_size=3, padding=1),\n",
        "#             nn.ReLU(),\n",
        "#             nn.Conv2d(in_channels=32, out_channels=32, kernel_size=3, padding=1),\n",
        "#             nn.ReLU(),\n",
        "#             nn.MaxPool2d(kernel_size=2, stride=2),\n",
        "#             nn.Dropout(0.2),\n",
        "#             nn.Conv2d(in_channels=32, out_channels=64, kernel_size=3, padding=1),\n",
        "#             nn.ReLU(),\n",
        "#             nn.Conv2d(in_channels=64, out_channels=64, kernel_size=3, padding=1),\n",
        "#             nn.ReLU(),\n",
        "#             nn.MaxPool2d(kernel_size=2, stride=2),\n",
        "#             nn.Dropout(0.3),\n",
        "#             nn.Conv2d(in_channels=64, out_channels=128, kernel_size=3, padding=1),\n",
        "#             nn.ReLU(),\n",
        "#             nn.Conv2d(in_channels=128, out_channels=128, kernel_size=3, padding=1),\n",
        "#             nn.ReLU(),\n",
        "#             nn.MaxPool2d(kernel_size=2, stride=2),\n",
        "#             nn.Dropout(0.4)\n",
        "#         )\n",
        "\n",
        "#         self.l1 = nn.Linear(in_features=128*4*4,out_features=128)\n",
        "#         self.l2 = nn.Linear(in_features=128,out_features=10)\n",
        "\n",
        "#         self.relu = nn.ReLU()\n",
        "\n",
        "#         self.dropout1 = nn.Dropout(0.4)\n",
        "\n",
        "#     def forward(self, x):\n",
        "#         x = self.layer1(x)\n",
        "\n",
        "#         x = x.view(x.size(0),-1)\n",
        "\n",
        "#         x = self.l1(x)\n",
        "#         x = self.relu(x)\n",
        "#         x = self.dropout1(x)\n",
        "#         x = self.l2(x)\n",
        "#         return x"
      ],
      "metadata": {
        "id": "bxmB-5KZ1A2S"
      },
      "execution_count": null,
      "outputs": []
    },
    {
      "cell_type": "code",
      "source": [
        "class CNN1(nn.Module):\n",
        "    def __init__(self):\n",
        "        super(CNN1, self).__init__()\n",
        "\n",
        "        self.bn1 = nn.BatchNorm2d(32)\n",
        "        self.bn2 = nn.BatchNorm2d(32)\n",
        "        self.bn3 = nn.BatchNorm2d(64)\n",
        "        self.bn4 = nn.BatchNorm2d(64)\n",
        "        self.bn5 = nn.BatchNorm2d(128)\n",
        "        self.bn6 = nn.BatchNorm2d(128)\n",
        "\n",
        "        self.layer1 = nn.Sequential(\n",
        "            nn.Conv2d(in_channels=3, out_channels=32, kernel_size=3, padding=1),\n",
        "            self.bn1,\n",
        "            nn.ReLU(),\n",
        "            nn.Conv2d(in_channels=32, out_channels=32, kernel_size=3, padding=1),\n",
        "            self.bn2,\n",
        "            nn.ReLU(),\n",
        "            nn.MaxPool2d(kernel_size=2, stride=2),\n",
        "            nn.Dropout(0.2),\n",
        "            nn.Conv2d(in_channels=32, out_channels=64, kernel_size=3, padding=1),\n",
        "            self.bn3,\n",
        "            nn.ReLU(),\n",
        "            nn.Conv2d(in_channels=64, out_channels=64, kernel_size=3, padding=1),\n",
        "            self.bn4,\n",
        "            nn.ReLU(),\n",
        "            nn.MaxPool2d(kernel_size=2, stride=2),\n",
        "            nn.Dropout(0.3),\n",
        "            nn.Conv2d(in_channels=64, out_channels=128, kernel_size=3, padding=1),\n",
        "            self.bn5,\n",
        "            nn.ReLU(),\n",
        "            nn.Conv2d(in_channels=128, out_channels=128, kernel_size=3, padding=1),\n",
        "            self.bn6,\n",
        "            nn.ReLU(),\n",
        "            nn.MaxPool2d(kernel_size=2, stride=2),\n",
        "            nn.Dropout(0.4)\n",
        "        )\n",
        "\n",
        "        self.l1 = nn.Linear(in_features=128*4*4,out_features=128)\n",
        "        self.l2 = nn.Linear(in_features=128,out_features=10)\n",
        "\n",
        "        self.relu = nn.ReLU()\n",
        "\n",
        "        self.dropout1 = nn.Dropout(0.4)\n",
        "\n",
        "    def forward(self, x):\n",
        "        x = self.layer1(x)\n",
        "\n",
        "        x = x.view(x.size(0),-1)\n",
        "\n",
        "        x = self.l1(x)\n",
        "        x = self.relu(x)\n",
        "        x = self.dropout1(x)\n",
        "        x = self.l2(x)\n",
        "        return x"
      ],
      "metadata": {
        "id": "FqgWJK3-1A46"
      },
      "execution_count": null,
      "outputs": []
    },
    {
      "cell_type": "code",
      "source": [
        "# \ub09c\uc218 \uace0\uc815\n",
        "torch.cuda.manual_seed(123)\n",
        "\n",
        "model = CNN1()\n",
        "model.to(device)\n",
        "lr = 1e-3\n",
        "\n",
        "# \uc190\uc2e4 \ud568\uc218\uff1a \uad50\ucc28 \uc5d4\ud2b8\ub85c\ud53c \ud568\uc218\n",
        "criterion = nn.CrossEntropyLoss()\n",
        "\n",
        "optimizer = torch.optim.Adam(model.parameters(), lr=lr)\n",
        "\n",
        "history= np.zeros((0,5))"
      ],
      "metadata": {
        "id": "cocgxAaC1m4b"
      },
      "execution_count": null,
      "outputs": []
    },
    {
      "cell_type": "code",
      "source": [
        "num_epochs = 20\n",
        "# tqdm \ub77c\uc774\ube0c\ub7ec\ub9ac \uc784\ud3ec\ud2b8\n",
        "from tqdm.notebook import tqdm\n",
        "for epoch in range(num_epochs):\n",
        "  train_acc, train_loss = 0, 0\n",
        "  test_acc, test_loss = 0, 0\n",
        "  n_train, n_test = 0, 0\n",
        "\n",
        "  for images, labels in tqdm(train_loader):\n",
        "    n_train += len(labels)\n",
        "\n",
        "    inputs = images.to(device)\n",
        "    labels = labels.to(device)\n",
        "    optimizer.zero_grad()\n",
        "    outputs = model(inputs)\n",
        "    loss_model = criterion(outputs, labels)\n",
        "    loss_model.backward()\n",
        "    optimizer.step()\n",
        "    pred = outputs.max(axis=1)[1]\n",
        "    train_loss += loss_model.item()\n",
        "    train_acc += (pred == labels).sum().item()\n",
        "  for images_test, labels_test in test_loader:\n",
        "    n_test += len(labels_test)\n",
        "\n",
        "    inputs_test = images_test.to(device)\n",
        "    labels_test = labels_test.to(device)\n",
        "\n",
        "    outputs_test = model(inputs_test)\n",
        "\n",
        "    loss_test_model = criterion(outputs_test, labels_test)\n",
        "\n",
        "    pred_test = outputs_test.max(axis=1)[1]\n",
        "\n",
        "    test_loss +=  loss_test_model.item()\n",
        "    test_acc +=  (pred_test == labels_test).sum().item()\n",
        "\n",
        "  train_acc = train_acc / n_train\n",
        "  test_acc = test_acc / n_test\n",
        "  train_loss = train_loss / n_train\n",
        "  test_loss = test_loss / n_test\n",
        "  print(f'Epoch [{epoch+1}/{num_epochs}], loss: {train_loss:.5f}, loss_test: {test_loss:.5f}')\n",
        "  item = np.array([epoch+1 , train_loss, train_acc, test_loss, test_acc])\n",
        "  history = np.vstack((history, item))"
      ],
      "metadata": {
        "colab": {
          "base_uri": "https://localhost:8080/",
          "height": 1000,
          "referenced_widgets": [
            "d3b8020332464588b03a66bf8d619fb4",
            "76bd0a7e51e34a198c790232450371a6",
            "41eeded6a2d946a3bec3521546ce3bec",
            "a8f5162bb77047f59ebe90f93024c120",
            "ef8e9bedfa4d4c2eb52c21f629131367",
            "6d10064524214ea081e08bce4ae0c625",
            "a6f6d463a82d4df6b47ac9a46b547636",
            "59f1cccaf204499fb36c76022f148f90",
            "50c6f6de29734d3bb1f2ccf186aa7663",
            "41c896ccb53c45a0beb8b8b62cc1d6ee",
            "53eca52d517d47879f29ed4f9451545f",
            "d62c67251f7744da93b2b2cdccf8b4aa",
            "0efc0188c642498fa3c61de6e60b9f09",
            "25745ac0091a4349ae1a2c843c73e447",
            "0880b291cbf04296b7641258dbdb5e74",
            "9409eafa5eba4791a5026ca64a4cbe88",
            "7cfc60f5ac6b48e78c2dc21a5e0d89d0",
            "55028b35b66a47e0ad1ee745db6f9d27",
            "030874f1947c4cffa7e2320b78c6b25e",
            "947fb0eea5714e83abbf8c545de138cd",
            "b54b65bd0718407c9a6183f71dc8390a",
            "fd89681c4e1e4182b7ee6883f9ee1dc3",
            "7d4bcfe242b44970b30a6b8818278d01",
            "6d6c793223e546889826889aaccb05a3",
            "77df79cc489f48309294091f23aec40d",
            "9f88f00f77c24d189651328c0dcc2e62",
            "1c7d8aee9f384e89aeb086857be46358",
            "0738e08813024bb781d1e17994d01868",
            "8d468a2d7c414145b95e8a7a04439b57",
            "a6b28b0e88554cfcba035f55c453c672",
            "479908b0e242449cb313db024c701eed",
            "639c29368418443f870d00cecf88fa63",
            "3f894f77c1fa4fff806398df8991e66a",
            "f0a3517631054f96955cc284f66993ef",
            "7afa8c38745049e7a9b9632956e37583",
            "8a63ca1d383e419682c8a08a446d426a",
            "399026cc3c76408aafbb01d19fbb276e",
            "eeb31a30f66b48f1a401a85e62794831",
            "947e2ec1cd304cafa8c5174c3a3fc89c",
            "c0b179a5a4e843de8ba056e147430ef8",
            "c4d2b804afa6463987bc29c24d187add",
            "d90ee224075f4972a6463a36d1d63c44",
            "d8eeb13e0efe45e392f91dde13eef82b",
            "a84f32228e7942d3b24f36626cd63701",
            "55036b82df1741f4b2648da7426a34b7",
            "50d0f16e626d4d97a508cf03010834e8",
            "2f3520cbbb2a4037af296ba3e5d70571",
            "396cf8197d0043ec845fe52b6ab37e9f",
            "4e8875e4735d43028257c314106812c1",
            "5f85a235a66c44d2a8a77aee0516a7cf",
            "cc485c9f2a9e40c9a3f1de3243638d7a",
            "bd99e63f6f334b209619751187bb301f",
            "71a7f7660e384c2a9aeb29db60f53a32",
            "afcddafe7a4647b0993ad8dec9155b63",
            "78d7305ce4934feeb43d92143cfe1334",
            "dc19bee2b7944cddadc0c432e134ed82",
            "14beecb94af542608f072f83e2fbcaeb",
            "a8bc3a78fc5647a1acce9b7d67185197",
            "4b40bd7a85be4299a3c74650092c29c9",
            "adb2c151aa4c4cd3a922c77b4edcf6f3",
            "82c80a2d36524ce993807923e530a9d9",
            "b825e04ac623483eb89af7918153214b",
            "1d9d4db933fc483581135821642914de",
            "ef1c86975e8244b5a99a1cd8bebd7813",
            "533a10cb24424c438c99e7fddbc8bd3b",
            "85ebf307c4d94e068110a53c653169c9",
            "d73d129323df40458ab3b27901f46474",
            "660a1d27ba6244a6bc51066926f7de5d",
            "e45e33a0b2fb46839dd1bd64c6d16220",
            "a949f782206e414284d66afabc3e5d0f",
            "3879c46a1f2541f29498e07eaef7a813",
            "c8610a31e4864afaa33d62a5ae635297",
            "0038d2a810cc4506b310762df34f9cc1",
            "88d24d39cc124df0bf286bd13f08383e",
            "4a6bc99b31ff4d4fa0dcef23d14eaab6",
            "5fe4ad41c84949dab904d23a4b56662e",
            "97208017c3244e4ab476571e5ff22dba",
            "6e362a8f208c40a7bbc0842c12242d75",
            "7a353cd8bbba49e0bd3810cf2622e4b8",
            "330c28f4af384cf488cc498f965d8e8f",
            "0e6aeab4e51b494aa35978c4ea94ad8b",
            "ec40cf0ae5294f74b4354e3e21338261",
            "90dfc524ed8246e5a757fd968331f6b7",
            "5ae32aa415ac4e969f2174767d08d24b",
            "b2fce6d704b14c6ab66f8955ce4a9b7b",
            "6e57deccd37a47c8954e3cbfef0554b9",
            "e6097f3b86084aea98d619e4f54d69fc",
            "4a9137b6e7a7448a86a2360dca882a9a",
            "4f4885f5febe438496ff3236a62d4bca",
            "25c39005be484ead8646c198cbd80e6a",
            "c42b9bf5336a42ab8e99476772b2fd9b",
            "f00050d792064fff90df197eefa158ef",
            "e9fe7ca9e2b943168145017175c95d0c",
            "71d584f2a0754864a417d7bd4dc02189",
            "7103884b6abe4c2eba3c45800b045d44",
            "fd5ae4ab0cef413cb0135daa83f24400",
            "d9a98fd6d4e74d7cb5d2f75f6edab7b9",
            "9d8baa42692c4e98a596e045c3bd0f35",
            "967863e4957d4552834f19b8740b08fa",
            "8da214421d5b46afa3d1d5b32fdce01f",
            "442c5515af264a1a8c06f8a915097a76",
            "00ebc9bf8aad4afaa37f636c18f9e6a1",
            "a4f991d0ce00444fa65f6580d5b7c21a",
            "072ecb3a4a764a2aa7fa0e5914f5fa4d",
            "53ed5a39fb344ffd84e1ba621dc1d9c3",
            "1ec0f12268b44140aeeb0a0b9c998f5d",
            "b754ac3e9bd648ba963b01385d7ee63d",
            "4496117af0a34dd1b256fcf364408816",
            "564d546223dd46f792e8b73b4d82668b",
            "06e210fddcdf40519cb6d3b9c0149666",
            "cac5f57dcd9c40c2ba83b1d17674da94",
            "37e6d4ac5d754b48b61fc3bf32293fc0",
            "33a541eae7194dc49edbe34b8f3454dc",
            "010f64227b2a4b74a447cf37c3a3eaa1",
            "906a56d54c6a4d66968552f80eed3dd6",
            "ebe271b36341483189cb83fc831a539f",
            "6c45a094b4f445d78abb03c56db69479",
            "39a12e62b6624315b13c07b265f0cf0c",
            "e52f54940ec24132beda00f21a743087",
            "27705172c71b47b998d91d8812fd3caa",
            "71c7685e0a9a49ed9c5af8356ab653a5",
            "3b427d30402040c2be92feed80ef6a33",
            "3e4ea40006fa42e4969ce0e9df56e4b0",
            "822ef3fa6cf948af96f957c4a257af90",
            "f3cc611702b347c5b233be5d2c1c64d5",
            "4caaaf4112524ab9bd5c25047b8d37fa",
            "511ada6cee104afdb908071317b39753",
            "39d95bf3dbbf4b459aef34594fa60494",
            "ef42460e0a524236b08960e9e24c4a58",
            "a16f11a8d9704e50910ade6671b35253",
            "9c5ce73391b8449fb7927fdbad769e2e",
            "7e5ae5a4175d4fa383546c1f9007edab",
            "81559fdfec40442590ec3491057addae",
            "93d322f17896485289ba4dd356ae6ce9",
            "7577cef0bdce47dc83af60ad25cc656c",
            "53471f70dc6e425da808ec45aab75883",
            "899cf9141bcf427b95ad351dcaccc1e7",
            "e04039ec663e4799a21237825d934fcc",
            "df3a95e180f0409087022bd5779d2cb8",
            "f19aa614ac3a4647b8cea593ba117541",
            "4e97ef98b6c34272acb07dbf4c7efa7f",
            "31ae58f705844cc2b7f3684d830c4665",
            "bb2efcef001241d39c165e3fae84dce5",
            "bc203f33134d4f1f806b3ea606ad6b7d",
            "eec4342c9e2c44d591838d2b24dc53c4",
            "47fb3d754b2048868fc2c7486c2698d9",
            "e8f552bd31874c84a637410640070592",
            "c131228594ef44ea801f3fa3c50f3e37",
            "4f838102f4fc4a579f8279ac2b7bcbb2",
            "6b8dcdb3e9434c78ac0e41ef5cb27b3f",
            "0cc9cae1730f41c8bfc3ae8f51cbbc9d",
            "3068dcd4953e4c51a255ddd8df8a742b",
            "e80bcd124b274fa298588c3149705bbb",
            "65f4e9ffc47749e09a64b6b8e7a3e777",
            "d8ea83744447406aae320a2e36b35a3e",
            "79b104334e9d4ed79f0bbf706fad1eff",
            "5ce9ace2ebb044889b7e03b69201cf18",
            "f9d4b0e668f040ec833f540f31ffb1d0",
            "7ad4d45b78ce4e598bb164a7deb1579a",
            "87b9e3f3e47c465688b192cfd2d4dc81",
            "2ca2ea28942b4fdd969db61f6c799408",
            "f17a904c481e4d8e9d05f7052a122fd1",
            "af8ff73ac9cd4d44af9166632479a9f0",
            "d0c53a05496c49a89f7fcbf20b60c7c6",
            "fe1ff3a4549647279179460f9206915d",
            "217ab8efc0d544138808b354d39c94e6",
            "047a635b1fd1442d851da23430594237",
            "da7ac5d7995e4055a885789fe96ce52e",
            "75ad6d991da54f6f9841d8cc1930cd1f",
            "c151c92668404d05ad3f44a5851e9387",
            "29c5eb263aa0433fba2ffeb97fbaccd9",
            "be4fe733775a4f2f8d0c0a3019b6b1c8",
            "e815fc990316461c96d8dd6707e164a3",
            "dbb4591ac17e4dcea04cba4e0e65591c",
            "564dd9529db646a5b75dc1092ff35872",
            "938000e9ca23454abea2c25f97b659e8",
            "f2806f1e1f134fc89a24969229658faf",
            "3284083a6ddc4a24a703df96d860d3eb",
            "6f45a9928af949d0b8541416398dbcdc",
            "22cfaf75354d4f1d84b3ba25d21170b7",
            "b2e27e6c550b48888b91d57f944750f9",
            "c2269ffd9997467ca774f5fd8ab6015f",
            "bcfab3d22a7e4299b90ddadc2cefeb89",
            "2ef381105c0c47a184ec6c567a7437bd",
            "fc7ef33cfdde479aa758e53f0fb2f1f8",
            "097e7481e4b84e2098d4c2859c16d43d",
            "f6ecc352bf7446e4bf22e75550f1b16b",
            "86c91b53d4a54b7b98eb8822343fe8c9",
            "d9a4eadbe07b46ddaf8707b681103ff8",
            "adfd1076cfbc4a3199e8e772a448f278",
            "814b5b95f96f42db9e8c1ad000144869",
            "006ade934cd041ca9fe6285687252c88",
            "1ee71fc736ed4a08ad7090bb6f2d4b50",
            "68fd5c8fc32b497bb810a3836b8b6266",
            "d765a933c8e449198eaf8db63739a61b",
            "91eabde0ab6245efa65a8b373b534f36",
            "ab75259b98bd420d9f0fac97b3bab342",
            "7274234ab36a4c81bfbb9c170244b7d9",
            "2eaf5686037942c499cc4a08203f2fa5",
            "1f4573d30f8b4a10b66e13cba1215151",
            "8f86c99f40a44a4fa03e12b435ee31fd",
            "be7d962566744c25abe84ea7a069a134",
            "c338fb647fc44ab99c76b85804830af0",
            "7f4c7a48e3d14d7bbb3ce8be6313bf98",
            "2ff04e2f384a48c19cb556cfcafb6944",
            "2d05faa2234d42f2aa289e284e47145d",
            "77a14a50ed47433db387d7e58621725b",
            "71a278e18f33423e9d32ba2dce69539d",
            "2c6cf1dccb6942caae00addaa743404f",
            "60133e9562ad4fe79875aba57f281398",
            "a302aabb411b4817a1a2af40da6d2afc",
            "1d04a9f2e5ae4563996128ef49f36f3c",
            "421a4fc41106464eb989be98f5fd051c",
            "9d8c0a0e8f75463fa1e299a517f0b6f4",
            "6193967fe30f4ad09047feea0827483e",
            "b5eca6bb54094cba890cfe404bc27327",
            "5f48abb63a514fb6b9ad7b247df8ebdf",
            "334847df2f474dce843aa3ffc5b7c69a",
            "d9c3738c0b054208b9b02509d3a8c859",
            "078efbf059e4490dade169d1a353cf90"
          ]
        },
        "id": "AHkRxdEq1m8D",
        "outputId": "55c309d4-6a62-42fc-f570-54e47f659f49"
      },
      "execution_count": null,
      "outputs": [
        {
          "output_type": "display_data",
          "data": {
            "text/plain": [
              "  0%|          | 0/391 [00:00<?, ?it/s]"
            ],
            "application/vnd.jupyter.widget-view+json": {
              "version_major": 2,
              "version_minor": 0,
              "model_id": "d3b8020332464588b03a66bf8d619fb4"
            }
          },
          "metadata": {}
        },
        {
          "output_type": "stream",
          "name": "stdout",
          "text": [
            "Epoch [1/20], loss: 0.01201, loss_test: 0.00983\n"
          ]
        },
        {
          "output_type": "display_data",
          "data": {
            "text/plain": [
              "  0%|          | 0/391 [00:00<?, ?it/s]"
            ],
            "application/vnd.jupyter.widget-view+json": {
              "version_major": 2,
              "version_minor": 0,
              "model_id": "d62c67251f7744da93b2b2cdccf8b4aa"
            }
          },
          "metadata": {}
        },
        {
          "output_type": "stream",
          "name": "stdout",
          "text": [
            "Epoch [2/20], loss: 0.00883, loss_test: 0.00838\n"
          ]
        },
        {
          "output_type": "display_data",
          "data": {
            "text/plain": [
              "  0%|          | 0/391 [00:00<?, ?it/s]"
            ],
            "application/vnd.jupyter.widget-view+json": {
              "version_major": 2,
              "version_minor": 0,
              "model_id": "7d4bcfe242b44970b30a6b8818278d01"
            }
          },
          "metadata": {}
        },
        {
          "output_type": "stream",
          "name": "stdout",
          "text": [
            "Epoch [3/20], loss: 0.00764, loss_test: 0.00761\n"
          ]
        },
        {
          "output_type": "display_data",
          "data": {
            "text/plain": [
              "  0%|          | 0/391 [00:00<?, ?it/s]"
            ],
            "application/vnd.jupyter.widget-view+json": {
              "version_major": 2,
              "version_minor": 0,
              "model_id": "f0a3517631054f96955cc284f66993ef"
            }
          },
          "metadata": {}
        },
        {
          "output_type": "stream",
          "name": "stdout",
          "text": [
            "Epoch [4/20], loss: 0.00689, loss_test: 0.00705\n"
          ]
        },
        {
          "output_type": "display_data",
          "data": {
            "text/plain": [
              "  0%|          | 0/391 [00:00<?, ?it/s]"
            ],
            "application/vnd.jupyter.widget-view+json": {
              "version_major": 2,
              "version_minor": 0,
              "model_id": "55036b82df1741f4b2648da7426a34b7"
            }
          },
          "metadata": {}
        },
        {
          "output_type": "stream",
          "name": "stdout",
          "text": [
            "Epoch [5/20], loss: 0.00638, loss_test: 0.00665\n"
          ]
        },
        {
          "output_type": "display_data",
          "data": {
            "text/plain": [
              "  0%|          | 0/391 [00:00<?, ?it/s]"
            ],
            "application/vnd.jupyter.widget-view+json": {
              "version_major": 2,
              "version_minor": 0,
              "model_id": "dc19bee2b7944cddadc0c432e134ed82"
            }
          },
          "metadata": {}
        },
        {
          "output_type": "stream",
          "name": "stdout",
          "text": [
            "Epoch [6/20], loss: 0.00596, loss_test: 0.00651\n"
          ]
        },
        {
          "output_type": "display_data",
          "data": {
            "text/plain": [
              "  0%|          | 0/391 [00:00<?, ?it/s]"
            ],
            "application/vnd.jupyter.widget-view+json": {
              "version_major": 2,
              "version_minor": 0,
              "model_id": "d73d129323df40458ab3b27901f46474"
            }
          },
          "metadata": {}
        },
        {
          "output_type": "stream",
          "name": "stdout",
          "text": [
            "Epoch [7/20], loss: 0.00568, loss_test: 0.00626\n"
          ]
        },
        {
          "output_type": "display_data",
          "data": {
            "text/plain": [
              "  0%|          | 0/391 [00:00<?, ?it/s]"
            ],
            "application/vnd.jupyter.widget-view+json": {
              "version_major": 2,
              "version_minor": 0,
              "model_id": "6e362a8f208c40a7bbc0842c12242d75"
            }
          },
          "metadata": {}
        },
        {
          "output_type": "stream",
          "name": "stdout",
          "text": [
            "Epoch [8/20], loss: 0.00540, loss_test: 0.00580\n"
          ]
        },
        {
          "output_type": "display_data",
          "data": {
            "text/plain": [
              "  0%|          | 0/391 [00:00<?, ?it/s]"
            ],
            "application/vnd.jupyter.widget-view+json": {
              "version_major": 2,
              "version_minor": 0,
              "model_id": "4f4885f5febe438496ff3236a62d4bca"
            }
          },
          "metadata": {}
        },
        {
          "output_type": "stream",
          "name": "stdout",
          "text": [
            "Epoch [9/20], loss: 0.00512, loss_test: 0.00549\n"
          ]
        },
        {
          "output_type": "display_data",
          "data": {
            "text/plain": [
              "  0%|          | 0/391 [00:00<?, ?it/s]"
            ],
            "application/vnd.jupyter.widget-view+json": {
              "version_major": 2,
              "version_minor": 0,
              "model_id": "8da214421d5b46afa3d1d5b32fdce01f"
            }
          },
          "metadata": {}
        },
        {
          "output_type": "stream",
          "name": "stdout",
          "text": [
            "Epoch [10/20], loss: 0.00490, loss_test: 0.00566\n"
          ]
        },
        {
          "output_type": "display_data",
          "data": {
            "text/plain": [
              "  0%|          | 0/391 [00:00<?, ?it/s]"
            ],
            "application/vnd.jupyter.widget-view+json": {
              "version_major": 2,
              "version_minor": 0,
              "model_id": "cac5f57dcd9c40c2ba83b1d17674da94"
            }
          },
          "metadata": {}
        },
        {
          "output_type": "stream",
          "name": "stdout",
          "text": [
            "Epoch [11/20], loss: 0.00470, loss_test: 0.00535\n"
          ]
        },
        {
          "output_type": "display_data",
          "data": {
            "text/plain": [
              "  0%|          | 0/391 [00:00<?, ?it/s]"
            ],
            "application/vnd.jupyter.widget-view+json": {
              "version_major": 2,
              "version_minor": 0,
              "model_id": "3b427d30402040c2be92feed80ef6a33"
            }
          },
          "metadata": {}
        },
        {
          "output_type": "stream",
          "name": "stdout",
          "text": [
            "Epoch [12/20], loss: 0.00450, loss_test: 0.00538\n"
          ]
        },
        {
          "output_type": "display_data",
          "data": {
            "text/plain": [
              "  0%|          | 0/391 [00:00<?, ?it/s]"
            ],
            "application/vnd.jupyter.widget-view+json": {
              "version_major": 2,
              "version_minor": 0,
              "model_id": "81559fdfec40442590ec3491057addae"
            }
          },
          "metadata": {}
        },
        {
          "output_type": "stream",
          "name": "stdout",
          "text": [
            "Epoch [13/20], loss: 0.00434, loss_test: 0.00547\n"
          ]
        },
        {
          "output_type": "display_data",
          "data": {
            "text/plain": [
              "  0%|          | 0/391 [00:00<?, ?it/s]"
            ],
            "application/vnd.jupyter.widget-view+json": {
              "version_major": 2,
              "version_minor": 0,
              "model_id": "bc203f33134d4f1f806b3ea606ad6b7d"
            }
          },
          "metadata": {}
        },
        {
          "output_type": "stream",
          "name": "stdout",
          "text": [
            "Epoch [14/20], loss: 0.00424, loss_test: 0.00525\n"
          ]
        },
        {
          "output_type": "display_data",
          "data": {
            "text/plain": [
              "  0%|          | 0/391 [00:00<?, ?it/s]"
            ],
            "application/vnd.jupyter.widget-view+json": {
              "version_major": 2,
              "version_minor": 0,
              "model_id": "d8ea83744447406aae320a2e36b35a3e"
            }
          },
          "metadata": {}
        },
        {
          "output_type": "stream",
          "name": "stdout",
          "text": [
            "Epoch [15/20], loss: 0.00407, loss_test: 0.00516\n"
          ]
        },
        {
          "output_type": "display_data",
          "data": {
            "text/plain": [
              "  0%|          | 0/391 [00:00<?, ?it/s]"
            ],
            "application/vnd.jupyter.widget-view+json": {
              "version_major": 2,
              "version_minor": 0,
              "model_id": "217ab8efc0d544138808b354d39c94e6"
            }
          },
          "metadata": {}
        },
        {
          "output_type": "stream",
          "name": "stdout",
          "text": [
            "Epoch [16/20], loss: 0.00393, loss_test: 0.00515\n"
          ]
        },
        {
          "output_type": "display_data",
          "data": {
            "text/plain": [
              "  0%|          | 0/391 [00:00<?, ?it/s]"
            ],
            "application/vnd.jupyter.widget-view+json": {
              "version_major": 2,
              "version_minor": 0,
              "model_id": "f2806f1e1f134fc89a24969229658faf"
            }
          },
          "metadata": {}
        },
        {
          "output_type": "stream",
          "name": "stdout",
          "text": [
            "Epoch [17/20], loss: 0.00381, loss_test: 0.00514\n"
          ]
        },
        {
          "output_type": "display_data",
          "data": {
            "text/plain": [
              "  0%|          | 0/391 [00:00<?, ?it/s]"
            ],
            "application/vnd.jupyter.widget-view+json": {
              "version_major": 2,
              "version_minor": 0,
              "model_id": "86c91b53d4a54b7b98eb8822343fe8c9"
            }
          },
          "metadata": {}
        },
        {
          "output_type": "stream",
          "name": "stdout",
          "text": [
            "Epoch [18/20], loss: 0.00368, loss_test: 0.00492\n"
          ]
        },
        {
          "output_type": "display_data",
          "data": {
            "text/plain": [
              "  0%|          | 0/391 [00:00<?, ?it/s]"
            ],
            "application/vnd.jupyter.widget-view+json": {
              "version_major": 2,
              "version_minor": 0,
              "model_id": "2eaf5686037942c499cc4a08203f2fa5"
            }
          },
          "metadata": {}
        },
        {
          "output_type": "stream",
          "name": "stdout",
          "text": [
            "Epoch [19/20], loss: 0.00357, loss_test: 0.00491\n"
          ]
        },
        {
          "output_type": "display_data",
          "data": {
            "text/plain": [
              "  0%|          | 0/391 [00:00<?, ?it/s]"
            ],
            "application/vnd.jupyter.widget-view+json": {
              "version_major": 2,
              "version_minor": 0,
              "model_id": "60133e9562ad4fe79875aba57f281398"
            }
          },
          "metadata": {}
        },
        {
          "output_type": "stream",
          "name": "stdout",
          "text": [
            "Epoch [20/20], loss: 0.00357, loss_test: 0.00485\n"
          ]
        }
      ]
    },
    {
      "cell_type": "code",
      "source": [
        "# \uc190\uc2e4\uacfc \uc815\ud655\ub3c4 \ud655\uc778\n",
        "\n",
        "print(f'\ucd08\uae30\uc0c1\ud0dc : \uc190\uc2e4 : {history[0,3]:.5f}  \uc815\ud655\ub3c4 : {history[0,4]:.5f}' )\n",
        "print(f'\ucd5c\uc885\uc0c1\ud0dc : \uc190\uc2e4 : {history[-1,3]:.5f}  \uc815\ud655\ub3c4 : {history[-1,4]:.5f}' )"
      ],
      "metadata": {
        "colab": {
          "base_uri": "https://localhost:8080/"
        },
        "id": "b5u-9Q5v1nBF",
        "outputId": "37f76582-91c5-48e2-e151-34630cc320a9"
      },
      "execution_count": null,
      "outputs": [
        {
          "output_type": "stream",
          "name": "stdout",
          "text": [
            "\ucd08\uae30\uc0c1\ud0dc : \uc190\uc2e4 : 0.00983  \uc815\ud655\ub3c4 : 0.55790\n",
            "\ucd5c\uc885\uc0c1\ud0dc : \uc190\uc2e4 : 0.00485  \uc815\ud655\ub3c4 : 0.79880\n"
          ]
        }
      ]
    },
    {
      "cell_type": "code",
      "source": [
        "# \ud559\uc2b5 \uace1\uc120 \ucd9c\ub825(\uc190\uc2e4)\n",
        "\n",
        "plt.plot(history[:,0], history[:,1], 'b', label='Train error')\n",
        "plt.plot(history[:,0], history[:,3], 'k', label='Test error')\n",
        "plt.xlabel('Epoch')\n",
        "plt.ylabel('loss')\n",
        "plt.legend()\n",
        "plt.show()"
      ],
      "metadata": {
        "colab": {
          "base_uri": "https://localhost:8080/",
          "height": 449
        },
        "id": "hXzA9tl01nEj",
        "outputId": "028fbf1e-e95f-43ba-e642-af3906e4f038"
      },
      "execution_count": null,
      "outputs": [
        {
          "output_type": "display_data",
          "data": {
            "text/plain": [
              "<Figure size 640x480 with 1 Axes>"
            ],
            "image/png": "[encoded data removed]"
          },
          "metadata": {}
        }
      ]
    },
    {
      "cell_type": "code",
      "source": [
        "# \ud559\uc2b5 \uace1\uc120 \ucd9c\ub825(\uc815\ud655\ub3c4)\n",
        "\n",
        "plt.plot(history[:,0], history[:,2], 'b', label='Train Accuracy')\n",
        "plt.plot(history[:,0], history[:,4], 'k', label='Test Accuracy')\n",
        "plt.xlabel('Epoch')\n",
        "plt.ylabel('Accuracy')\n",
        "plt.legend()\n",
        "plt.show()"
      ],
      "metadata": {
        "colab": {
          "base_uri": "https://localhost:8080/",
          "height": 449
        },
        "id": "FXb8S6Td1nHm",
        "outputId": "60b257ee-985d-41fc-9e0c-798fba73ab24"
      },
      "execution_count": null,
      "outputs": [
        {
          "output_type": "display_data",
          "data": {
            "text/plain": [
              "<Figure size 640x480 with 1 Axes>"
            ],
            "image/png": "[encoded data removed]"
          },
          "metadata": {}
        }
      ]
    },
    {
      "cell_type": "code",
      "source": [],
      "metadata": {
        "id": "_V-QPrxB1nKe"
      },
      "execution_count": null,
      "outputs": []
    }
  ]
}
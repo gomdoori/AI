{
  "nbformat": 4,
  "nbformat_minor": 0,
  "metadata": {
    "colab": {
      "provenance": [],
      "gpuType": "T4",
      "authorship_tag": "ABX9TyMPVHe5ZzHpkVvR9DDGsxHW",
      "include_colab_link": true
    },
    "kernelspec": {
      "name": "python3",
      "display_name": "Python 3"
    },
    "language_info": {
      "name": "python"
    },
    "accelerator": "GPU"
  },
  "cells": [
    {
      "cell_type": "markdown",
      "metadata": {
        "id": "view-in-github",
        "colab_type": "text"
      },
      "source": [
        "<a href=\"https://colab.research.google.com/github/gomdoori/AI/blob/main/GAN.ipynb\" target=\"_parent\"><img src=\"https://colab.research.google.com/assets/colab-badge.svg\" alt=\"Open In Colab\"/></a>"
      ]
    },
    {
      "cell_type": "code",
      "execution_count": null,
      "metadata": {
        "id": "I3dSOk3QxFbm"
      },
      "outputs": [],
      "source": [
        "import math\n",
        "import torch\n",
        "import matplotlib.pyplot as plt\n",
        "import numpy as np\n",
        "import pandas as pd\n",
        "import torch.nn as nn\n",
        "import torch.optim as optim"
      ]
    },
    {
      "cell_type": "code",
      "source": [
        "import torchvision\n",
        "import torchvision.transforms as transforms\n",
        "from torch.utils.data import TensorDataset, DataLoader\n",
        "import torchvision.datasets as datasets"
      ],
      "metadata": {
        "id": "CCK_GsrryL22"
      },
      "execution_count": null,
      "outputs": []
    },
    {
      "cell_type": "code",
      "source": [
        "# 디바이스 할당\n",
        "device = torch.device(\"cuda:0\" if torch.cuda.is_available() else \"cpu\")\n",
        "print(device)"
      ],
      "metadata": {
        "colab": {
          "base_uri": "https://localhost:8080/"
        },
        "id": "U_E_eFEUyau3",
        "outputId": "c3b64a4f-c6f8-44d2-939c-d56cad21234a"
      },
      "execution_count": null,
      "outputs": [
        {
          "output_type": "stream",
          "name": "stdout",
          "text": [
            "cuda:0\n"
          ]
        }
      ]
    },
    {
      "cell_type": "code",
      "source": [
        "image_sz = 64"
      ],
      "metadata": {
        "id": "UgYwFGVHyfae"
      },
      "execution_count": null,
      "outputs": []
    },
    {
      "cell_type": "code",
      "source": [
        "transform = transforms.Compose([\n",
        "    transforms.Resize((image_sz, image_sz)),\n",
        "    transforms.ToTensor(),\n",
        "    transforms.Normalize((0.5,), (0.5,))\n",
        "])"
      ],
      "metadata": {
        "id": "dmmhTrtVymCP"
      },
      "execution_count": null,
      "outputs": []
    },
    {
      "cell_type": "code",
      "source": [
        "train_dataset = datasets.FashionMNIST(root='./data', train=True, transform=transform, download=True)"
      ],
      "metadata": {
        "id": "jX_OGARNy0OH"
      },
      "execution_count": null,
      "outputs": []
    },
    {
      "cell_type": "code",
      "source": [
        "batch_size = 512\n",
        "\n",
        "train_loader = DataLoader(train_dataset, batch_size=batch_size, shuffle=True)"
      ],
      "metadata": {
        "id": "Wb7P6yEGzBWw"
      },
      "execution_count": null,
      "outputs": []
    },
    {
      "cell_type": "code",
      "source": [
        "nz = 128 # 잠재 벡터의 크기"
      ],
      "metadata": {
        "id": "nrjbmhJ5zKwQ"
      },
      "execution_count": null,
      "outputs": []
    },
    {
      "cell_type": "code",
      "source": [
        "class Generator(nn.Module):\n",
        "    def __init__(self, nz):\n",
        "        super(Generator, self).__init__()\n",
        "        self.nz = nz\n",
        "        self.main = nn.Sequential(\n",
        "\n",
        "            nn.Linear(self.nz, 256),\n",
        "            nn.LeakyReLU(0.2),\n",
        "\n",
        "            nn.Linear(256, 512),\n",
        "            nn.LeakyReLU(0.2),\n",
        "\n",
        "            nn.Linear(512, 1024),\n",
        "            nn.LeakyReLU(0.2),\n",
        "\n",
        "            nn.Linear(1024, 2048),\n",
        "            nn.LeakyReLU(0.2),\n",
        "\n",
        "            nn.Linear(2048, 4096),\n",
        "            nn.LeakyReLU(0.2),\n",
        "\n",
        "            nn.Linear(4096, 4096), # 4096 = 64*64\n",
        "            nn.Tanh()\n",
        "        )\n",
        "\n",
        "    def forward(self, x):\n",
        "        return self.main(x).view(-1,1,64,64)"
      ],
      "metadata": {
        "id": "G7r_9C4UzRL8"
      },
      "execution_count": null,
      "outputs": []
    },
    {
      "cell_type": "code",
      "source": [
        "class Discriminator(nn.Module):\n",
        "  def __init__(self):\n",
        "    super(Discriminator, self).__init__()\n",
        "    self.n_input = 4096\n",
        "    self.main = nn.Sequential(\n",
        "\n",
        "        nn.Linear(self.n_input, 4096),\n",
        "        nn.LeakyReLU(0.2),\n",
        "        nn.Dropout(0.3),\n",
        "\n",
        "        nn.Linear(4096, 2048),\n",
        "        nn.LeakyReLU(0.2),\n",
        "        nn.Dropout(0.3),\n",
        "\n",
        "        nn.Linear(2048, 1024),\n",
        "        nn.LeakyReLU(0.2),\n",
        "        nn.Dropout(0.3),\n",
        "\n",
        "        nn.Linear(1024, 512),\n",
        "        nn.LeakyReLU(0.2),\n",
        "        nn.Dropout(0.3),\n",
        "\n",
        "        nn.Linear(512, 256),\n",
        "        nn.LeakyReLU(0.2),\n",
        "        nn.Dropout(0.3),\n",
        "\n",
        "        nn.Linear(256, 1),\n",
        "        nn.Sigmoid()\n",
        "    )\n",
        "\n",
        "  def forward(self, x):\n",
        "    x = x.view(-1, 4096)\n",
        "    return self.main(x)"
      ],
      "metadata": {
        "id": "wHNd2-cW0Tvg"
      },
      "execution_count": null,
      "outputs": []
    },
    {
      "cell_type": "code",
      "source": [
        "generator = Generator(nz).to(device)\n",
        "discriminator = Discriminator().to(device)\n",
        "print(generator)\n",
        "print(discriminator)"
      ],
      "metadata": {
        "colab": {
          "base_uri": "https://localhost:8080/"
        },
        "id": "FgOggHIx1FV5",
        "outputId": "550a587a-7098-49e9-84c1-1b6df4550db3"
      },
      "execution_count": null,
      "outputs": [
        {
          "output_type": "stream",
          "name": "stdout",
          "text": [
            "Generator(\n",
            "  (main): Sequential(\n",
            "    (0): Linear(in_features=128, out_features=256, bias=True)\n",
            "    (1): LeakyReLU(negative_slope=0.2)\n",
            "    (2): Linear(in_features=256, out_features=512, bias=True)\n",
            "    (3): LeakyReLU(negative_slope=0.2)\n",
            "    (4): Linear(in_features=512, out_features=1024, bias=True)\n",
            "    (5): LeakyReLU(negative_slope=0.2)\n",
            "    (6): Linear(in_features=1024, out_features=2048, bias=True)\n",
            "    (7): LeakyReLU(negative_slope=0.2)\n",
            "    (8): Linear(in_features=2048, out_features=4096, bias=True)\n",
            "    (9): LeakyReLU(negative_slope=0.2)\n",
            "    (10): Linear(in_features=4096, out_features=4096, bias=True)\n",
            "    (11): Tanh()\n",
            "  )\n",
            ")\n",
            "Discriminator(\n",
            "  (main): Sequential(\n",
            "    (0): Linear(in_features=4096, out_features=4096, bias=True)\n",
            "    (1): LeakyReLU(negative_slope=0.2)\n",
            "    (2): Dropout(p=0.3, inplace=False)\n",
            "    (3): Linear(in_features=4096, out_features=2048, bias=True)\n",
            "    (4): LeakyReLU(negative_slope=0.2)\n",
            "    (5): Dropout(p=0.3, inplace=False)\n",
            "    (6): Linear(in_features=2048, out_features=1024, bias=True)\n",
            "    (7): LeakyReLU(negative_slope=0.2)\n",
            "    (8): Dropout(p=0.3, inplace=False)\n",
            "    (9): Linear(in_features=1024, out_features=512, bias=True)\n",
            "    (10): LeakyReLU(negative_slope=0.2)\n",
            "    (11): Dropout(p=0.3, inplace=False)\n",
            "    (12): Linear(in_features=512, out_features=256, bias=True)\n",
            "    (13): LeakyReLU(negative_slope=0.2)\n",
            "    (14): Dropout(p=0.3, inplace=False)\n",
            "    (15): Linear(in_features=256, out_features=1, bias=True)\n",
            "    (16): Sigmoid()\n",
            "  )\n",
            ")\n"
          ]
        }
      ]
    },
    {
      "cell_type": "code",
      "source": [
        "optim_g = optim.Adam(generator.parameters(), lr=0.0002)\n",
        "optim_d = optim.Adam(discriminator.parameters(), lr=0.0002)\n",
        "\n",
        "criterion = nn.BCELoss()\n",
        "\n",
        "losses_g = []\n",
        "losses_d = []\n",
        "images = []"
      ],
      "metadata": {
        "id": "ImMABj-r1Kg4"
      },
      "execution_count": null,
      "outputs": []
    },
    {
      "cell_type": "code",
      "source": [
        "def train_discriminator(optimizer, data_real, data_fake):\n",
        "  b_size = data_real.size(0) # 데이터 배치 크기\n",
        "  real_label = torch.ones(b_size, 1).to(device)\n",
        "  fake_label = torch.zeros(b_size, 1).to(device)\n",
        "  optimizer.zero_grad()\n",
        "\n",
        "  output_real = discriminator(data_real)\n",
        "  loss_real = criterion(output_real, real_label)\n",
        "  output_fake = discriminator(data_fake)\n",
        "  loss_fake = criterion(output_fake, fake_label)\n",
        "  loss_total = (loss_real + loss_fake) / 2\n",
        "  loss_total.backward()\n",
        "  optimizer.step()\n",
        "  return loss_total"
      ],
      "metadata": {
        "id": "w_VfB1ZZ1TcY"
      },
      "execution_count": null,
      "outputs": []
    },
    {
      "cell_type": "code",
      "source": [
        "def train_generator(optimizer, data_fake):\n",
        "  b_size = data_fake.size(0)\n",
        "  real_label = torch.ones(b_size, 1).to(device)\n",
        "  optimizer.zero_grad()\n",
        "  output = discriminator(data_fake)\n",
        "  loss = criterion(output, real_label)\n",
        "  loss.backward()\n",
        "  optimizer.step()\n",
        "  return loss"
      ],
      "metadata": {
        "id": "JV-c6jYo27GZ"
      },
      "execution_count": null,
      "outputs": []
    },
    {
      "cell_type": "code",
      "source": [
        "from torchvision.utils import save_image"
      ],
      "metadata": {
        "id": "VG2s350B3II4"
      },
      "execution_count": null,
      "outputs": []
    },
    {
      "cell_type": "code",
      "source": [
        "epochs = 10\n",
        "for epoch in range(epochs):\n",
        "  loss_g = 0.0\n",
        "  loss_d = 0.0\n",
        "  for idx, data in enumerate(train_loader):\n",
        "    image, _ = data\n",
        "    data_real = image.to(device)\n",
        "    b_size = len(data_real)\n",
        "\n",
        "    data_fake = generator(torch.randn(b_size, nz).to(device))\n",
        "    loss_d += train_discriminator(optim_d, data_real, data_fake)\n",
        "\n",
        "    data_fake = generator(torch.randn(b_size, nz).to(device))\n",
        "    loss_g += train_generator(optim_g, data_fake)\n",
        "\n",
        "  epoch_loss_g = loss_g / idx\n",
        "  epoch_loss_d = loss_d / idx\n",
        "  losses_g.append(epoch_loss_g)\n",
        "  losses_d.append(epoch_loss_d)\n",
        "  if epoch%20==0:\n",
        "    print(f\"Epoch {epoch} of {epochs}\")\n",
        "    print(f\"Generator loss: {epoch_loss_g:.8f}, Discriminator loss: {epoch_loss_d:.8f}\")"
      ],
      "metadata": {
        "colab": {
          "base_uri": "https://localhost:8080/"
        },
        "id": "un92Ws2j3O5x",
        "outputId": "1f2ce990-ea69-490f-94b0-18b8649156d0"
      },
      "execution_count": null,
      "outputs": [
        {
          "output_type": "stream",
          "name": "stdout",
          "text": [
            "Epoch 0 of 10\n",
            "Generator loss: 2.11306119, Discriminator loss: 0.41218117\n"
          ]
        }
      ]
    },
    {
      "cell_type": "code",
      "source": [
        "save_image(data_fake, 'result_fake.png', nrow=10, normalize=True)"
      ],
      "metadata": {
        "id": "sJw9RrzF4Q5K"
      },
      "execution_count": null,
      "outputs": []
    },
    {
      "cell_type": "code",
      "source": [
        "save_image(data_real, 'result_real.png', nrow=10, normalize=True)"
      ],
      "metadata": {
        "id": "Q56evMhh4aqK"
      },
      "execution_count": null,
      "outputs": []
    },
    {
      "cell_type": "code",
      "source": [
        "plt.figure()\n",
        "plt.plot(torch.Tensor(losses_g), label='Generator loss')\n",
        "plt.plot(torch.Tensor(losses_d), label='Discriminator loss')\n",
        "plt.legend()"
      ],
      "metadata": {
        "colab": {
          "base_uri": "https://localhost:8080/",
          "height": 109
        },
        "id": "he_KHXKJ4d4a",
        "outputId": "c37dde36-cfd2-4fe4-8232-50daa387fcc2"
      },
      "execution_count": null,
      "outputs": [
        {
          "output_type": "execute_result",
          "data": {
            "text/plain": [
              "<matplotlib.legend.Legend at 0x7e61117bc760>"
            ]
          },
          "metadata": {},
          "execution_count": 20
        },
        {
          "output_type": "display_data",
          "data": {
            "text/plain": [
              "<Figure size 640x480 with 1 Axes>"
            ],
            "image/png": "[encoded data removed]"
          },
          "metadata": {}
        }
      ]
    },
    {
      "cell_type": "code",
      "source": [
        "fake_images = generator(torch.randn(b_size, nz).to(device))\n",
        "for i in range(1):\n",
        "  fake_images_img = np.reshape(fake_images.data.cpu().numpy()[i], (64,64))\n",
        "  plt.imshow(fake_images_img, cmap = 'gray')\n",
        "  plt.show()"
      ],
      "metadata": {
        "colab": {
          "base_uri": "https://localhost:8080/",
          "height": 54
        },
        "id": "KCRoIJMC4m5p",
        "outputId": "ad9b55c3-a761-40cf-b784-7c372de5401a"
      },
      "execution_count": null,
      "outputs": [
        {
          "output_type": "display_data",
          "data": {
            "text/plain": [
              "<Figure size 640x480 with 1 Axes>"
            ],
            "image/png": "[encoded data removed]"
          },
          "metadata": {}
        }
      ]
    },
    {
      "cell_type": "code",
      "source": [
        "for i in range(1):\n",
        "  image, label = train_dataset[i]\n",
        "  plt.imshow(np.transpose(image,(1,2,0)), cmap = 'gray')\n",
        "  plt.show()"
      ],
      "metadata": {
        "colab": {
          "base_uri": "https://localhost:8080/",
          "height": 54
        },
        "id": "_bDjES3776tN",
        "outputId": "12d74333-1cb4-4e31-905f-2d886202039f"
      },
      "execution_count": null,
      "outputs": [
        {
          "output_type": "display_data",
          "data": {
            "text/plain": [
              "<Figure size 640x480 with 1 Axes>"
            ],
            "image/png": "[encoded data removed]"
          },
          "metadata": {}
        }
      ]
    },
    {
      "cell_type": "code",
      "source": [],
      "metadata": {
        "id": "GiEjTeaW8MhF"
      },
      "execution_count": null,
      "outputs": []
    }
  ]
}
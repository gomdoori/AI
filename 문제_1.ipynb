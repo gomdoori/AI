{
  "nbformat": 4,
  "nbformat_minor": 0,
  "metadata": {
    "colab": {
      "provenance": [],
      "include_colab_link": true
    },
    "kernelspec": {
      "name": "python3",
      "display_name": "Python 3"
    },
    "language_info": {
      "name": "python"
    }
  },
  "cells": [
    {
      "cell_type": "markdown",
      "metadata": {
        "id": "view-in-github",
        "colab_type": "text"
      },
      "source": [
        "<a href=\"https://colab.research.google.com/github/gomdoori/user1/blob/main/%EB%AC%B8%EC%A0%9C_1.ipynb\" target=\"_parent\"><img src=\"https://colab.research.google.com/assets/colab-badge.svg\" alt=\"Open In Colab\"/></a>"
      ]
    },
    {
      "cell_type": "markdown",
      "source": [
        "##하나의 변수에 성명/전화번호 형식으로 저장하고 print하시오"
      ],
      "metadata": {
        "id": "7Qajl-mzmqMA"
      }
    },
    {
      "cell_type": "code",
      "source": [
        "Man1={\"name\":'김철수', \"num\":'010-1234-1234'}\n",
        "Man1[\"name\"]\n"
      ],
      "metadata": {
        "id": "Cf6BfoGHmppC",
        "outputId": "e7adad5b-b955-4307-b9fb-6c206df131a5",
        "colab": {
          "base_uri": "https://localhost:8080/",
          "height": 36
        }
      },
      "execution_count": 6,
      "outputs": [
        {
          "data": {
            "application/vnd.google.colaboratory.intrinsic+json": {
              "type": "string"
            },
            "text/plain": [
              "'김철수'"
            ]
          },
          "execution_count": 6,
          "metadata": {},
          "output_type": "execute_result"
        }
      ]
    },
    {
      "cell_type": "markdown",
      "source": [
        "##위에서 저장된 변수에서 전화번호 중간 번호 4자리만 print하시오"
      ],
      "metadata": {
        "id": "01a76lNDm-IR"
      }
    },
    {
      "cell_type": "code",
      "execution_count": null,
      "metadata": {
        "id": "QX2OjsROkwDc"
      },
      "outputs": [],
      "source": []
    },
    {
      "cell_type": "markdown",
      "source": [
        "##주어진 과일이름(사과, 포도, 복숭아, 참외, 수박, 바나나)에 대해 fruits란 리스트를 만들고 각각을 format을 활용해 print 하시오"
      ],
      "metadata": {
        "id": "iwarHaxfk4zW"
      }
    },
    {
      "cell_type": "markdown",
      "source": [],
      "metadata": {
        "id": "RiVwJ1LjmUfP"
      }
    },
    {
      "cell_type": "code",
      "source": [],
      "metadata": {
        "id": "0RS1SIt2mT55"
      },
      "execution_count": null,
      "outputs": []
    },
    {
      "cell_type": "markdown",
      "source": [
        "##fruits에서 복숭아와 바나나 값을 제거하고 멜론과 파인애플을 추가하시오"
      ],
      "metadata": {
        "id": "5cUHva5fmV2F"
      }
    },
    {
      "cell_type": "code",
      "source": [],
      "metadata": {
        "id": "9jXmzvpQlPjS"
      },
      "execution_count": null,
      "outputs": []
    },
    {
      "cell_type": "markdown",
      "source": [
        "##AI소프트웨어 학과 홈페이지를 들어가 교수님들의 연구실 위치를 키 값으로 하고 이에 대해 교수님들이름을 저장하고 Ai라고 변수명을 설정하시오"
      ],
      "metadata": {
        "id": "YVTIP7vulV-9"
      }
    },
    {
      "cell_type": "code",
      "source": [],
      "metadata": {
        "id": "A1Lr9trsli25"
      },
      "execution_count": null,
      "outputs": []
    },
    {
      "cell_type": "markdown",
      "source": [
        "##위의 문제에서 정의된 Ai변수에 명예교수님을 추가하시오 키값 없으므로 특정 번호로 추가"
      ],
      "metadata": {
        "id": "ivd5rK8kljpV"
      }
    },
    {
      "cell_type": "code",
      "source": [],
      "metadata": {
        "id": "OSfGbKq4mJ8T"
      },
      "execution_count": null,
      "outputs": []
    }
  ]
}
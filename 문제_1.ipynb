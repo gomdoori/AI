{
  "nbformat": 4,
  "nbformat_minor": 0,
  "metadata": {
    "colab": {
      "provenance": [],
      "include_colab_link": true
    },
    "kernelspec": {
      "name": "python3",
      "display_name": "Python 3"
    },
    "language_info": {
      "name": "python"
    }
  },
  "cells": [
    {
      "cell_type": "markdown",
      "metadata": {
        "id": "view-in-github",
        "colab_type": "text"
      },
      "source": [
        "<a href=\"https://colab.research.google.com/github/gomdoori/user1/blob/main/%EB%AC%B8%EC%A0%9C_1.ipynb\" target=\"_parent\"><img src=\"https://colab.research.google.com/assets/colab-badge.svg\" alt=\"Open In Colab\"/></a>"
      ]
    },
    {
      "cell_type": "markdown",
      "source": [
        "##하나의 변수에 성명/전화번호 형식으로 저장하고 print하시오"
      ],
      "metadata": {
        "id": "7Qajl-mzmqMA"
      }
    },
    {
      "cell_type": "code",
      "source": [
        "Man1={\"name\":'김철수', \"num\":'010-1234-1234'}\n",
        "\n",
        "Man1"
      ],
      "metadata": {
        "id": "Cf6BfoGHmppC",
        "colab": {
          "base_uri": "https://localhost:8080/"
        },
        "outputId": "74299f4f-6385-4fec-8afe-83be9453c52f"
      },
      "execution_count": 38,
      "outputs": [
        {
          "output_type": "execute_result",
          "data": {
            "text/plain": [
              "{'name': '김철수', 'num': '010-1234-1234'}"
            ]
          },
          "metadata": {},
          "execution_count": 38
        }
      ]
    },
    {
      "cell_type": "markdown",
      "source": [
        "##위에서 저장된 변수에서 전화번호 중간 번호 4자리만 print하시오"
      ],
      "metadata": {
        "id": "01a76lNDm-IR"
      }
    },
    {
      "cell_type": "code",
      "execution_count": 7,
      "metadata": {
        "id": "QX2OjsROkwDc",
        "colab": {
          "base_uri": "https://localhost:8080/",
          "height": 36
        },
        "outputId": "2a22fc09-fb20-4269-956a-e087635c320b"
      },
      "outputs": [
        {
          "output_type": "execute_result",
          "data": {
            "text/plain": [
              "'1234'"
            ],
            "application/vnd.google.colaboratory.intrinsic+json": {
              "type": "string"
            }
          },
          "metadata": {},
          "execution_count": 7
        }
      ],
      "source": [
        "Man1['num'][4:8]"
      ]
    },
    {
      "cell_type": "markdown",
      "source": [
        "##주어진 과일이름(사과, 포도, 복숭아, 참외, 수박, 바나나)에 대해 fruits란 리스트를 만들고 각각을 format을 활용해 print 하시오"
      ],
      "metadata": {
        "id": "iwarHaxfk4zW"
      }
    },
    {
      "cell_type": "markdown",
      "source": [],
      "metadata": {
        "id": "RiVwJ1LjmUfP"
      }
    },
    {
      "cell_type": "code",
      "source": [
        "fruits={0:'사과', 1:'포도', 2:'복숭아', 3:'참외', 4:'수박', 5:'바나나'}\n",
        "\n",
        "for i in range(0,6):\n",
        " print(('{}').format(fruits[i]))"
      ],
      "metadata": {
        "id": "0RS1SIt2mT55",
        "colab": {
          "base_uri": "https://localhost:8080/"
        },
        "outputId": "210c1561-6290-45df-b1ef-3102329fd96d"
      },
      "execution_count": 65,
      "outputs": [
        {
          "output_type": "stream",
          "name": "stdout",
          "text": [
            "사과\n",
            "포도\n",
            "복숭아\n",
            "참외\n",
            "수박\n",
            "바나나\n"
          ]
        }
      ]
    },
    {
      "cell_type": "markdown",
      "source": [
        "##fruits에서 복숭아와 바나나 값을 제거하고 멜론과 파인애플을 추가하시오"
      ],
      "metadata": {
        "id": "5cUHva5fmV2F"
      }
    },
    {
      "cell_type": "code",
      "source": [
        "fruits.pop(2)\n",
        "fruits.pop(5)\n",
        "\n",
        "fruits.append(멜론)\n",
        "fruits.append(파인애플)\n",
        "\n",
        "fruits"
      ],
      "metadata": {
        "id": "9jXmzvpQlPjS",
        "colab": {
          "base_uri": "https://localhost:8080/",
          "height": 241
        },
        "outputId": "61afcf5f-84c6-4a11-9f39-8c291ffb19e2"
      },
      "execution_count": 70,
      "outputs": [
        {
          "output_type": "error",
          "ename": "KeyError",
          "evalue": "ignored",
          "traceback": [
            "\u001b[0;31m---------------------------------------------------------------------------\u001b[0m",
            "\u001b[0;31mKeyError\u001b[0m                                  Traceback (most recent call last)",
            "\u001b[0;32m<ipython-input-70-4cd69ee0ce0e>\u001b[0m in \u001b[0;36m<module>\u001b[0;34m\u001b[0m\n\u001b[0;32m----> 1\u001b[0;31m \u001b[0mfruits\u001b[0m\u001b[0;34m.\u001b[0m\u001b[0mpop\u001b[0m\u001b[0;34m(\u001b[0m\u001b[0;36m2\u001b[0m\u001b[0;34m)\u001b[0m\u001b[0;34m\u001b[0m\u001b[0;34m\u001b[0m\u001b[0m\n\u001b[0m\u001b[1;32m      2\u001b[0m \u001b[0mfruits\u001b[0m\u001b[0;34m.\u001b[0m\u001b[0mpop\u001b[0m\u001b[0;34m(\u001b[0m\u001b[0;36m5\u001b[0m\u001b[0;34m)\u001b[0m\u001b[0;34m\u001b[0m\u001b[0;34m\u001b[0m\u001b[0m\n\u001b[1;32m      3\u001b[0m \u001b[0;34m\u001b[0m\u001b[0m\n\u001b[1;32m      4\u001b[0m \u001b[0mfruits\u001b[0m\u001b[0;34m.\u001b[0m\u001b[0mappend\u001b[0m\u001b[0;34m(\u001b[0m\u001b[0m멜론\u001b[0m\u001b[0;34m)\u001b[0m\u001b[0;34m\u001b[0m\u001b[0;34m\u001b[0m\u001b[0m\n\u001b[1;32m      5\u001b[0m \u001b[0mfruits\u001b[0m\u001b[0;34m.\u001b[0m\u001b[0mappend\u001b[0m\u001b[0;34m(\u001b[0m\u001b[0m파인애플\u001b[0m\u001b[0;34m)\u001b[0m\u001b[0;34m\u001b[0m\u001b[0;34m\u001b[0m\u001b[0m\n",
            "\u001b[0;31mKeyError\u001b[0m: 2"
          ]
        }
      ]
    },
    {
      "cell_type": "markdown",
      "source": [
        "##AI소프트웨어 학과 홈페이지를 들어가 교수님들의 연구실 위치를 키 값으로 하고 이에 대해 교수님들이름을 저장하고 Ai라고 변수명을 설정하시오"
      ],
      "metadata": {
        "id": "YVTIP7vulV-9"
      }
    },
    {
      "cell_type": "code",
      "source": [
        "prof_name={0:'유희경', 1:'황득영', 2:'홍종성', 3:'오형술', 4:'장영관', 5:'문성동', 6:'윤인섭', 7:'전계원', 8:'곽동걸', 9:'윤종철', 10:'김병식', 11:'박은희', 12:'이두호', 13:'권세진', 14:'이태민', 15:'성장현', 16:'조기필', 17:'김창균'}\n",
        "prof_num={0:'033-570-6371', 1:'033-570-6376',2:'033-570-6373', 3:'033-570-6584', 4:'033-570-6585', 5:'033-570-6586', 6:'033-570-6374', 7:'033-570-6816', 8:'033-570-6823', 9:'033-570-6869', 10:'033-570-6819', 11:'033-570-6372', 12:'033-570-6583', 13:'033-570-6377', 14:'033-570-6378', 15:'033-570-6806', 16:'033-570-6375', 17:'033-570-6587'}"
      ],
      "metadata": {
        "id": "A1Lr9trsli25"
      },
      "execution_count": null,
      "outputs": []
    },
    {
      "cell_type": "markdown",
      "source": [
        "##위의 문제에서 정의된 Ai변수에 명예교수님을 추가하시오 키값 없으므로 특정 번호로 추가"
      ],
      "metadata": {
        "id": "ivd5rK8kljpV"
      }
    },
    {
      "cell_type": "code",
      "source": [],
      "metadata": {
        "id": "OSfGbKq4mJ8T"
      },
      "execution_count": null,
      "outputs": []
    }
  ]
}
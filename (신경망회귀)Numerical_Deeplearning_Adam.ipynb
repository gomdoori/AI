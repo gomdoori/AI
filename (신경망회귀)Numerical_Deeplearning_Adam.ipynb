{
  "nbformat": 4,
  "nbformat_minor": 0,
  "metadata": {
    "colab": {
      "provenance": [],
      "include_colab_link": true
    },
    "kernelspec": {
      "name": "python3",
      "display_name": "Python 3"
    },
    "language_info": {
      "name": "python"
    }
  },
  "cells": [
    {
      "cell_type": "markdown",
      "metadata": {
        "id": "view-in-github",
        "colab_type": "text"
      },
      "source": [
        "<a href=\"https://colab.research.google.com/github/gomdoori/AI/blob/main/(%E1%84%89%E1%85%B5%E1%86%AB%E1%84%80%E1%85%A7%E1%86%BC%E1%84%86%E1%85%A1%E1%86%BC%E1%84%92%E1%85%AC%E1%84%80%E1%85%B1)Numerical_Deeplearning_Adam.ipynb\" target=\"_parent\"><img src=\"https://colab.research.google.com/assets/colab-badge.svg\" alt=\"Open In Colab\"/></a>"
      ]
    },
    {
      "cell_type": "code",
      "execution_count": null,
      "metadata": {
        "id": "CJwZcl6Wsc83"
      },
      "outputs": [],
      "source": [
        "import numpy as np\n",
        "import pandas as pd\n",
        "import matplotlib.pyplot as plt"
      ]
    },
    {
      "cell_type": "code",
      "source": [
        "from google.colab import drive\n",
        "drive.mount('/content/drive')"
      ],
      "metadata": {
        "id": "el5gOjUusl_7",
        "colab": {
          "base_uri": "https://localhost:8080/"
        },
        "outputId": "6bb8c690-2ee0-4650-ac42-1c4f8863c523"
      },
      "execution_count": null,
      "outputs": [
        {
          "output_type": "stream",
          "name": "stdout",
          "text": [
            "Drive already mounted at /content/drive; to attempt to forcibly remount, call drive.mount(\"/content/drive\", force_remount=True).\n"
          ]
        }
      ]
    },
    {
      "cell_type": "code",
      "source": [
        "data = pd.read_excel('drive/MyDrive/Colab Notebooks/Numerical_DL_Data/backpropagation_ex2.xlsx')"
      ],
      "metadata": {
        "id": "uf7s2fRh02FU"
      },
      "execution_count": null,
      "outputs": []
    },
    {
      "cell_type": "code",
      "source": [
        "data = np.array(data)"
      ],
      "metadata": {
        "id": "hGV3tEnV02Io"
      },
      "execution_count": null,
      "outputs": []
    },
    {
      "cell_type": "code",
      "source": [
        "X = data[:,0:2]\n",
        "Y = data[:,2:3]"
      ],
      "metadata": {
        "id": "hF_US1yn02LO"
      },
      "execution_count": null,
      "outputs": []
    },
    {
      "cell_type": "code",
      "source": [
        "X = (X - np.min(X,axis=0))/(np.max(X,axis=0) - np.min(X,axis=0))"
      ],
      "metadata": {
        "id": "TMYzZqE902N6"
      },
      "execution_count": null,
      "outputs": []
    },
    {
      "cell_type": "code",
      "source": [
        "def get_mini_batches(x, y, batch_size):\n",
        "    N = x.shape[0]  # 전체 데이터 개수\n",
        "    mini_batches = []  # 미니배치를 저장할 리스트\n",
        "\n",
        "    # 데이터를 랜덤하게 섞음\n",
        "    permutation = list(np.random.permutation(N))\n",
        "    shuffled_X = x[permutation]\n",
        "    shuffled_Y = y[permutation]\n",
        "\n",
        "    # 미니배치로 나누기\n",
        "    num_complete_batches = N // batch_size  # 미니배치로 완전히 나눠지는 경우의 수\n",
        "    for k in range(num_complete_batches):\n",
        "        mini_batch_X = shuffled_X[k * batch_size: (k + 1) * batch_size]\n",
        "        mini_batch_Y = shuffled_Y[k * batch_size: (k + 1) * batch_size]\n",
        "        mini_batch = (mini_batch_X, mini_batch_Y)\n",
        "        mini_batches.append(mini_batch)\n",
        "\n",
        "    # 나머지 데이터 처리\n",
        "    if N % batch_size != 0:\n",
        "        mini_batch_X = shuffled_X[num_complete_batches * batch_size:]\n",
        "        mini_batch_Y = shuffled_Y[num_complete_batches * batch_size:]\n",
        "        mini_batch = (mini_batch_X, mini_batch_Y)\n",
        "        mini_batches.append(mini_batch)\n",
        "\n",
        "    return mini_batches"
      ],
      "metadata": {
        "id": "_yaLAkrX1Yco"
      },
      "execution_count": null,
      "outputs": []
    },
    {
      "cell_type": "code",
      "source": [
        "beta1 = 0.9\n",
        "beta2 = 0.999\n",
        "epsilon = 1e-8\n",
        "alpha = 0.01"
      ],
      "metadata": {
        "id": "7U3HRyNvVyL-"
      },
      "execution_count": null,
      "outputs": []
    },
    {
      "cell_type": "code",
      "source": [
        "# 3층 신경망 클래스\n",
        "# ReLU 활성화 함수\n",
        "def relu(x):\n",
        "    return np.maximum(0, x)\n",
        "\n",
        "def relu_derivative(x):\n",
        "    return np.where(x > 0, 1, 0)\n",
        "\n",
        "\n",
        "class Three_NN_relu:\n",
        "    def __init__(self):\n",
        "        # 가중치 초기화\n",
        "\n",
        "        self.W1 = np.random.randn(2, 3)\n",
        "        self.W2 = np.random.randn(3, 2)\n",
        "        self.W3 = np.random.randn(2, 1)\n",
        "\n",
        "        self.B1 = np.random.randn(1, 3)\n",
        "        self.B2 = np.random.randn(1, 2)\n",
        "        self.B3 = np.random.randn(1, 1)\n",
        "\n",
        "        self.r_W1, self.v_W1 = np.zeros_like(self.W1), np.zeros_like(self.W1)\n",
        "        self.r_W2, self.v_W2 = np.zeros_like(self.W2), np.zeros_like(self.W2)\n",
        "        self.r_W3, self.v_W3 = np.zeros_like(self.W3), np.zeros_like(self.W3)\n",
        "        self.r_B1, self.v_B1 = np.zeros_like(self.B1), np.zeros_like(self.B1)\n",
        "        self.r_B2, self.v_B2 = np.zeros_like(self.B2), np.zeros_like(self.B2)\n",
        "        self.r_B3, self.v_B3 = np.zeros_like(self.B3), np.zeros_like(self.B3)\n",
        "\n",
        "        self.t = 0\n",
        "\n",
        "    def forward(self, x):\n",
        "        # 순방향 전파\n",
        "        self.A1 = np.dot(x, self.W1) + self.B1\n",
        "        self.Z1 = relu(self.A1)\n",
        "        self.A2 = np.dot(self.Z1, self.W2) + self.B2\n",
        "        self.Z2 = relu(self.A2)\n",
        "        self.Y_hat = np.dot(self.Z2, self.W3) + self.B3\n",
        "        return self.Y_hat\n",
        "\n",
        "    def backward(self, x, y):\n",
        "        # 오차역전파\n",
        "        self.t += 1\n",
        "        N = len(x)\n",
        "\n",
        "        deri_Loss = self.Y_hat - y\n",
        "        dW3 = (2 / N) * np.dot(self.Z2.T, deri_Loss)\n",
        "        db3 = (2 / N) * np.sum(deri_Loss, axis=0)\n",
        "\n",
        "        deri_a2 = np.dot(deri_Loss, self.W3.T) * relu_derivative(self.A2)\n",
        "        dW2 = (2 / N) * np.dot(self.Z1.T, deri_a2)\n",
        "        db2 = (2 / N) * np.sum(deri_a2, axis=0)\n",
        "\n",
        "        deri_a1 = np.dot(deri_a2, self.W2.T) * relu_derivative(self.A1)\n",
        "        dW1 = (2 / N) * np.dot(x.T, deri_a1)\n",
        "        db1 = (2 / N) * np.sum(deri_a1, axis=0)\n",
        "\n",
        "        # 가중치 업데이트\n",
        "\n",
        "        self.v_W3 = beta1 * self.v_W3 + (1 - beta1) * dW3\n",
        "        self.r_W3 = beta2 * self.r_W3 + (1 - beta2) * (dW3 ** 2)\n",
        "        v_hat_W3 = self.v_W3 / (1 - beta1 ** self.t)\n",
        "        r_hat_W3 = self.r_W3 / (1 - beta2 ** self.t)\n",
        "        self.W3 -= alpha * v_hat_W3 / (np.sqrt(r_hat_W3) + epsilon)\n",
        "\n",
        "        self.v_W2 = beta1 * self.v_W2 + (1 - beta1) * dW2\n",
        "        self.r_W2 = beta2 * self.r_W2 + (1 - beta2) * (dW2 ** 2)\n",
        "        v_hat_W2 = self.v_W2 / (1 - beta1 ** self.t)\n",
        "        r_hat_W2 = self.r_W2 / (1 - beta2 ** self.t)\n",
        "        self.W2 -= alpha * v_hat_W2 / (np.sqrt(r_hat_W2) + epsilon)\n",
        "\n",
        "        self.v_W1 = beta1 * self.v_W1 + (1 - beta1) * dW1\n",
        "        self.r_W1 = beta2 * self.r_W1 + (1 - beta2) * (dW1 ** 2)\n",
        "        v_hat_W1 = self.v_W1 / (1 - beta1 ** self.t)\n",
        "        r_hat_W1 = self.r_W1 / (1 - beta2 ** self.t)\n",
        "        self.W1 -= alpha * v_hat_W1 / (np.sqrt(r_hat_W1) + epsilon)\n",
        "\n",
        "        self.v_B3 = beta1 * self.v_B3 + (1 - beta1) * db3\n",
        "        self.r_B3 = beta2 * self.r_B3 + (1 - beta2) * (db3 ** 2)\n",
        "        v_hat_B3 = self.v_B3 / (1 - beta1 ** self.t)\n",
        "        r_hat_B3 = self.r_B3 / (1 - beta2 ** self.t)\n",
        "        self.B3 -= alpha * v_hat_B3 / (np.sqrt(r_hat_B3) + epsilon)\n",
        "\n",
        "        self.v_B2 = beta1 * self.v_B2 + (1 - beta1) * db2\n",
        "        self.r_B2 = beta2 * self.r_B2 + (1 - beta2) * (db2 ** 2)\n",
        "        v_hat_B2 = self.v_B2 / (1 - beta1 ** self.t)\n",
        "        r_hat_B2 = self.r_B2 / (1 - beta2 ** self.t)\n",
        "        self.B2 -= alpha * v_hat_B2 / (np.sqrt(r_hat_B2) + epsilon)\n",
        "\n",
        "        self.v_B1 = beta1 * self.v_B1 + (1 - beta1) * db1\n",
        "        self.r_B1 = beta2 * self.r_B1 + (1 - beta2) * (db1 ** 2)\n",
        "        v_hat_B1 = self.v_B1 / (1 - beta1 ** self.t)\n",
        "        r_hat_B1 = self.r_B1 / (1 - beta2 ** self.t)\n",
        "        self.B1 -= alpha * v_hat_B1 / (np.sqrt(r_hat_B1) + epsilon)"
      ],
      "metadata": {
        "id": "Whd-f2zma-KC"
      },
      "execution_count": null,
      "outputs": []
    },
    {
      "cell_type": "code",
      "source": [
        "batch_size = 16\n",
        "np.random.seed(0)\n",
        "mini_batches = get_mini_batches(X, Y, batch_size)\n",
        "model_relu = Three_NN_relu()"
      ],
      "metadata": {
        "id": "F8z6Wnoo02V7"
      },
      "execution_count": null,
      "outputs": []
    },
    {
      "cell_type": "code",
      "source": [
        "loss_record_relu = []\n",
        "epochs = 5000\n",
        "\n",
        "for epoch in range(epochs):\n",
        "    for mini_batch in mini_batches:\n",
        "        mini_batch_X, mini_batch_Y = mini_batch\n",
        "        mini_Y_hat = model_relu.forward(mini_batch_X)\n",
        "        model_relu.backward(mini_batch_X,mini_batch_Y)\n",
        "\n",
        "    Y_hat = model_relu.forward(X)\n",
        "    Loss = np.sum(np.square(Y_hat - Y))/len(X)\n",
        "    loss_record_relu.append(Loss)\n",
        "    if epoch % 1000 == 0:\n",
        "        print(f'Epoch {epoch} of {epochs}')\n",
        "        print(f'train loss: {Loss:.8f}')"
      ],
      "metadata": {
        "id": "NOpz_9TG02Yv",
        "colab": {
          "base_uri": "https://localhost:8080/"
        },
        "outputId": "ddd43b97-dfdc-4da8-db81-160f745d3577"
      },
      "execution_count": null,
      "outputs": [
        {
          "output_type": "stream",
          "name": "stdout",
          "text": [
            "Epoch 0 of 5000\n",
            "train loss: 29.22532193\n",
            "Epoch 1000 of 5000\n",
            "train loss: 0.01677347\n",
            "Epoch 2000 of 5000\n",
            "train loss: 0.01672045\n",
            "Epoch 3000 of 5000\n",
            "train loss: 0.01668317\n",
            "Epoch 4000 of 5000\n",
            "train loss: 0.01665619\n"
          ]
        }
      ]
    },
    {
      "cell_type": "code",
      "source": [
        "plt.figure(figsize = (7,5))\n",
        "plt.plot(loss_record_relu,'b',label='train_error')\n",
        "plt.legend()\n",
        "plt.show()"
      ],
      "metadata": {
        "id": "jnEKX_Js02eS",
        "colab": {
          "base_uri": "https://localhost:8080/",
          "height": 445
        },
        "outputId": "313697b0-7393-4e0a-9696-dc7da89e0c73"
      },
      "execution_count": null,
      "outputs": [
        {
          "output_type": "display_data",
          "data": {
            "text/plain": [
              "<Figure size 700x500 with 1 Axes>"
            ],
            "image/png": "[encoded data removed]"
          },
          "metadata": {}
        }
      ]
    },
    {
      "cell_type": "code",
      "source": [
        "plt.figure(figsize = (7,5))\n",
        "x_t = np.linspace(0,np.max(Y),100)\n",
        "y_t = x_t\n",
        "plt.plot(x_t,y_t,'-k',label='line')\n",
        "plt.plot(Y,Y_hat,'*b',label='Observe_Pred')\n",
        "plt.xlabel('Observed')\n",
        "plt.ylabel('Predicted')\n",
        "plt.legend()\n",
        "plt.show()"
      ],
      "metadata": {
        "id": "RaGrw6os02g8",
        "colab": {
          "base_uri": "https://localhost:8080/",
          "height": 465
        },
        "outputId": "604a222d-55e9-4299-8166-d9fcfdaa86e6"
      },
      "execution_count": null,
      "outputs": [
        {
          "output_type": "display_data",
          "data": {
            "text/plain": [
              "<Figure size 700x500 with 1 Axes>"
            ],
            "image/png": "[encoded data removed]"
          },
          "metadata": {}
        }
      ]
    },
    {
      "cell_type": "code",
      "source": [],
      "metadata": {
        "id": "ei-uGmDhgI7E"
      },
      "execution_count": null,
      "outputs": []
    }
  ]
}
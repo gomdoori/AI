{
  "nbformat": 4,
  "nbformat_minor": 0,
  "metadata": {
    "colab": {
      "provenance": [],
      "gpuType": "T4",
      "include_colab_link": true
    },
    "kernelspec": {
      "name": "python3",
      "display_name": "Python 3"
    },
    "language_info": {
      "name": "python"
    },
    "accelerator": "GPU",
    "gpuClass": "standard"
  },
  "cells": [
    {
      "cell_type": "markdown",
      "metadata": {
        "id": "view-in-github",
        "colab_type": "text"
      },
      "source": [
        "<a href=\"https://colab.research.google.com/github/gomdoori/AI/blob/main/PINN_1_(Termination_Speed).ipynb\" target=\"_parent\"><img src=\"https://colab.research.google.com/assets/colab-badge.svg\" alt=\"Open In Colab\"/></a>"
      ]
    },
    {
      "cell_type": "code",
      "execution_count": null,
      "metadata": {
        "id": "TFrAaNzFBeMr"
      },
      "outputs": [],
      "source": [
        "import math\n",
        "import torch\n",
        "import matplotlib.pyplot as plt\n",
        "import numpy as np\n",
        "import pandas as pd\n",
        "import torch.nn as nn\n",
        "import torch.optim as optim\n",
        "import torch.autograd as autograd"
      ]
    },
    {
      "cell_type": "code",
      "source": [
        "# 디바이스 할당\n",
        "device = torch.device(\"cuda:0\" if torch.cuda.is_available() else \"cpu\")\n",
        "print(device)"
      ],
      "metadata": {
        "colab": {
          "base_uri": "https://localhost:8080/"
        },
        "id": "E2my2PdsCN3M",
        "outputId": "367c5633-67c5-491a-b90c-549eb4db5098"
      },
      "execution_count": null,
      "outputs": [
        {
          "output_type": "stream",
          "name": "stdout",
          "text": [
            "cuda:0\n"
          ]
        }
      ]
    },
    {
      "cell_type": "code",
      "source": [
        "from google.colab import drive\n",
        "drive.mount('/content/drive')"
      ],
      "metadata": {
        "colab": {
          "base_uri": "https://localhost:8080/"
        },
        "id": "9q7PrNaICahR",
        "outputId": "4ad79c1a-e091-4c92-89d7-478c473bd27e"
      },
      "execution_count": null,
      "outputs": [
        {
          "output_type": "stream",
          "name": "stdout",
          "text": [
            "Mounted at /content/drive\n"
          ]
        }
      ]
    },
    {
      "cell_type": "code",
      "source": [
        "data = pd.read_excel('drive/MyDrive/Colab Notebooks/PINN/Deeplearning_class/PINN_ex1.xlsx')"
      ],
      "metadata": {
        "id": "EEgUU02UCt2C"
      },
      "execution_count": null,
      "outputs": []
    },
    {
      "cell_type": "code",
      "source": [
        "data"
      ],
      "metadata": {
        "colab": {
          "base_uri": "https://localhost:8080/",
          "height": 423
        },
        "id": "dD98ldcKDQzE",
        "outputId": "d43c7d2c-a678-4c83-b707-86f760006cca"
      },
      "execution_count": null,
      "outputs": [
        {
          "output_type": "execute_result",
          "data": {
            "text/plain": [
              "    time  Height(m)\n",
              "0    0.0   1000.000\n",
              "1    0.2    999.804\n",
              "2    0.4    999.216\n",
              "3    0.6    998.236\n",
              "4    0.8    996.864\n",
              "..   ...        ...\n",
              "66  13.2    146.224\n",
              "67  13.4    120.156\n",
              "68  13.6     93.696\n",
              "69  13.8     66.844\n",
              "70  14.0     39.600\n",
              "\n",
              "[71 rows x 2 columns]"
            ],
            "text/html": [
              "\n",
              "  <div id=\"df-e1bc3cf9-c6f3-4ea7-b22b-c6903e675e0b\" class=\"colab-df-container\">\n",
              "    <div>\n",
              "<style scoped>\n",
              "    .dataframe tbody tr th:only-of-type {\n",
              "        vertical-align: middle;\n",
              "    }\n",
              "\n",
              "    .dataframe tbody tr th {\n",
              "        vertical-align: top;\n",
              "    }\n",
              "\n",
              "    .dataframe thead th {\n",
              "        text-align: right;\n",
              "    }\n",
              "</style>\n",
              "<table border=\"1\" class=\"dataframe\">\n",
              "  <thead>\n",
              "    <tr style=\"text-align: right;\">\n",
              "      <th></th>\n",
              "      <th>time</th>\n",
              "      <th>Height(m)</th>\n",
              "    </tr>\n",
              "  </thead>\n",
              "  <tbody>\n",
              "    <tr>\n",
              "      <th>0</th>\n",
              "      <td>0.0</td>\n",
              "      <td>1000.000</td>\n",
              "    </tr>\n",
              "    <tr>\n",
              "      <th>1</th>\n",
              "      <td>0.2</td>\n",
              "      <td>999.804</td>\n",
              "    </tr>\n",
              "    <tr>\n",
              "      <th>2</th>\n",
              "      <td>0.4</td>\n",
              "      <td>999.216</td>\n",
              "    </tr>\n",
              "    <tr>\n",
              "      <th>3</th>\n",
              "      <td>0.6</td>\n",
              "      <td>998.236</td>\n",
              "    </tr>\n",
              "    <tr>\n",
              "      <th>4</th>\n",
              "      <td>0.8</td>\n",
              "      <td>996.864</td>\n",
              "    </tr>\n",
              "    <tr>\n",
              "      <th>...</th>\n",
              "      <td>...</td>\n",
              "      <td>...</td>\n",
              "    </tr>\n",
              "    <tr>\n",
              "      <th>66</th>\n",
              "      <td>13.2</td>\n",
              "      <td>146.224</td>\n",
              "    </tr>\n",
              "    <tr>\n",
              "      <th>67</th>\n",
              "      <td>13.4</td>\n",
              "      <td>120.156</td>\n",
              "    </tr>\n",
              "    <tr>\n",
              "      <th>68</th>\n",
              "      <td>13.6</td>\n",
              "      <td>93.696</td>\n",
              "    </tr>\n",
              "    <tr>\n",
              "      <th>69</th>\n",
              "      <td>13.8</td>\n",
              "      <td>66.844</td>\n",
              "    </tr>\n",
              "    <tr>\n",
              "      <th>70</th>\n",
              "      <td>14.0</td>\n",
              "      <td>39.600</td>\n",
              "    </tr>\n",
              "  </tbody>\n",
              "</table>\n",
              "<p>71 rows × 2 columns</p>\n",
              "</div>\n",
              "    <div class=\"colab-df-buttons\">\n",
              "\n",
              "  <div class=\"colab-df-container\">\n",
              "    <button class=\"colab-df-convert\" onclick=\"convertToInteractive('df-e1bc3cf9-c6f3-4ea7-b22b-c6903e675e0b')\"\n",
              "            title=\"Convert this dataframe to an interactive table.\"\n",
              "            style=\"display:none;\">\n",
              "\n",
              "  <svg xmlns=\"http://www.w3.org/2000/svg\" height=\"24px\" viewBox=\"0 -960 960 960\">\n",
              "    <path d=\"M120-120v-720h720v720H120Zm60-500h600v-160H180v160Zm220 220h160v-160H400v160Zm0 220h160v-160H400v160ZM180-400h160v-160H180v160Zm440 0h160v-160H620v160ZM180-180h160v-160H180v160Zm440 0h160v-160H620v160Z\"/>\n",
              "  </svg>\n",
              "    </button>\n",
              "\n",
              "  <style>\n",
              "    .colab-df-container {\n",
              "      display:flex;\n",
              "      gap: 12px;\n",
              "    }\n",
              "\n",
              "    .colab-df-convert {\n",
              "      background-color: #E8F0FE;\n",
              "      border: none;\n",
              "      border-radius: 50%;\n",
              "      cursor: pointer;\n",
              "      display: none;\n",
              "      fill: #1967D2;\n",
              "      height: 32px;\n",
              "      padding: 0 0 0 0;\n",
              "      width: 32px;\n",
              "    }\n",
              "\n",
              "    .colab-df-convert:hover {\n",
              "      background-color: #E2EBFA;\n",
              "      box-shadow: 0px 1px 2px rgba(60, 64, 67, 0.3), 0px 1px 3px 1px rgba(60, 64, 67, 0.15);\n",
              "      fill: #174EA6;\n",
              "    }\n",
              "\n",
              "    .colab-df-buttons div {\n",
              "      margin-bottom: 4px;\n",
              "    }\n",
              "\n",
              "    [theme=dark] .colab-df-convert {\n",
              "      background-color: #3B4455;\n",
              "      fill: #D2E3FC;\n",
              "    }\n",
              "\n",
              "    [theme=dark] .colab-df-convert:hover {\n",
              "      background-color: #434B5C;\n",
              "      box-shadow: 0px 1px 3px 1px rgba(0, 0, 0, 0.15);\n",
              "      filter: drop-shadow(0px 1px 2px rgba(0, 0, 0, 0.3));\n",
              "      fill: #FFFFFF;\n",
              "    }\n",
              "  </style>\n",
              "\n",
              "    <script>\n",
              "      const buttonEl =\n",
              "        document.querySelector('#df-e1bc3cf9-c6f3-4ea7-b22b-c6903e675e0b button.colab-df-convert');\n",
              "      buttonEl.style.display =\n",
              "        google.colab.kernel.accessAllowed ? 'block' : 'none';\n",
              "\n",
              "      async function convertToInteractive(key) {\n",
              "        const element = document.querySelector('#df-e1bc3cf9-c6f3-4ea7-b22b-c6903e675e0b');\n",
              "        const dataTable =\n",
              "          await google.colab.kernel.invokeFunction('convertToInteractive',\n",
              "                                                    [key], {});\n",
              "        if (!dataTable) return;\n",
              "\n",
              "        const docLinkHtml = 'Like what you see? Visit the ' +\n",
              "          '<a target=\"_blank\" href=https://colab.research.google.com/notebooks/data_table.ipynb>data table notebook</a>'\n",
              "          + ' to learn more about interactive tables.';\n",
              "        element.innerHTML = '';\n",
              "        dataTable['output_type'] = 'display_data';\n",
              "        await google.colab.output.renderOutput(dataTable, element);\n",
              "        const docLink = document.createElement('div');\n",
              "        docLink.innerHTML = docLinkHtml;\n",
              "        element.appendChild(docLink);\n",
              "      }\n",
              "    </script>\n",
              "  </div>\n",
              "\n",
              "\n",
              "<div id=\"df-0dbea8e9-e9c0-472f-a5d9-85f60ca4820e\">\n",
              "  <button class=\"colab-df-quickchart\" onclick=\"quickchart('df-0dbea8e9-e9c0-472f-a5d9-85f60ca4820e')\"\n",
              "            title=\"Suggest charts\"\n",
              "            style=\"display:none;\">\n",
              "\n",
              "<svg xmlns=\"http://www.w3.org/2000/svg\" height=\"24px\"viewBox=\"0 0 24 24\"\n",
              "     width=\"24px\">\n",
              "    <g>\n",
              "        <path d=\"M19 3H5c-1.1 0-2 .9-2 2v14c0 1.1.9 2 2 2h14c1.1 0 2-.9 2-2V5c0-1.1-.9-2-2-2zM9 17H7v-7h2v7zm4 0h-2V7h2v10zm4 0h-2v-4h2v4z\"/>\n",
              "    </g>\n",
              "</svg>\n",
              "  </button>\n",
              "\n",
              "<style>\n",
              "  .colab-df-quickchart {\n",
              "      --bg-color: #E8F0FE;\n",
              "      --fill-color: #1967D2;\n",
              "      --hover-bg-color: #E2EBFA;\n",
              "      --hover-fill-color: #174EA6;\n",
              "      --disabled-fill-color: #AAA;\n",
              "      --disabled-bg-color: #DDD;\n",
              "  }\n",
              "\n",
              "  [theme=dark] .colab-df-quickchart {\n",
              "      --bg-color: #3B4455;\n",
              "      --fill-color: #D2E3FC;\n",
              "      --hover-bg-color: #434B5C;\n",
              "      --hover-fill-color: #FFFFFF;\n",
              "      --disabled-bg-color: #3B4455;\n",
              "      --disabled-fill-color: #666;\n",
              "  }\n",
              "\n",
              "  .colab-df-quickchart {\n",
              "    background-color: var(--bg-color);\n",
              "    border: none;\n",
              "    border-radius: 50%;\n",
              "    cursor: pointer;\n",
              "    display: none;\n",
              "    fill: var(--fill-color);\n",
              "    height: 32px;\n",
              "    padding: 0;\n",
              "    width: 32px;\n",
              "  }\n",
              "\n",
              "  .colab-df-quickchart:hover {\n",
              "    background-color: var(--hover-bg-color);\n",
              "    box-shadow: 0 1px 2px rgba(60, 64, 67, 0.3), 0 1px 3px 1px rgba(60, 64, 67, 0.15);\n",
              "    fill: var(--button-hover-fill-color);\n",
              "  }\n",
              "\n",
              "  .colab-df-quickchart-complete:disabled,\n",
              "  .colab-df-quickchart-complete:disabled:hover {\n",
              "    background-color: var(--disabled-bg-color);\n",
              "    fill: var(--disabled-fill-color);\n",
              "    box-shadow: none;\n",
              "  }\n",
              "\n",
              "  .colab-df-spinner {\n",
              "    border: 2px solid var(--fill-color);\n",
              "    border-color: transparent;\n",
              "    border-bottom-color: var(--fill-color);\n",
              "    animation:\n",
              "      spin 1s steps(1) infinite;\n",
              "  }\n",
              "\n",
              "  @keyframes spin {\n",
              "    0% {\n",
              "      border-color: transparent;\n",
              "      border-bottom-color: var(--fill-color);\n",
              "      border-left-color: var(--fill-color);\n",
              "    }\n",
              "    20% {\n",
              "      border-color: transparent;\n",
              "      border-left-color: var(--fill-color);\n",
              "      border-top-color: var(--fill-color);\n",
              "    }\n",
              "    30% {\n",
              "      border-color: transparent;\n",
              "      border-left-color: var(--fill-color);\n",
              "      border-top-color: var(--fill-color);\n",
              "      border-right-color: var(--fill-color);\n",
              "    }\n",
              "    40% {\n",
              "      border-color: transparent;\n",
              "      border-right-color: var(--fill-color);\n",
              "      border-top-color: var(--fill-color);\n",
              "    }\n",
              "    60% {\n",
              "      border-color: transparent;\n",
              "      border-right-color: var(--fill-color);\n",
              "    }\n",
              "    80% {\n",
              "      border-color: transparent;\n",
              "      border-right-color: var(--fill-color);\n",
              "      border-bottom-color: var(--fill-color);\n",
              "    }\n",
              "    90% {\n",
              "      border-color: transparent;\n",
              "      border-bottom-color: var(--fill-color);\n",
              "    }\n",
              "  }\n",
              "</style>\n",
              "\n",
              "  <script>\n",
              "    async function quickchart(key) {\n",
              "      const quickchartButtonEl =\n",
              "        document.querySelector('#' + key + ' button');\n",
              "      quickchartButtonEl.disabled = true;  // To prevent multiple clicks.\n",
              "      quickchartButtonEl.classList.add('colab-df-spinner');\n",
              "      try {\n",
              "        const charts = await google.colab.kernel.invokeFunction(\n",
              "            'suggestCharts', [key], {});\n",
              "      } catch (error) {\n",
              "        console.error('Error during call to suggestCharts:', error);\n",
              "      }\n",
              "      quickchartButtonEl.classList.remove('colab-df-spinner');\n",
              "      quickchartButtonEl.classList.add('colab-df-quickchart-complete');\n",
              "    }\n",
              "    (() => {\n",
              "      let quickchartButtonEl =\n",
              "        document.querySelector('#df-0dbea8e9-e9c0-472f-a5d9-85f60ca4820e button');\n",
              "      quickchartButtonEl.style.display =\n",
              "        google.colab.kernel.accessAllowed ? 'block' : 'none';\n",
              "    })();\n",
              "  </script>\n",
              "</div>\n",
              "\n",
              "  <div id=\"id_80194265-e692-4002-aed1-a5581c6a1123\">\n",
              "    <style>\n",
              "      .colab-df-generate {\n",
              "        background-color: #E8F0FE;\n",
              "        border: none;\n",
              "        border-radius: 50%;\n",
              "        cursor: pointer;\n",
              "        display: none;\n",
              "        fill: #1967D2;\n",
              "        height: 32px;\n",
              "        padding: 0 0 0 0;\n",
              "        width: 32px;\n",
              "      }\n",
              "\n",
              "      .colab-df-generate:hover {\n",
              "        background-color: #E2EBFA;\n",
              "        box-shadow: 0px 1px 2px rgba(60, 64, 67, 0.3), 0px 1px 3px 1px rgba(60, 64, 67, 0.15);\n",
              "        fill: #174EA6;\n",
              "      }\n",
              "\n",
              "      [theme=dark] .colab-df-generate {\n",
              "        background-color: #3B4455;\n",
              "        fill: #D2E3FC;\n",
              "      }\n",
              "\n",
              "      [theme=dark] .colab-df-generate:hover {\n",
              "        background-color: #434B5C;\n",
              "        box-shadow: 0px 1px 3px 1px rgba(0, 0, 0, 0.15);\n",
              "        filter: drop-shadow(0px 1px 2px rgba(0, 0, 0, 0.3));\n",
              "        fill: #FFFFFF;\n",
              "      }\n",
              "    </style>\n",
              "    <button class=\"colab-df-generate\" onclick=\"generateWithVariable('data')\"\n",
              "            title=\"Generate code using this dataframe.\"\n",
              "            style=\"display:none;\">\n",
              "\n",
              "  <svg xmlns=\"http://www.w3.org/2000/svg\" height=\"24px\"viewBox=\"0 0 24 24\"\n",
              "       width=\"24px\">\n",
              "    <path d=\"M7,19H8.4L18.45,9,17,7.55,7,17.6ZM5,21V16.75L18.45,3.32a2,2,0,0,1,2.83,0l1.4,1.43a1.91,1.91,0,0,1,.58,1.4,1.91,1.91,0,0,1-.58,1.4L9.25,21ZM18.45,9,17,7.55Zm-12,3A5.31,5.31,0,0,0,4.9,8.1,5.31,5.31,0,0,0,1,6.5,5.31,5.31,0,0,0,4.9,4.9,5.31,5.31,0,0,0,6.5,1,5.31,5.31,0,0,0,8.1,4.9,5.31,5.31,0,0,0,12,6.5,5.46,5.46,0,0,0,6.5,12Z\"/>\n",
              "  </svg>\n",
              "    </button>\n",
              "    <script>\n",
              "      (() => {\n",
              "      const buttonEl =\n",
              "        document.querySelector('#id_80194265-e692-4002-aed1-a5581c6a1123 button.colab-df-generate');\n",
              "      buttonEl.style.display =\n",
              "        google.colab.kernel.accessAllowed ? 'block' : 'none';\n",
              "\n",
              "      buttonEl.onclick = () => {\n",
              "        google.colab.notebook.generateWithVariable('data');\n",
              "      }\n",
              "      })();\n",
              "    </script>\n",
              "  </div>\n",
              "\n",
              "    </div>\n",
              "  </div>\n"
            ],
            "application/vnd.google.colaboratory.intrinsic+json": {
              "type": "dataframe",
              "variable_name": "data",
              "summary": "{\n  \"name\": \"data\",\n  \"rows\": 71,\n  \"fields\": [\n    {\n      \"column\": \"time\",\n      \"properties\": {\n        \"dtype\": \"number\",\n        \"std\": 4.127953488110059,\n        \"min\": 0.0,\n        \"max\": 14.0,\n        \"num_unique_values\": 71,\n        \"samples\": [\n          4.4,\n          0.0,\n          9.8\n        ],\n        \"semantic_type\": \"\",\n        \"description\": \"\"\n      }\n    },\n    {\n      \"column\": \"Height(m)\",\n      \"properties\": {\n        \"dtype\": \"number\",\n        \"std\": 292.71999920196777,\n        \"min\": 39.59999999999991,\n        \"max\": 1000.0,\n        \"num_unique_values\": 71,\n        \"samples\": [\n          905.136,\n          1000.0,\n          529.4039999999999\n        ],\n        \"semantic_type\": \"\",\n        \"description\": \"\"\n      }\n    }\n  ]\n}"
            }
          },
          "metadata": {},
          "execution_count": 5
        }
      ]
    },
    {
      "cell_type": "code",
      "source": [
        "train_time = 40"
      ],
      "metadata": {
        "id": "od3gcMFWF7CC"
      },
      "execution_count": null,
      "outputs": []
    },
    {
      "cell_type": "code",
      "source": [
        "x_train = data.loc[:train_time,'time'].values\n",
        "y_train = data.loc[:train_time,'Height(m)'].values"
      ],
      "metadata": {
        "id": "IswbMJ88DSoa"
      },
      "execution_count": null,
      "outputs": []
    },
    {
      "cell_type": "code",
      "source": [
        "x_test = data.loc[train_time+1:,'time'].values\n",
        "y_test = data.loc[train_time+1:,'Height(m)'].values"
      ],
      "metadata": {
        "id": "vrUpdKLAGB3w"
      },
      "execution_count": null,
      "outputs": []
    },
    {
      "cell_type": "code",
      "source": [
        "x_train = torch.Tensor(x_train).reshape(-1,1).to(device)\n",
        "y_train = torch.Tensor(y_train).reshape(-1,1).to(device)"
      ],
      "metadata": {
        "id": "-P1qH8RuIeWL"
      },
      "execution_count": null,
      "outputs": []
    },
    {
      "cell_type": "code",
      "source": [
        "x_test = torch.Tensor(x_test).reshape(-1,1).to(device)\n",
        "y_test = torch.Tensor(y_test).reshape(-1,1).to(device)"
      ],
      "metadata": {
        "id": "kEmOD7G5IfG9"
      },
      "execution_count": null,
      "outputs": []
    },
    {
      "cell_type": "code",
      "source": [
        "x_train.shape"
      ],
      "metadata": {
        "colab": {
          "base_uri": "https://localhost:8080/"
        },
        "id": "YIlBM3pGLM5y",
        "outputId": "ee49bd07-c36f-49b2-f035-990837c8520c"
      },
      "execution_count": null,
      "outputs": [
        {
          "output_type": "execute_result",
          "data": {
            "text/plain": [
              "torch.Size([41, 1])"
            ]
          },
          "metadata": {},
          "execution_count": 11
        }
      ]
    },
    {
      "cell_type": "code",
      "source": [
        "n_input = 1\n",
        "n_output = 1\n",
        "n_hidden = 50"
      ],
      "metadata": {
        "id": "qZbWIbLkGA66"
      },
      "execution_count": null,
      "outputs": []
    },
    {
      "cell_type": "code",
      "source": [
        "class Net(nn.Module):\n",
        "    def __init__(self):\n",
        "        super(Net, self).__init__()\n",
        "\n",
        "        self.l1 = nn.Linear(n_input, n_hidden)\n",
        "        self.l2 = nn.Linear(n_hidden, n_hidden)\n",
        "        self.l3 = nn.Linear(n_hidden, n_hidden)\n",
        "        self.l4 = nn.Linear(n_hidden, n_output)\n",
        "\n",
        "        # ReLU 함수 정의\n",
        "        self.relu = nn.ReLU()\n",
        "\n",
        "    def forward(self, x):\n",
        "        x = self.l1(x)\n",
        "        x = self.relu(x)\n",
        "        x = self.l2(x)\n",
        "        x = self.relu(x)\n",
        "        x = self.l3(x)\n",
        "        x = self.relu(x)\n",
        "        x = self.l4(x)\n",
        "        return x"
      ],
      "metadata": {
        "id": "pgYv2D01FeI5"
      },
      "execution_count": null,
      "outputs": []
    },
    {
      "cell_type": "code",
      "source": [
        "torch.cuda.manual_seed(123)\n",
        "\n",
        "model = Net()\n",
        "model = model.to(device)\n",
        "\n",
        "lr = 0.001\n",
        "optimizer = torch.optim.Adam(model.parameters(), lr=lr)"
      ],
      "metadata": {
        "id": "F3tGNe4pFhK6"
      },
      "execution_count": null,
      "outputs": []
    },
    {
      "cell_type": "code",
      "source": [
        "print(model)"
      ],
      "metadata": {
        "colab": {
          "base_uri": "https://localhost:8080/"
        },
        "id": "uiJMHZ-7Fso6",
        "outputId": "1bdcc962-d02f-431a-fe8e-3d2f0b643391"
      },
      "execution_count": null,
      "outputs": [
        {
          "output_type": "stream",
          "name": "stdout",
          "text": [
            "Net(\n",
            "  (l1): Linear(in_features=1, out_features=50, bias=True)\n",
            "  (l2): Linear(in_features=50, out_features=50, bias=True)\n",
            "  (l3): Linear(in_features=50, out_features=50, bias=True)\n",
            "  (l4): Linear(in_features=50, out_features=1, bias=True)\n",
            "  (relu): ReLU()\n",
            ")\n"
          ]
        }
      ]
    },
    {
      "cell_type": "code",
      "source": [
        "loss_train_record=[]\n",
        "loss_test_record=[]\n",
        "for epoch in range(10000):\n",
        "  optimizer.zero_grad()\n",
        "\n",
        "  preds_train = model(x_train)\n",
        "  preds_test = model(x_test)\n",
        "\n",
        "  loss_train = nn.MSELoss()(preds_train,y_train)\n",
        "  loss_test = nn.MSELoss()(preds_test,y_test)\n",
        "\n",
        "  loss_train.backward()\n",
        "  optimizer.step()\n",
        "\n",
        "  loss_train_record.append(loss_train.item())\n",
        "  loss_test_record.append(loss_test.item())\n",
        "  if epoch % 1000 == 0:\n",
        "    print(f'epoch{epoch} loss:{loss_train.item()}, loss_valid:{loss_test.item()}')"
      ],
      "metadata": {
        "colab": {
          "base_uri": "https://localhost:8080/"
        },
        "id": "HwdR2RhIIIAy",
        "outputId": "c0a0236e-3dc0-4a4b-a15b-fa79a854ec79"
      },
      "execution_count": null,
      "outputs": [
        {
          "output_type": "stream",
          "name": "stdout",
          "text": [
            "epoch0 loss:808711.25, loss_valid:181251.921875\n",
            "epoch1000 loss:538.0316162109375, loss_valid:410789.65625\n",
            "epoch2000 loss:458.7069091796875, loss_valid:371059.40625\n",
            "epoch3000 loss:244.23675537109375, loss_valid:304435.75\n",
            "epoch4000 loss:57.37724304199219, loss_valid:215590.375\n",
            "epoch5000 loss:12.987024307250977, loss_valid:177558.515625\n",
            "epoch6000 loss:5.377129554748535, loss_valid:161308.0625\n",
            "epoch7000 loss:3.830388307571411, loss_valid:153535.9375\n",
            "epoch8000 loss:3.169776678085327, loss_valid:149347.625\n",
            "epoch9000 loss:2.8523168563842773, loss_valid:147978.484375\n"
          ]
        }
      ]
    },
    {
      "cell_type": "code",
      "source": [
        "plt.plot(loss_train_record,'b',label='train_error')\n",
        "plt.plot(loss_test_record,'r',label='test_error')\n",
        "plt.legend()\n",
        "plt.show()"
      ],
      "metadata": {
        "colab": {
          "base_uri": "https://localhost:8080/",
          "height": 445
        },
        "id": "RV9PV_2BKkDi",
        "outputId": "2c0eae9c-f9d4-4504-e4d1-6f705ab971cb"
      },
      "execution_count": null,
      "outputs": [
        {
          "output_type": "display_data",
          "data": {
            "text/plain": [
              "<Figure size 640x480 with 1 Axes>"
            ],
            "image/png": "[encoded data removed]"
          },
          "metadata": {}
        }
      ]
    },
    {
      "cell_type": "code",
      "source": [
        "# Plot\n",
        "plt.plot(data['time'],data['Height(m)'],'*',color='black',label='Real_data')\n",
        "plt.plot(x_train.cpu(),preds_train.detach().cpu(),color='blue',label='Predicted_train')\n",
        "plt.plot(x_test.cpu(),preds_test.detach().cpu(),color='red',label='Predicted_test')\n",
        "plt.legend(loc = 'upper right')"
      ],
      "metadata": {
        "colab": {
          "base_uri": "https://localhost:8080/",
          "height": 448
        },
        "id": "g_qq5vrIMisg",
        "outputId": "bc760f48-a916-4e4b-c41a-c0ce0482fcdd"
      },
      "execution_count": null,
      "outputs": [
        {
          "output_type": "execute_result",
          "data": {
            "text/plain": [
              "<matplotlib.legend.Legend at 0x7d57d7b1db10>"
            ]
          },
          "metadata": {},
          "execution_count": 33
        },
        {
          "output_type": "display_data",
          "data": {
            "text/plain": [
              "<Figure size 640x480 with 1 Axes>"
            ],
            "image/png": "[encoded data removed]"
          },
          "metadata": {}
        }
      ]
    },
    {
      "cell_type": "code",
      "source": [
        "def ODE(t):\n",
        "  return -9.8*t"
      ],
      "metadata": {
        "id": "0tIlJXLDN4zD"
      },
      "execution_count": null,
      "outputs": []
    },
    {
      "cell_type": "code",
      "source": [
        "# Set Boundary conditions and initial point:\n",
        "x_H0=torch.Tensor([0])\n",
        "y_H0=torch.Tensor([1000])"
      ],
      "metadata": {
        "id": "UCj1_8fHYXRk"
      },
      "execution_count": null,
      "outputs": []
    },
    {
      "cell_type": "code",
      "source": [
        "# Set the number of collocation points\n",
        "\n",
        "time_start = data.loc[0,'time']\n",
        "time_end = data.loc[len(data)-1,'time']\n",
        "\n",
        "N_colloc = 1000\n",
        "\n",
        "# Collocation points\n",
        "X_colloc = torch.rand(N_colloc,1)*(time_end-time_start)+time_start"
      ],
      "metadata": {
        "id": "RPQmteAfYsjl"
      },
      "execution_count": null,
      "outputs": []
    },
    {
      "cell_type": "code",
      "source": [
        "#Store tensors to GPU\n",
        "X_colloc=X_colloc.to(device)\n",
        "x_H0=x_H0.to(device)\n",
        "y_H0=y_H0.to(device)"
      ],
      "metadata": {
        "id": "gdmVUKZKaTny"
      },
      "execution_count": null,
      "outputs": []
    },
    {
      "cell_type": "code",
      "source": [
        "class PINN_test(nn.Module):\n",
        "    ##Neural Network\n",
        "    def __init__(self):\n",
        "        super().__init__() #call __init__ from parent class\n",
        "\n",
        "        self.tanh = nn.Tanh()\n",
        "\n",
        "        self.l1 = nn.Linear(1, 50)\n",
        "        self.l2 = nn.Linear(50, 50)\n",
        "        self.l3 = nn.Linear(50, 50)\n",
        "        self.l4 = nn.Linear(50, 1)\n",
        "\n",
        "    def forward(self, x):\n",
        "        x = self.l1(x)\n",
        "        x = self.tanh(x)\n",
        "        x = self.l2(x)\n",
        "        x = self.tanh(x)\n",
        "        x = self.l3(x)\n",
        "        x = self.tanh(x)\n",
        "        x = self.l4(x)\n",
        "        return x"
      ],
      "metadata": {
        "id": "OfhAHN8uOHnJ"
      },
      "execution_count": null,
      "outputs": []
    },
    {
      "cell_type": "code",
      "source": [
        "# 난수 고정\n",
        "torch.cuda.manual_seed(123)\n",
        "# 모델 인스턴스 생성\n",
        "model_P = PINN_test()\n",
        "# 모델을 GPU로 전송\n",
        "model_P = model_P.to(device)\n",
        "# 최적화 알고리즘: 경사 하강법\n",
        "optimizer_P = torch.optim.Adam(model_P.parameters(), lr=lr)"
      ],
      "metadata": {
        "id": "IaDn0iUcOHrX"
      },
      "execution_count": null,
      "outputs": []
    },
    {
      "cell_type": "code",
      "source": [
        "loss_train_P=[]\n",
        "loss_test_P=[]\n",
        "steps=50000\n",
        "for i in range(steps):\n",
        "    loss_BC=nn.MSELoss()(model_P.forward(x_H0),y_H0)\n",
        "    X_colloc.requires_grad=True\n",
        "    f=model_P.forward(X_colloc)\n",
        "    f_x=autograd.grad(f,X_colloc,torch.ones([X_colloc.shape[0],1]).to(device),\n",
        "                      retain_graph=True, create_graph=True)[0]\n",
        "    loss_ODE=nn.MSELoss()(f_x,ODE(X_colloc))\n",
        "    loss_Data=nn.MSELoss()(model_P.forward(x_train),y_train)\n",
        "\n",
        "    loss = loss_BC + loss_ODE + loss_Data# use mean squared error\n",
        "\n",
        "    loss_test = nn.MSELoss()(model_P.forward(x_test),y_test)\n",
        "    optimizer_P.zero_grad()\n",
        "    loss.backward()\n",
        "    optimizer_P.step()\n",
        "\n",
        "\n",
        "    loss_train_P.append(loss.item())\n",
        "    loss_test_P.append(loss_test.item())\n",
        "    if i%(steps/10)==0:\n",
        "      print(loss)"
      ],
      "metadata": {
        "colab": {
          "base_uri": "https://localhost:8080/"
        },
        "id": "OGGNBl9oOHus",
        "outputId": "db8e5889-e371-4a3d-e645-1c491df26abf"
      },
      "execution_count": null,
      "outputs": [
        {
          "output_type": "stream",
          "name": "stdout",
          "text": [
            "tensor(1814521.5000, device='cuda:0', grad_fn=<AddBackward0>)\n",
            "tensor(990040.8750, device='cuda:0', grad_fn=<AddBackward0>)\n",
            "tensor(445853.8750, device='cuda:0', grad_fn=<AddBackward0>)\n",
            "tensor(128422.7812, device='cuda:0', grad_fn=<AddBackward0>)\n",
            "tensor(11937.5479, device='cuda:0', grad_fn=<AddBackward0>)\n",
            "tensor(0.9260, device='cuda:0', grad_fn=<AddBackward0>)\n",
            "tensor(0.0032, device='cuda:0', grad_fn=<AddBackward0>)\n",
            "tensor(0.0067, device='cuda:0', grad_fn=<AddBackward0>)\n",
            "tensor(0.3364, device='cuda:0', grad_fn=<AddBackward0>)\n",
            "tensor(0.0072, device='cuda:0', grad_fn=<AddBackward0>)\n"
          ]
        }
      ]
    },
    {
      "cell_type": "code",
      "source": [
        "plt.plot(loss_train_P,'b',label='train_error')\n",
        "plt.plot(loss_test_P,'r',label='test_error')\n",
        "plt.legend()\n",
        "plt.show()"
      ],
      "metadata": {
        "colab": {
          "base_uri": "https://localhost:8080/",
          "height": 445
        },
        "id": "t8zWLGRmPnkc",
        "outputId": "06a68fd2-d7dc-4b9b-8cf9-8d4b45792e4e"
      },
      "execution_count": null,
      "outputs": [
        {
          "output_type": "display_data",
          "data": {
            "text/plain": [
              "<Figure size 640x480 with 1 Axes>"
            ],
            "image/png": "[encoded data removed]"
          },
          "metadata": {}
        }
      ]
    },
    {
      "cell_type": "code",
      "source": [
        "# Plot\n",
        "plt.plot(data['time'],data['Height(m)'],'*',color='black',label='Real_data')\n",
        "plt.plot(x_train.cpu(),model_P(x_train).detach().cpu(),color='blue',label='Predicted_train')\n",
        "plt.plot(x_test.cpu(),model_P(x_test).detach().cpu(),color='red',label='Predicted_test')\n",
        "plt.legend(loc = 'upper right')"
      ],
      "metadata": {
        "colab": {
          "base_uri": "https://localhost:8080/",
          "height": 448
        },
        "id": "rXrzJkaVOHxb",
        "outputId": "04c38930-a70a-4abe-bb54-d5ed6300cbde"
      },
      "execution_count": null,
      "outputs": [
        {
          "output_type": "execute_result",
          "data": {
            "text/plain": [
              "<matplotlib.legend.Legend at 0x7d56dc7b6f80>"
            ]
          },
          "metadata": {},
          "execution_count": 42
        },
        {
          "output_type": "display_data",
          "data": {
            "text/plain": [
              "<Figure size 640x480 with 1 Axes>"
            ],
            "image/png": "[encoded data removed]"
          },
          "metadata": {}
        }
      ]
    },
    {
      "cell_type": "code",
      "source": [],
      "metadata": {
        "id": "yWtdCHhIOH09"
      },
      "execution_count": null,
      "outputs": []
    }
  ]
}
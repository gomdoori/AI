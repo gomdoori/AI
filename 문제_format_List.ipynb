{
  "nbformat": 4,
  "nbformat_minor": 0,
  "metadata": {
    "colab": {
      "provenance": [],
      "include_colab_link": true
    },
    "kernelspec": {
      "name": "python3",
      "display_name": "Python 3"
    },
    "language_info": {
      "name": "python"
    }
  },
  "cells": [
    {
      "cell_type": "markdown",
      "metadata": {
        "id": "view-in-github",
        "colab_type": "text"
      },
      "source": [
        "<a href=\"https://colab.research.google.com/github/gomdoori/user1/blob/main/%EB%AC%B8%EC%A0%9C_format_List.ipynb\" target=\"_parent\"><img src=\"https://colab.research.google.com/assets/colab-badge.svg\" alt=\"Open In Colab\"/></a>"
      ]
    },
    {
      "cell_type": "markdown",
      "source": [
        "##변수에 이름/학교/학과 형식으로 저장하고 format을 사용해print하시오(이름/학교/학과는 각각 input을 활용해 입력"
      ],
      "metadata": {
        "id": "7Qajl-mzmqMA"
      }
    },
    {
      "cell_type": "code",
      "source": [
        "name = input('이름 : ')\n",
        "school = input('학교 : ')\n",
        "major = input('학과 : ')\n",
        "OutPut = \"{} / {} / {}\".format(name, school, major)\n",
        "print(OutPut)"
      ],
      "metadata": {
        "id": "Cf6BfoGHmppC",
        "outputId": "d22bd0c0-9e6a-4548-fdeb-a503df1ec48c",
        "colab": {
          "base_uri": "https://localhost:8080/"
        }
      },
      "execution_count": 1,
      "outputs": [
        {
          "output_type": "stream",
          "name": "stdout",
          "text": [
            "이름 : 김창수\n",
            "학교 : 강원대학교\n",
            "학과 : AI소프트웨어\n",
            "김창수 / 강원대학교 / AI소프트웨어\n"
          ]
        }
      ]
    },
    {
      "cell_type": "markdown",
      "source": [
        "##위에서 생성된 이름/학교/학과 라는 문자를 이름-학교-학과로 변환하시오"
      ],
      "metadata": {
        "id": "Zkw8IHqm_UOY"
      }
    },
    {
      "cell_type": "code",
      "source": [
        "OutPut.replace(\"/\",\"-\")"
      ],
      "metadata": {
        "id": "oXseUZIKAA8X",
        "outputId": "0fa7c2cd-c8e7-4fdd-f016-98bb77508687",
        "colab": {
          "base_uri": "https://localhost:8080/",
          "height": 36
        }
      },
      "execution_count": 2,
      "outputs": [
        {
          "output_type": "execute_result",
          "data": {
            "text/plain": [
              "'김창수 - 강원대학교 - AI소프트웨어'"
            ],
            "application/vnd.google.colaboratory.intrinsic+json": {
              "type": "string"
            }
          },
          "metadata": {},
          "execution_count": 2
        }
      ]
    },
    {
      "cell_type": "markdown",
      "source": [
        "##안녕하세요 저는 AI소프트웨어학과 학생입니다. 만나서 반갑습니다. 라는 문장을 만들어서 반갑습니다. 라는 문장만 따로 print하시오 "
      ],
      "metadata": {
        "id": "6wfO4uJkip-s"
      }
    },
    {
      "cell_type": "code",
      "source": [
        "intro = \"안녕하세요 저는 AI소프트웨어학과 학생입니다. 만나서 반갑습니다.\"\n",
        "print(intro[-6:])"
      ],
      "metadata": {
        "id": "gEn04xM6jAoh",
        "outputId": "92250690-91a8-4bb3-d4a0-dce62c522802",
        "colab": {
          "base_uri": "https://localhost:8080/"
        }
      },
      "execution_count": 3,
      "outputs": [
        {
          "output_type": "stream",
          "name": "stdout",
          "text": [
            "반갑습니다.\n"
          ]
        }
      ]
    },
    {
      "cell_type": "markdown",
      "source": [
        "##위에서 저장된 변수에서 학교이름만 나오도록 print하시오"
      ],
      "metadata": {
        "id": "01a76lNDm-IR"
      }
    },
    {
      "cell_type": "code",
      "execution_count": 4,
      "metadata": {
        "id": "QX2OjsROkwDc",
        "outputId": "6c857508-3fb2-4a17-baad-e3c4abb6e65c",
        "colab": {
          "base_uri": "https://localhost:8080/",
          "height": 36
        }
      },
      "outputs": [
        {
          "output_type": "execute_result",
          "data": {
            "text/plain": [
              "'강원대학교'"
            ],
            "application/vnd.google.colaboratory.intrinsic+json": {
              "type": "string"
            }
          },
          "metadata": {},
          "execution_count": 4
        }
      ],
      "source": [
        "OutPut[6:11]"
      ]
    },
    {
      "cell_type": "markdown",
      "source": [
        "##주어진 이름(Jone-30, Park-30, Kim-20, Lee-10, Oh-32, Kang-25)을 name이란 리스트를 만들고 Lee를 가진 사람의 성만 따로 도출하시오"
      ],
      "metadata": {
        "id": "iwarHaxfk4zW"
      }
    },
    {
      "cell_type": "code",
      "source": [
        "list_name = [\"Jone-30\", \"Park-30\", \"Kim-20\", \"Lee-10\", \"Oh-32\", \"Kang-25\"]\n",
        "list_name[3][0:3]"
      ],
      "metadata": {
        "id": "0RS1SIt2mT55",
        "outputId": "39c94441-e08e-4920-93ac-1327b6cf0cb5",
        "colab": {
          "base_uri": "https://localhost:8080/",
          "height": 36
        }
      },
      "execution_count": 5,
      "outputs": [
        {
          "output_type": "execute_result",
          "data": {
            "text/plain": [
              "'Lee'"
            ],
            "application/vnd.google.colaboratory.intrinsic+json": {
              "type": "string"
            }
          },
          "metadata": {},
          "execution_count": 5
        }
      ]
    },
    {
      "cell_type": "markdown",
      "source": [
        "##20, 50, 76, 10, 59, 22, 40 ,50, 77, 52의 숫자를 하나의 리스트에 저장하시오"
      ],
      "metadata": {
        "id": "rr__BdUH-Elo"
      }
    },
    {
      "cell_type": "code",
      "source": [
        "num = [20, 50, 76, 10, 59, 22, 40 ,50, 77, 52]"
      ],
      "metadata": {
        "id": "OSfGbKq4mJ8T"
      },
      "execution_count": 6,
      "outputs": []
    },
    {
      "cell_type": "markdown",
      "source": [
        "## 위에서 저장된 리스트에서 20, 50, 76, 10만 print하시오"
      ],
      "metadata": {
        "id": "O-YZ8boQ-SiI"
      }
    },
    {
      "cell_type": "code",
      "source": [
        "for i in range(4) :\n",
        "  print(num[i])"
      ],
      "metadata": {
        "id": "vCcYYQnxia2i",
        "outputId": "16004d81-0964-483e-d868-813d43cc30d1",
        "colab": {
          "base_uri": "https://localhost:8080/"
        }
      },
      "execution_count": 7,
      "outputs": [
        {
          "output_type": "stream",
          "name": "stdout",
          "text": [
            "20\n",
            "50\n",
            "76\n",
            "10\n"
          ]
        }
      ]
    },
    {
      "cell_type": "markdown",
      "source": [
        "##위에서 저장된 리스트에서 77만 print하시오"
      ],
      "metadata": {
        "id": "jEpdDU_G-eK4"
      }
    },
    {
      "cell_type": "code",
      "source": [
        "num[8]"
      ],
      "metadata": {
        "id": "oWKGzPmo-_d4",
        "outputId": "985ca845-53a0-435c-f738-b2f84c08d33e",
        "colab": {
          "base_uri": "https://localhost:8080/"
        }
      },
      "execution_count": 8,
      "outputs": [
        {
          "output_type": "execute_result",
          "data": {
            "text/plain": [
              "77"
            ]
          },
          "metadata": {},
          "execution_count": 8
        }
      ]
    },
    {
      "cell_type": "markdown",
      "source": [
        "## 위에서 저장된 리스트에서 음수를 활용해 77, 52를 가지고오시오"
      ],
      "metadata": {
        "id": "hy4j_vUk-zHA"
      }
    },
    {
      "cell_type": "code",
      "source": [
        "num[-2:]"
      ],
      "metadata": {
        "id": "zXZk1A4Kiidy",
        "outputId": "01d3073e-9c40-431a-cfec-d1b74444129d",
        "colab": {
          "base_uri": "https://localhost:8080/"
        }
      },
      "execution_count": 9,
      "outputs": [
        {
          "output_type": "execute_result",
          "data": {
            "text/plain": [
              "[77, 52]"
            ]
          },
          "metadata": {},
          "execution_count": 9
        }
      ]
    }
  ]
}
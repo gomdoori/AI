{
  "nbformat": 4,
  "nbformat_minor": 0,
  "metadata": {
    "colab": {
      "provenance": [],
      "include_colab_link": true
    },
    "kernelspec": {
      "name": "python3",
      "display_name": "Python 3"
    },
    "language_info": {
      "name": "python"
    }
  },
  "cells": [
    {
      "cell_type": "markdown",
      "metadata": {
        "id": "view-in-github",
        "colab_type": "text"
      },
      "source": [
        "<a href=\"https://colab.research.google.com/github/gomdoori/user1/blob/main/%EC%9D%B8%EA%B3%B5%EC%A7%80%EB%8A%A5_0%EB%AC%B8%EC%A0%9C%EC%9D%98_%EC%82%AC%EB%B3%B8.ipynb\" target=\"_parent\"><img src=\"https://colab.research.google.com/assets/colab-badge.svg\" alt=\"Open In Colab\"/></a>"
      ]
    },
    {
      "cell_type": "markdown",
      "source": [
        "##name과 age 변수를 만들어 print와 format을 활용해 name 변수에는 이름, age변수에는 나이를 입력해 결과를 프린트 하시오"
      ],
      "metadata": {
        "id": "7R5RuZ9ov_FA"
      }
    },
    {
      "cell_type": "code",
      "source": [
        "name = input('이름')\n",
        "age = input('나이')"
      ],
      "metadata": {
        "id": "3IYVjCoW2_6a",
        "outputId": "5f5408d7-a6e8-41ba-91ad-cd4309d9acc5",
        "colab": {
          "base_uri": "https://localhost:8080/"
        }
      },
      "execution_count": null,
      "outputs": [
        {
          "name": "stdout",
          "output_type": "stream",
          "text": [
            "이름김창수\n",
            "나이15\n"
          ]
        }
      ]
    },
    {
      "cell_type": "code",
      "source": [
        "print(('이름: {}, 나이: {}').format(name, age))"
      ],
      "metadata": {
        "id": "Svz49b0v2_x1",
        "outputId": "46071e34-d7fa-403c-9692-84e19d28a966",
        "colab": {
          "base_uri": "https://localhost:8080/"
        }
      },
      "execution_count": null,
      "outputs": [
        {
          "output_type": "stream",
          "name": "stdout",
          "text": [
            "이름: 김창수, 나이: 15\n"
          ]
        }
      ]
    },
    {
      "cell_type": "code",
      "execution_count": null,
      "metadata": {
        "id": "yEcyYjukdfLX",
        "colab": {
          "base_uri": "https://localhost:8080/"
        },
        "outputId": "b47728f9-89b5-440b-edbc-e75c77c7b793"
      },
      "outputs": [
        {
          "name": "stdout",
          "output_type": "stream",
          "text": [
            "김창균\n",
            "34\n"
          ]
        }
      ],
      "source": [
        "name=input()\n",
        "age=int(input())"
      ]
    },
    {
      "cell_type": "code",
      "source": [
        "print((\"이름 : {}, 나이 : {}\").format(name, age))"
      ],
      "metadata": {
        "id": "lbAiXR_bkS1r",
        "colab": {
          "base_uri": "https://localhost:8080/"
        },
        "outputId": "02ecd8bf-46f3-421a-e1d8-5f12bef25b77"
      },
      "execution_count": null,
      "outputs": [
        {
          "output_type": "stream",
          "name": "stdout",
          "text": [
            "이름 : 김창균, 나이 : 34\n"
          ]
        }
      ]
    },
    {
      "cell_type": "markdown",
      "source": [
        "##1단 부터 9단까지 구구단을 만드시오"
      ],
      "metadata": {
        "id": "-FbiR7FjU4hm"
      }
    },
    {
      "cell_type": "code",
      "source": [
        "for i in range(1,10):\n",
        "  print(('-----{}단-----').format(i))\n",
        "  for j in range(1,10):\n",
        "    print(('{} X {} = {}').format(i,j,i*j))"
      ],
      "metadata": {
        "id": "_jNljR0G4Vi1",
        "outputId": "05b6175d-7b96-46ff-88fc-60d4f0ffa6c9",
        "colab": {
          "base_uri": "https://localhost:8080/"
        }
      },
      "execution_count": null,
      "outputs": [
        {
          "output_type": "stream",
          "name": "stdout",
          "text": [
            "-----1단-----\n",
            "1 X 1 = 1\n",
            "1 X 2 = 2\n",
            "1 X 3 = 3\n",
            "1 X 4 = 4\n",
            "1 X 5 = 5\n",
            "1 X 6 = 6\n",
            "1 X 7 = 7\n",
            "1 X 8 = 8\n",
            "1 X 9 = 9\n",
            "-----2단-----\n",
            "2 X 1 = 2\n",
            "2 X 2 = 4\n",
            "2 X 3 = 6\n",
            "2 X 4 = 8\n",
            "2 X 5 = 10\n",
            "2 X 6 = 12\n",
            "2 X 7 = 14\n",
            "2 X 8 = 16\n",
            "2 X 9 = 18\n",
            "-----3단-----\n",
            "3 X 1 = 3\n",
            "3 X 2 = 6\n",
            "3 X 3 = 9\n",
            "3 X 4 = 12\n",
            "3 X 5 = 15\n",
            "3 X 6 = 18\n",
            "3 X 7 = 21\n",
            "3 X 8 = 24\n",
            "3 X 9 = 27\n",
            "-----4단-----\n",
            "4 X 1 = 4\n",
            "4 X 2 = 8\n",
            "4 X 3 = 12\n",
            "4 X 4 = 16\n",
            "4 X 5 = 20\n",
            "4 X 6 = 24\n",
            "4 X 7 = 28\n",
            "4 X 8 = 32\n",
            "4 X 9 = 36\n",
            "-----5단-----\n",
            "5 X 1 = 5\n",
            "5 X 2 = 10\n",
            "5 X 3 = 15\n",
            "5 X 4 = 20\n",
            "5 X 5 = 25\n",
            "5 X 6 = 30\n",
            "5 X 7 = 35\n",
            "5 X 8 = 40\n",
            "5 X 9 = 45\n",
            "-----6단-----\n",
            "6 X 1 = 6\n",
            "6 X 2 = 12\n",
            "6 X 3 = 18\n",
            "6 X 4 = 24\n",
            "6 X 5 = 30\n",
            "6 X 6 = 36\n",
            "6 X 7 = 42\n",
            "6 X 8 = 48\n",
            "6 X 9 = 54\n",
            "-----7단-----\n",
            "7 X 1 = 7\n",
            "7 X 2 = 14\n",
            "7 X 3 = 21\n",
            "7 X 4 = 28\n",
            "7 X 5 = 35\n",
            "7 X 6 = 42\n",
            "7 X 7 = 49\n",
            "7 X 8 = 56\n",
            "7 X 9 = 63\n",
            "-----8단-----\n",
            "8 X 1 = 8\n",
            "8 X 2 = 16\n",
            "8 X 3 = 24\n",
            "8 X 4 = 32\n",
            "8 X 5 = 40\n",
            "8 X 6 = 48\n",
            "8 X 7 = 56\n",
            "8 X 8 = 64\n",
            "8 X 9 = 72\n",
            "-----9단-----\n",
            "9 X 1 = 9\n",
            "9 X 2 = 18\n",
            "9 X 3 = 27\n",
            "9 X 4 = 36\n",
            "9 X 5 = 45\n",
            "9 X 6 = 54\n",
            "9 X 7 = 63\n",
            "9 X 8 = 72\n",
            "9 X 9 = 81\n"
          ]
        }
      ]
    },
    {
      "cell_type": "code",
      "source": [],
      "metadata": {
        "id": "9PnX2i-I4VUx"
      },
      "execution_count": null,
      "outputs": []
    },
    {
      "cell_type": "code",
      "source": [
        "for i in range(1,10):\n",
        "  print((\"------{}단-----\").format(i))\n",
        "  for j in range(1,10):\n",
        "    print((\"{}X{}={}\").format(i, j, i*j))"
      ],
      "metadata": {
        "id": "sIT1JaDHkSUz"
      },
      "execution_count": null,
      "outputs": []
    },
    {
      "cell_type": "markdown",
      "source": [
        "##exam=[60,80,95,69,90,81,80,69,79,66,70,90,96]을 리스트로 변환하고 90점 이상 A 80점 이상 90점 미만B, 70점 이상 80점 미만을 C 60점 이상 70점 미만은 D 이외는 F로 아래와 같이 나타내시오"
      ],
      "metadata": {
        "id": "fP15Ya3WVC4k"
      }
    },
    {
      "cell_type": "code",
      "source": [
        "exam=[60,80,95,69,90,81,80,69,79,66,70,90,96]"
      ],
      "metadata": {
        "id": "mvuAxKnV5gbN"
      },
      "execution_count": null,
      "outputs": []
    },
    {
      "cell_type": "code",
      "source": [],
      "metadata": {
        "id": "_F9xTap65gUu"
      },
      "execution_count": null,
      "outputs": []
    },
    {
      "cell_type": "code",
      "source": [
        "exam=[60,80,95,69,90,81,80,69,79,66,70,90,96]"
      ],
      "metadata": {
        "id": "VXrKw-tikbgJ"
      },
      "execution_count": null,
      "outputs": []
    },
    {
      "cell_type": "code",
      "source": [
        "for i in exam:\n",
        "  if i>=90:\n",
        "    print(\"A\")\n",
        "  elif i>=80 and i<90:\n",
        "    print(\"B\")\n",
        "  elif i>=70 and i<80:\n",
        "    print(\"C\")\n",
        "  elif i>=60 and i<70:\n",
        "    print(\"D\")\n",
        "  elif i < 60:\n",
        "    print('F')\n",
        "  else:\n",
        "    print(\"정확한 값을 입력해주세요\")"
      ],
      "metadata": {
        "id": "zEnlW3z0Vj6t",
        "outputId": "3cf1cb11-1d04-4093-a206-5d11489d61e8",
        "colab": {
          "base_uri": "https://localhost:8080/"
        }
      },
      "execution_count": null,
      "outputs": [
        {
          "output_type": "stream",
          "name": "stdout",
          "text": [
            "D\n",
            "B\n",
            "A\n",
            "D\n",
            "A\n",
            "B\n",
            "B\n",
            "D\n",
            "C\n",
            "D\n",
            "C\n",
            "A\n",
            "A\n"
          ]
        }
      ]
    },
    {
      "cell_type": "code",
      "source": [],
      "metadata": {
        "id": "IzAMVjDpVjx9"
      },
      "execution_count": null,
      "outputs": []
    },
    {
      "cell_type": "markdown",
      "source": [
        "##중국집에서 주문을 한다. 짜장면 한그릇은 10,000원 이다. 입력 금액이 짜장면 한 그릇보다 많으면 구매가능 아니면 구매 불가능으로 나타내시오"
      ],
      "metadata": {
        "id": "mj-ZoI-bVHPN"
      }
    },
    {
      "cell_type": "code",
      "source": [
        "money = int(input())\n",
        "jjajangmean = 10000\n",
        "\n",
        "if money >= jjajangmean :\n",
        "  print('구매가능')\n",
        "else :\n",
        "  print('구매 불가능')\n",
        "\n",
        "# 입력값을 숫자와 비교해야 할 땐 강제형변환을 해줘야 한다."
      ],
      "metadata": {
        "id": "Zv6n5pO16a1w",
        "outputId": "5d7ca6f9-ad31-497d-e3ca-765869b3c95b",
        "colab": {
          "base_uri": "https://localhost:8080/"
        }
      },
      "execution_count": null,
      "outputs": [
        {
          "output_type": "stream",
          "name": "stdout",
          "text": [
            "150000\n",
            "구매가능\n"
          ]
        }
      ]
    },
    {
      "cell_type": "code",
      "source": [
        "j=int(input())\n",
        "if j >=10000:\n",
        "  print(\"구매가능\")\n",
        "else:\n",
        "  print(\"구매불가능\")"
      ],
      "metadata": {
        "id": "vKwq2MvHVJx1",
        "colab": {
          "base_uri": "https://localhost:8080/"
        },
        "outputId": "c6b1d143-2ab2-4ba0-9d74-9d16b4e30fc0"
      },
      "execution_count": null,
      "outputs": [
        {
          "output_type": "stream",
          "name": "stdout",
          "text": [
            "15000\n",
            "구매가능\n"
          ]
        }
      ]
    },
    {
      "cell_type": "markdown",
      "source": [
        "##중국집에서 주문을 한다. 짜장면 한그릇은 10,000원 이다. 입력 금액이 짜장면 한 그릇보다 많으면 구매가능 아니면 구매 불가능으로 나타내시오\n",
        "\n",
        "당신은 13000원이 있으므로 1개 구매가능"
      ],
      "metadata": {
        "id": "qlcSZbGtc0-t"
      }
    },
    {
      "cell_type": "code",
      "source": [
        "money = int(input())\n",
        "jjajangmean = 10000\n",
        "\n",
        "if money >= jjajangmean :\n",
        "  print(('당신은 {}원이 있으므로 {}개 구매가능').format(money, int(money/jjajangmean)))\n",
        "else :\n",
        "  print('구매 불가능')\n",
        "\n",
        "# 입력값을 숫자와 비교해야 할 땐 강제형변환을 해줘야 한다."
      ],
      "metadata": {
        "id": "SKaunC62dID9",
        "outputId": "e9174ab6-5f2a-46e1-8970-41c3fdfc2a75",
        "colab": {
          "base_uri": "https://localhost:8080/"
        }
      },
      "execution_count": null,
      "outputs": [
        {
          "output_type": "stream",
          "name": "stdout",
          "text": [
            "55000\n",
            "당신은 55000원이 있으므로 5개 구매가능\n"
          ]
        }
      ]
    },
    {
      "cell_type": "markdown",
      "source": [
        "##저는 .. 학과이고 이름은 .. 저의 나이는 ... 이고 저의 키는 ...입니다."
      ],
      "metadata": {
        "id": "O1A0n_gadJSd"
      }
    },
    {
      "cell_type": "code",
      "source": [
        "major = input('학과? ')\n",
        "name = input('이름? ')\n",
        "age = input('나이? ')\n",
        "tall = input('키? ')\n",
        "\n",
        "print(('저는 {}학과이고 이름은 {}, 저의 나이는 {}이고 저의 키는 {}입니다.').format(major, name, age, tall))"
      ],
      "metadata": {
        "id": "vKwIYszdeNbO",
        "outputId": "e87db04d-8687-4b27-9b0b-8dabd72c863c",
        "colab": {
          "base_uri": "https://localhost:8080/"
        }
      },
      "execution_count": null,
      "outputs": [
        {
          "output_type": "stream",
          "name": "stdout",
          "text": [
            "학과? AI\n",
            "이름? rlackdtn\n",
            "나이? 18\n",
            "키? 180\n",
            "저는 AI학과이고 이름은 rlackdtn, 저의 나이는 18이고 저의 키는 180입니다.\n"
          ]
        }
      ]
    },
    {
      "cell_type": "markdown",
      "source": [
        "##한 학생의 시험 점수는 다음과 같다. grades=[85, 90, 92, 78, 80, 95]이때 모든 점수의 합의 평균이 85점이 넘을때 시험에 합격했습니다.라는 문구를 넣어서 print해줘 "
      ],
      "metadata": {
        "id": "tIb5erX3gbW2"
      }
    },
    {
      "cell_type": "code",
      "source": [
        "grades=[85, 90, 92, 78, 80, 95]\n",
        "total = 0\n",
        "for i in grades:\n",
        "  total = total + i\n",
        "\n",
        "average = total / len(grades)\n",
        "if average > 85:\n",
        "  print('시험에 합격했습니다.')\n",
        "else :\n",
        "  print('시험에 불합격했습니다.')"
      ],
      "metadata": {
        "id": "Vmn5WpvwDX84",
        "outputId": "c59f8ab9-87c4-41ca-f733-c4167cf8be84",
        "colab": {
          "base_uri": "https://localhost:8080/"
        }
      },
      "execution_count": null,
      "outputs": [
        {
          "output_type": "stream",
          "name": "stdout",
          "text": [
            "시험에 합격했습니다.\n"
          ]
        },
        {
          "output_type": "execute_result",
          "data": {
            "text/plain": [
              "86.66666666666667"
            ]
          },
          "metadata": {},
          "execution_count": 14
        }
      ]
    },
    {
      "cell_type": "code",
      "source": [],
      "metadata": {
        "id": "pA190y-pDdUx"
      },
      "execution_count": null,
      "outputs": []
    },
    {
      "cell_type": "code",
      "source": [],
      "metadata": {
        "id": "L8cR8ecADfKX"
      },
      "execution_count": null,
      "outputs": []
    },
    {
      "cell_type": "code",
      "source": [],
      "metadata": {
        "id": "6DuKRB2rDf4X"
      },
      "execution_count": null,
      "outputs": []
    },
    {
      "cell_type": "code",
      "source": [],
      "metadata": {
        "id": "Rd-BqkRoFAJI"
      },
      "execution_count": null,
      "outputs": []
    },
    {
      "cell_type": "code",
      "source": [],
      "metadata": {
        "id": "sLWdQlWP2fx9"
      },
      "execution_count": null,
      "outputs": []
    },
    {
      "cell_type": "code",
      "source": [],
      "metadata": {
        "id": "qkk5w4gjFBDA"
      },
      "execution_count": null,
      "outputs": []
    },
    {
      "cell_type": "code",
      "source": [],
      "metadata": {
        "id": "PCTH3gSi2dhk"
      },
      "execution_count": null,
      "outputs": []
    },
    {
      "cell_type": "code",
      "source": [],
      "metadata": {
        "id": "W8g21q-a2v-8"
      },
      "execution_count": null,
      "outputs": []
    }
  ]
}
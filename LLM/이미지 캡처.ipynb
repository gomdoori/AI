{
 "cells": [
  {
   "cell_type": "code",
   "execution_count": null,
   "id": "393ab9de",
   "metadata": {
    "id": "393ab9de",
    "outputId": "3ef84810-2cb6-491b-aab7-749ee9004882"
   },
   "outputs": [
    {
     "name": "stdout",
     "output_type": "stream",
     "text": [
      "Video capturing started for captures/video3.avi\n",
      "Video saved as captures/video3.avi\n"
     ]
    }
   ],
   "source": [
    "import cv2\n",
    "import os\n",
    "\n",
    "\n",
    "if not os.path.exists('captures'):\n",
    "    os.makedirs('captures')\n",
    "    \n",
    "existing_files = os.listdir('captures')\n",
    "if len(existing_files) > 0:\n",
    "    last_file_name = sorted(existing_files)[-1]\n",
    "    if last_file_name.startswith('image') and last_file_name[5:-4].isdigit():\n",
    "        file_counter = int(last_file_name[5:-4]) + 1\n",
    "    elif last_file_name.startswith('video') and last_file_name[5:-4].isdigit():\n",
    "        file_counter = int(last_file_name[5:-4]) + 1\n",
    "    else:\n",
    "        file_counter = 1\n",
    "else:\n",
    "    file_counter = 1\n",
    "    \n",
    "    \n",
    "cap = cv2.VideoCapture(0)\n",
    "is_video_capturing = False\n",
    "\n",
    "while True:\n",
    "    ret, frame = cap.read()\n",
    "    cv2.imshow('frame', frame)\n",
    "    key = cv2.waitKey(1) & 0xFF\n",
    "    if key == ord('1'): #1을 누르면 해당폴더에 이미지가 하나씩 저장\n",
    "        file_name = \"captures/image{}.jpg\".format(file_counter)\n",
    "\n",
    "        # Increment the file counter to avoid overwriting existing files\n",
    "        while os.path.isfile(file_name):\n",
    "            file_counter += 1\n",
    "            file_name = \"captures/image{}.jpg\".format(file_counter)\n",
    "\n",
    "        cv2.imwrite(file_name, frame)\n",
    "        print((\"Image saved as {}\").format(file_name))\n",
    "        file_counter += 1\n",
    "    elif key == ord('2'): #2를 누르면 녹화 시작 2를 한번더 누르면 녹화종료 후 영상 저장\n",
    "        if not is_video_capturing:\n",
    "            file_name = \"captures/video{}.avi\".format(file_counter)\n",
    "\n",
    "            # Increment the file counter to avoid overwriting existing files\n",
    "            while os.path.isfile(file_name):\n",
    "                file_counter += 1\n",
    "                file_name = \"captures/video{}.avi\".format(file_counter)\n",
    "\n",
    "            # Define the codec and create VideoWriter object\n",
    "            fourcc = cv2.VideoWriter_fourcc(*'XVID')\n",
    "            out = cv2.VideoWriter(file_name, fourcc, 20.0, (640, 480))\n",
    "\n",
    "            is_video_capturing = True\n",
    "            print((\"Video capturing started for {}\").format(file_name))\n",
    "        else:\n",
    "            out.release()\n",
    "            is_video_capturing = False\n",
    "            print((\"Video saved as {}\").format(file_name))\n",
    "            file_counter += 1\n",
    "\n",
    "    # Quit the program when 'q' is pressed\n",
    "    if key == ord('q'):\n",
    "        break    \n",
    "    if is_video_capturing:\n",
    "        out.write(frame)\n",
    "        \n",
    "cap.release()\n",
    "cv2.destroyAllWindows()"
   ]
  },
  {
   "cell_type": "code",
   "execution_count": null,
   "id": "3de64170",
   "metadata": {
    "id": "3de64170",
    "outputId": "f82aa237-936d-4b71-c7a4-ff63f1932cdc"
   },
   "outputs": [
    {
     "name": "stdout",
     "output_type": "stream",
     "text": [
      "이미지 크기 일괄 수정 완료\n"
     ]
    }
   ],
   "source": [
    "from PIL import Image\n",
    "import os\n",
    "\n",
    "# 이미지가 저장된 폴더 경로\n",
    "folder_path = 'C:/Users/tiock/Desktop/수업자료/인공지능/captures/'\n",
    "\n",
    "# 이미지 크기를 변경할 비율\n",
    "resize_ratio = 0.5\n",
    "\n",
    "# 폴더 내의 모든 파일 목록을 얻음\n",
    "file_list = os.listdir(folder_path)\n",
    "\n",
    "# 파일 목록 중 jpg와 png 파일만 필터링\n",
    "image_list = [file_name for file_name in file_list if file_name.endswith(('.jpg', '.png'))]\n",
    "\n",
    "# 모든 이미지를 일괄 처리\n",
    "for image_name in image_list:\n",
    "    # 이미지 파일 경로\n",
    "    image_path = os.path.join(folder_path, image_name)\n",
    "\n",
    "    # 이미지 열기\n",
    "    with Image.open(image_path) as img:\n",
    "        # 이미지 크기를 변경\n",
    "        new_size = (int(img.width * resize_ratio), int(img.height * resize_ratio))\n",
    "        resized_img = img.resize(new_size)\n",
    "\n",
    "        # 이미지 저장\n",
    "        resized_img.save(folder_path)\n",
    "\n",
    "print('이미지 크기 일괄 수정 완료')"
   ]
  },
  {
   "cell_type": "code",
   "execution_count": null,
   "id": "75cbae20",
   "metadata": {
    "id": "75cbae20"
   },
   "outputs": [],
   "source": []
  }
 ],
 "metadata": {
  "colab": {
   "provenance": []
  },
  "kernelspec": {
   "display_name": "Python 3 (ipykernel)",
   "language": "python",
   "name": "python3"
  },
  "language_info": {
   "codemirror_mode": {
    "name": "ipython",
    "version": 3
   },
   "file_extension": ".py",
   "mimetype": "text/x-python",
   "name": "python",
   "nbconvert_exporter": "python",
   "pygments_lexer": "ipython3",
   "version": "3.10.9"
  }
 },
 "nbformat": 4,
 "nbformat_minor": 5
}

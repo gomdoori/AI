{
 "cells": [
  {
   "cell_type": "code",
   "execution_count": 14,
   "id": "f662f6eb",
   "metadata": {
    "id": "f662f6eb"
   },
   "outputs": [],
   "source": [
    "from selenium import webdriver\n",
    "from selenium.webdriver.common.keys import Keys\n",
    "from selenium.webdriver.common.by import By\n",
    "import time\n",
    "from openpyxl import Workbook\n",
    "import pandas as pd\n",
    "from bs4 import BeautifulSoup\n",
    "import warnings \n",
    "warnings.filterwarnings('ignore')"
   ]
  },
  {
   "cell_type": "code",
   "execution_count": 15,
   "id": "5f96b24a",
   "metadata": {
    "id": "5f96b24a"
   },
   "outputs": [
    {
     "name": "stdout",
     "output_type": "stream",
     "text": [
      "유튜브명 : 빠니보틀\n",
      "['https://www.youtube.com/watch?v=elz-Kf_PfJE', 'https://www.youtube.com/watch?v=wPLnAuHO4v0', 'https://www.youtube.com/watch?v=F87LlD4h7xI', 'https://www.youtube.com/watch?v=hWenvjHvScs', 'https://www.youtube.com/watch?v=FOzFmlwxeQE', 'https://www.youtube.com/watch?v=yvo9Jyg35y4', 'https://www.youtube.com/watch?v=gJe7hC3sRLY', 'https://www.youtube.com/watch?v=SJUV61WL4Zc', 'https://www.youtube.com/watch?v=Ig7guNyOxCI', 'https://www.youtube.com/watch?v=RJhZCnkAT04', 'https://www.youtube.com/watch?v=bc8KKCyHkj0', 'https://www.youtube.com/watch?v=EXqstawvwpo', 'https://www.youtube.com/watch?v=vjBT6h0wCRs', 'https://www.youtube.com/watch?v=V3q1Rab02W4', 'https://www.youtube.com/watch?v=yuTRi0USn_I', 'https://www.youtube.com/watch?v=fTul7E4ywM4', 'https://www.youtube.com/watch?v=ZA_mo7IfbI4', 'https://www.youtube.com/watch?v=a_Tv9_sr5Ps', 'https://www.youtube.com/watch?v=gAzIkeJVsic', 'https://www.youtube.com/watch?v=k9AGD9FGjiU', 'https://www.youtube.com/watch?v=6KubzC18Ybg', 'https://www.youtube.com/watch?v=EBnFv11fCU4', 'https://www.youtube.com/watch?v=FUekWWmtW7g', 'https://www.youtube.com/watch?v=pktsa7Ia6OE', 'https://www.youtube.com/watch?v=EQn62k7Js8c', 'https://www.youtube.com/watch?v=LaADf8jMqJg', 'https://www.youtube.com/watch?v=iA_dLFUhw2o', 'https://www.youtube.com/watch?v=jj6SMEGksjw', 'https://www.youtube.com/watch?v=P8_URWHUsAg', 'https://www.youtube.com/watch?v=ELbeFBtD8EQ', 'https://www.youtube.com/watch?v=F3gshg2m-hY', 'https://www.youtube.com/watch?v=Qy_xLknwOuI', 'https://www.youtube.com/watch?v=a9Katt91PvA', 'https://www.youtube.com/watch?v=T2oPgc3gSUE', 'https://www.youtube.com/watch?v=yBrzR6R_fFw', 'https://www.youtube.com/watch?v=4x_5DY7boSI', 'https://www.youtube.com/watch?v=eQMxa4NEpUg', 'https://www.youtube.com/watch?v=ROYcL84CSLs', 'https://www.youtube.com/watch?v=-i9eJpOBAtM', 'https://www.youtube.com/watch?v=95g42mVkvbk', 'https://www.youtube.com/watch?v=yWOeFFfVdA0', 'https://www.youtube.com/watch?v=6t-RwSwdI50', 'https://www.youtube.com/watch?v=GAJFBwj1Dxk', 'https://www.youtube.com/watch?v=F2utz6L76D0', 'https://www.youtube.com/watch?v=_CYQlxIkXn0', 'https://www.youtube.com/watch?v=aQ7hd1_vmjc', 'https://www.youtube.com/watch?v=Fk4-XeFgndE', 'https://www.youtube.com/watch?v=gTidWuHLoII', 'https://www.youtube.com/watch?v=yNqaJTv9G04', 'https://www.youtube.com/watch?v=pmMd81z8dnc', 'https://www.youtube.com/watch?v=uqtA_MEbYls', 'https://www.youtube.com/watch?v=BdftULh7bDA', 'https://www.youtube.com/watch?v=fY9J3u6PJZw', 'https://www.youtube.com/watch?v=iSySJzYIu4k', 'https://www.youtube.com/watch?v=rqGeC3l9Bkk', 'https://www.youtube.com/watch?v=mCt7q7a7lV0', 'https://www.youtube.com/watch?v=csKITZD6-2g', 'https://www.youtube.com/watch?v=MNsQiKhielg', 'https://www.youtube.com/watch?v=nJ3XHazqS4g', 'https://www.youtube.com/watch?v=-pfkIx2EM04', 'https://www.youtube.com/watch?v=nIOC7Vbt0ko', 'https://www.youtube.com/watch?v=BrvGhfC5OxA', 'https://www.youtube.com/watch?v=Dw7QTvX7AuQ', 'https://www.youtube.com/watch?v=OsMusZCKX4I', 'https://www.youtube.com/watch?v=u5LZxZoY5OU', 'https://www.youtube.com/watch?v=mVmEGHPhYYY', 'https://www.youtube.com/watch?v=YiFKKjjlZWQ', 'https://www.youtube.com/watch?v=mSnUFjy7840', 'https://www.youtube.com/watch?v=vAuIpcLpeHg', 'https://www.youtube.com/watch?v=Y9sNA1zmOKc', 'https://www.youtube.com/watch?v=slZvAk74WwQ', 'https://www.youtube.com/watch?v=2kQGS5Or8A0', 'https://www.youtube.com/watch?v=kSbSCNzNAIM', 'https://www.youtube.com/watch?v=wpd0Iv8S5iw', 'https://www.youtube.com/watch?v=9bq2aDSqd-Y', 'https://www.youtube.com/watch?v=ArfyR-gUfgc', 'https://www.youtube.com/watch?v=A4im5ZUu4iw', 'https://www.youtube.com/watch?v=vCYO6HRSJJE', 'https://www.youtube.com/watch?v=2Z5UPLUV6XA', 'https://www.youtube.com/watch?v=5T4i0uxrv8M', 'https://www.youtube.com/watch?v=6f8HP73pzMI', 'https://www.youtube.com/watch?v=E87JmA7zqyU', 'https://www.youtube.com/watch?v=v-NZOeg3fjc', 'https://www.youtube.com/watch?v=RrOQi1u7m90', 'https://www.youtube.com/watch?v=CFJgO6kpGz0', 'https://www.youtube.com/watch?v=_Li7cMg56yQ', 'https://www.youtube.com/watch?v=bTIabS7_VBQ', 'https://www.youtube.com/watch?v=NLjkveFCmN4', 'https://www.youtube.com/watch?v=qAnYCQrnedE', 'https://www.youtube.com/watch?v=AuYTk8tZw5I', 'https://www.youtube.com/watch?v=Tft-5mjyrjU', 'https://www.youtube.com/watch?v=cqkC4NixClQ', 'https://www.youtube.com/watch?v=0BgVazHgATw', 'https://www.youtube.com/watch?v=r7lQ--Anfzo', 'https://www.youtube.com/watch?v=AqXEj0sZRWY', 'https://www.youtube.com/watch?v=3LzwfOUH7Ag', 'https://www.youtube.com/watch?v=9TrVMhrBYIU', 'https://www.youtube.com/watch?v=b80oRcGj1WI', 'https://www.youtube.com/watch?v=u-mPYx468N0', 'https://www.youtube.com/watch?v=hxkL3Ob_5yA', 'https://www.youtube.com/watch?v=MxEfu72DpM4', 'https://www.youtube.com/watch?v=BSRpoFZqz1o', 'https://www.youtube.com/watch?v=DZfOSDWTCY0', 'https://www.youtube.com/watch?v=Lb6fkcIwcgU', 'https://www.youtube.com/watch?v=sim260wvwSE', 'https://www.youtube.com/watch?v=tdt04UHsc1Y', 'https://www.youtube.com/watch?v=-AfxdYo-XaU', 'https://www.youtube.com/watch?v=kYy-CUsQdxA', 'https://www.youtube.com/watch?v=lvTQ7GcJv68', 'https://www.youtube.com/watch?v=QW0_ZiO0ZrM', 'https://www.youtube.com/watch?v=-xl0zcXJ7Rc', 'https://www.youtube.com/watch?v=5AlSk9rAjJc', 'https://www.youtube.com/watch?v=2kRMfWK11W0', 'https://www.youtube.com/watch?v=zrdJCfu5Itg', 'https://www.youtube.com/watch?v=QYGJ-Zcma4Q', 'https://www.youtube.com/watch?v=77hgcPG1Osw', 'https://www.youtube.com/watch?v=pGy85YfX0Fk', 'https://www.youtube.com/watch?v=sw1llzxmlPY', 'https://www.youtube.com/watch?v=RDtbyOKwbmw', 'https://www.youtube.com/watch?v=wgAOWBYUVd0', 'https://www.youtube.com/watch?v=7uzv2D74vXI', 'https://www.youtube.com/watch?v=RQlMPeLH9eg', 'https://www.youtube.com/watch?v=AJ0SUOLwIgM', 'https://www.youtube.com/watch?v=RxEcIuZEypE', 'https://www.youtube.com/watch?v=nttfQnlymb8', 'https://www.youtube.com/watch?v=tfp0HQnGk4c', 'https://www.youtube.com/watch?v=YlNe0TbblXY', 'https://www.youtube.com/watch?v=aoBjJOCMpfc', 'https://www.youtube.com/watch?v=FXJxCMgW6SI', 'https://www.youtube.com/watch?v=d8GwqZyU8Kk', 'https://www.youtube.com/watch?v=USvZgQOPlo0', 'https://www.youtube.com/watch?v=CrztsDKbhqo', 'https://www.youtube.com/watch?v=Buf25jpXMEc', 'https://www.youtube.com/watch?v=I7iwkfMpmNk', 'https://www.youtube.com/watch?v=cVV4R62kX90', 'https://www.youtube.com/watch?v=7nhWFC3Dv9Y', 'https://www.youtube.com/watch?v=IVohIUOpZZA', 'https://www.youtube.com/watch?v=HLGotVGqWHE', 'https://www.youtube.com/watch?v=fIrsaibr1KY', 'https://www.youtube.com/watch?v=VDiFELzovT0', 'https://www.youtube.com/watch?v=k2L7_gRYhJ4', 'https://www.youtube.com/watch?v=n5ruszJoz5Y', 'https://www.youtube.com/watch?v=sE1yHl0MzP4', 'https://www.youtube.com/watch?v=LUCGiG98JrY', 'https://www.youtube.com/watch?v=tYdjJsBwydo', 'https://www.youtube.com/watch?v=uNXWdJvzNzI', 'https://www.youtube.com/watch?v=t9R-ZTJN9OE', 'https://www.youtube.com/watch?v=sPrX_VQOqG4', 'https://www.youtube.com/watch?v=Q0K33z_IC7I', 'https://www.youtube.com/watch?v=O54L3MDh1Ic']\n"
     ]
    }
   ],
   "source": [
    "driver = webdriver.Chrome(\"chromedriver.exe\")\n",
    "driver.maximize_window()\n",
    "a=input(\"유튜브명 : \")\n",
    "url = \"https://www.youtube.com/results?search_query={}\".format(a)\n",
    "driver.get(url)\n",
    "driver.implicitly_wait(3)\n",
    "time.sleep(6) \n",
    "driver.refresh() #광고제거\n",
    "element = driver.find_element(By.ID, \"text\") \n",
    "element.click()\n",
    "element = driver.find_element(By.LINK_TEXT, \"동영상\")\n",
    "element.click()\n",
    "time.sleep(3) \n",
    "last_height = driver.execute_script(\"return document.documentElement.scrollHeight\")\n",
    "num_scrolls = 4  \n",
    "url_list = [] \n",
    "\n",
    "for i in range(num_scrolls): \n",
    "    #처음부터 끝까지 스크롤을 내려 해당내용 크롤링\n",
    "    driver.execute_script(\"window.scrollTo(0, document.documentElement.scrollHeight)\")\n",
    "    time.sleep(1.5)\n",
    "    # 스크롤을 내렸을 때 더 이상 내용이 없을 때\n",
    "    new_height = driver.execute_script(\"return document.documentElement.scrollHeight\")\n",
    "    \n",
    "    if new_height == last_height: \n",
    "        break\n",
    "    \n",
    "    html_source = driver.page_source  \n",
    "    soup = BeautifulSoup(html_source, \"html.parser\")\n",
    "\n",
    "# 동영상의 url이 포함된 요소를 찾기 \n",
    "parent_elements = soup.find_all(class_ = 'yt-simple-endpoint style-scope ytd-playlist-thumbnail')\n",
    "# 동영상의 요소의 href값을 추출해 저장하기\n",
    "for parent_element in parent_elements:\n",
    "    url = parent_element['href']\n",
    "    url_list.append('https://www.youtube.com' + url)\n",
    "\n",
    "# 저장된 url 리스트를 프린트 하시오\n",
    "url_list=list(set(url_list))\n",
    "print(url_list)\n",
    "\n",
    "#유료 가입 광고 무시하기\n",
    "try:\n",
    "    driver.find_element_by_css_selector(\"#dismiss-button > a\").click()\n",
    "except:\n",
    "    pass"
   ]
  },
  {
   "cell_type": "code",
   "execution_count": 23,
   "id": "47a08283",
   "metadata": {
    "id": "47a08283"
   },
   "outputs": [],
   "source": [
    "driver = webdriver.Chrome(\"chromedriver.exe\")\n",
    "\n",
    "urls=url_list[0:2]\n",
    "id =[]\n",
    "comment=[]\n",
    "\n",
    "for url in urls:\n",
    "    driver.get(url)\n",
    "    \n",
    "    driver.implicitly_wait(10)\n",
    "\n",
    "    time.sleep(10)\n",
    "\n",
    "    last_height = driver.execute_script(\"return document.documentElement.scrollHeight\")\n",
    "    while True:\n",
    "        driver.refresh() #광고제거\n",
    "        driver.execute_script(\"window.scrollTo(0, document.documentElement.scrollHeight);\")\n",
    "        time.sleep(1.5)\n",
    "\n",
    "        new_height = driver.execute_script(\"return document.documentElement.scrollHeight\")\n",
    "        if new_height == last_height:\n",
    "            break\n",
    "        last_height = new_height\n",
    "\n",
    "    time.sleep(1.5)\n",
    "\n",
    "    try:\n",
    "        driver.find_element_by_css_selector(\"#dismiss-button > a\").click()\n",
    "    except:\n",
    "            pass\n",
    "        \n",
    "    html_source = driver.page_source\n",
    "    soup = BeautifulSoup(html_source, 'html.parser')\n",
    "\n",
    "    id_list = soup.select(\"div#header-author > h3 > #author-text > span\")\n",
    "    comment_list = soup.select(\"yt-formatted-string#content-text\")\n",
    "    for i, j in zip(id_list,comment_list):\n",
    "        id.append(i)\n",
    "        comment.append(j)"
   ]
  },
  {
   "cell_type": "code",
   "execution_count": 24,
   "id": "b5d9eb8d",
   "metadata": {},
   "outputs": [
    {
     "data": {
      "text/plain": [
       "[<yt-formatted-string class=\"style-scope ytd-comment-renderer\" id=\"content-text\" slot=\"content\" split-lines=\"\" user-input=\"\">어려운 상황에 도움을 주신 쿠스코 사랑채 식당 사장님께 감사 인사를 드립니다.</yt-formatted-string>,\n",
       " <yt-formatted-string class=\"style-scope ytd-comment-renderer\" id=\"content-text\" slot=\"content\" split-lines=\"\" user-input=\"\"><span class=\"style-scope yt-formatted-string\" dir=\"auto\">가방 도둑 맞으셨다는 라이브 보고, 저라면</span><span class=\"style-scope yt-formatted-string\" dir=\"auto\">\n",
       " </span><span class=\"style-scope yt-formatted-string\" dir=\"auto\">진짜 멘붕와서 정신 못차렸을것 같은데</span><span class=\"style-scope yt-formatted-string\" dir=\"auto\">\n",
       " </span><span class=\"style-scope yt-formatted-string\" dir=\"auto\">마음다잡고 다시 일어나신 모습에</span><span class=\"style-scope yt-formatted-string\" dir=\"auto\">\n",
       " </span><span class=\"style-scope yt-formatted-string\" dir=\"auto\">진심어린 응원의 박수를 보냅니다!</span><span class=\"style-scope yt-formatted-string\" dir=\"auto\">\n",
       " </span><span class=\"style-scope yt-formatted-string\" dir=\"auto\">남은 기간 몸건강히 여행 마치시고</span><span class=\"style-scope yt-formatted-string\" dir=\"auto\">\n",
       " </span><span class=\"style-scope yt-formatted-string\" dir=\"auto\">안전하게 귀국하시길 바랍니다~</span></yt-formatted-string>,\n",
       " <yt-formatted-string class=\"style-scope ytd-comment-renderer\" id=\"content-text\" slot=\"content\" split-lines=\"\" user-input=\"\"><span class=\"style-scope yt-formatted-string\" dir=\"auto\">진짜 힘든 상황을 겪으신건데 ㅠㅠ 남은 여정 포기하지 않으시고 계속해서 이어가시는 모습 너무 멋집니다 </span><img alt=\"👍🏻\" class=\"small-emoji emoji style-scope yt-formatted-string\" src=\"https://www.youtube.com/s/gaming/emoji/7ff574f2/emoji_u1f44d_1f3fb.png\"/><span class=\"style-scope yt-formatted-string\" dir=\"auto\"> 남은 여행 일정들 잘 진행하실 수 있기를 응원하겠습니다!!!</span></yt-formatted-string>,\n",
       " <yt-formatted-string class=\"style-scope ytd-comment-renderer\" id=\"content-text\" slot=\"content\" split-lines=\"\" user-input=\"\"><span class=\"style-scope yt-formatted-string\" dir=\"auto\">사실 국내에서 지갑 잃어버려도 어떻게 해야하나 막막하고  깝깝한데.. 외국에서 그보다 더한 놑북이 든 가방을 두둑맞았을때 보틀형님의 심정은 상상도 못할거 같아요. .</span><span class=\"style-scope yt-formatted-string\" dir=\"auto\">\n",
       " </span><span class=\"style-scope yt-formatted-string\" dir=\"auto\">그래도  마음 다잡고 여행에 심기일전하는 모습에 한편으로는 짠하면서도 다른 한편으로는 멋있고 존경스럽다는 생각이 듭니다.</span><span class=\"style-scope yt-formatted-string\" dir=\"auto\">\n",
       " </span><span class=\"style-scope yt-formatted-string\" dir=\"auto\">위험하지않게 조심히 여행 끝나기를 응원하겠습니다</span></yt-formatted-string>,\n",
       " <yt-formatted-string class=\"style-scope ytd-comment-renderer\" id=\"content-text\" slot=\"content\" split-lines=\"\" user-input=\"\"><span class=\"style-scope yt-formatted-string\" dir=\"auto\">아는사람 하나 없는 타지에서 고생 많으셨습니다 여행을 그만두시고 귀국하시는게 최선이라고 생각했는데 이상황에서도 \"끝까지 달려보자\"는 말씀이 참 인상깊고 멋지네요 </span><span class=\"style-scope yt-formatted-string\" dir=\"auto\">\n",
       " </span><span class=\"style-scope yt-formatted-string\" dir=\"auto\">얼마남지않은 이번 여행 무사히 마치시길 바랍니다 </span><span class=\"style-scope yt-formatted-string\" dir=\"auto\">\n",
       " </span><span class=\"style-scope yt-formatted-string\" dir=\"auto\">기다리시는 동안 정주행 한번 더 했네요ㅎㅎ 항상 영상보고 힐링하고 있습니다 감사합니다 새해 복 많이 받으시고 힘내세요!!</span></yt-formatted-string>,\n",
       " <yt-formatted-string class=\"style-scope ytd-comment-renderer\" id=\"content-text\" slot=\"content\" split-lines=\"\" user-input=\"\">힘드셨을텐데 이렇게 마음 잡으신거 보니 너무 대단해요!! 저도 동유럽에서 지갑 도난 당하고 멘붕 와서 진짜 뭘 구경했는지 기억도 안 나는데 빠니님 정말 대단합니다! 마지막까지 여행 잘 마치시고 무사히 돌아오시길 :)</yt-formatted-string>,\n",
       " <yt-formatted-string class=\"style-scope ytd-comment-renderer\" id=\"content-text\" slot=\"content\" split-lines=\"\" user-input=\"\">라이브 보고 깜짝놀랐는데 멘탈잡고 다시 달리시려는 모습에 감탄했습니다! 사실 한국으로 돌아올 생각도 있다고 하시는거 보고 살짝 아쉬웠지만 그래도 빠니님이 최우선이니 어쩔 수없다고 생각했는데 이렇게 계속 여행 하시는 모습을 볼 수있어서 넘나 기뻐요!! 항상 응원하고있겠습니다!!</yt-formatted-string>,\n",
       " <yt-formatted-string class=\"style-scope ytd-comment-renderer\" id=\"content-text\" slot=\"content\" split-lines=\"\" user-input=\"\"><span class=\"style-scope yt-formatted-string\" dir=\"auto\">힘든 상황임에도.. 이렇게 여행을 계속 해주셔서 너무 감사해요  빠니님 영상 하나하나가.. 정말 제가 마치 여행하듯이.. 삶의 행복이에요  이대로 멈추나 했는데 다시 같이 가게되서 너무 기쁩니다. 항상 행복한 일만 있으시길 바래요</span><img alt=\"🙆‍♀\" class=\"small-emoji emoji style-scope yt-formatted-string\" src=\"https://www.youtube.com/s/gaming/emoji/7ff574f2/emoji_u1f646_200d_2640.png\"/><span class=\"style-scope yt-formatted-string\" dir=\"auto\">️</span></yt-formatted-string>,\n",
       " <yt-formatted-string class=\"style-scope ytd-comment-renderer\" id=\"content-text\" slot=\"content\" split-lines=\"\" user-input=\"\">진짜 나도 유럽에서 캐리어 통째로 잃어버리고 멘탈 나갔던 기억 난다 ㅋㅋ 빠니형 물론 마음고생은 크게 했지만 이 사건 때문에 어쩌면 환기도 되고 큰 이야깃거리도 생겼고 구독자들과 다같이 으쌰으쌰하게 된거 같아 다시 일어서는 모습 나한테도 정말 큰 힘이 되네 계속 가보자고오♡</yt-formatted-string>,\n",
       " <yt-formatted-string class=\"style-scope ytd-comment-renderer\" id=\"content-text\" slot=\"content\" split-lines=\"\" user-input=\"\">사고를 당했음에도 불구하고 마음을 다잡는 모습을 보고 정신력,마음가짐을 배웠습니다. 빠니형 힘내시고 남은 여행 마무리 잘하시길 바라겠습니다.</yt-formatted-string>,\n",
       " <yt-formatted-string class=\"style-scope ytd-comment-renderer\" id=\"content-text\" slot=\"content\" split-lines=\"\" user-input=\"\">엔딩보면서 그냥 뭉클해진다.. 이게 사람 사는거지 하고 느껴지면서도 다잡고 다시 가보자는 빠니보틀도 멋있고.. 볼거리 들을거리 제공해주셔서 항상 감사합니다! 부디 마지막까지 안전하게 여행하세요!</yt-formatted-string>,\n",
       " <yt-formatted-string class=\"style-scope ytd-comment-renderer\" id=\"content-text\" slot=\"content\" split-lines=\"\" user-input=\"\">형 진심 존경합니다! 뜻하지 않는 부딪침이 있었는데 멘탈잡고 끝까지 나아가는 자세 보면서 도전을 받습니다 마지막까지 여행 잘 마무리하고 멋지게 돌아오길 응원할게요!</yt-formatted-string>,\n",
       " <yt-formatted-string class=\"style-scope ytd-comment-renderer\" id=\"content-text\" slot=\"content\" split-lines=\"\" user-input=\"\">진짜 힘드셨을텐데 재정비하시는것보고 다시한번 존경스럽습니다 꼭 여행 마무리잘하시고 무사히 한국돌아오셨으면 좋겠습니다. 새해복 많이 받으세요!</yt-formatted-string>,\n",
       " <yt-formatted-string class=\"style-scope ytd-comment-renderer\" id=\"content-text\" slot=\"content\" split-lines=\"\" user-input=\"\">진짜 중요한 물건 잃어버리면 멘탈잡기 힘들실텐데...끝까지 여행 하시는거 보고 정말 대단하다고 생각합니다....항상 응원합니다</yt-formatted-string>,\n",
       " <yt-formatted-string class=\"style-scope ytd-comment-renderer\" id=\"content-text\" slot=\"content\" split-lines=\"\" user-input=\"\">고생 많으셨습니다. 위기에도 마음 다 잡으시는 모습이 대단하시네요..! 아무쪼록 별탈없이 무사히 여행 마무리 하시길 바라고 응원하겠습니다! 빠니보틀 화이팅!!</yt-formatted-string>,\n",
       " <yt-formatted-string class=\"style-scope ytd-comment-renderer\" id=\"content-text\" slot=\"content\" split-lines=\"\" user-input=\"\"><span class=\"style-scope yt-formatted-string\" dir=\"auto\">새 보금자리라는 표현이 진짜 멋있다…. </span><span class=\"style-scope yt-formatted-string\" dir=\"auto\">\n",
       " </span><span class=\"style-scope yt-formatted-string\" dir=\"auto\">힘든 상황일텐데 마음 다잡는 것도 너무 멋있고 </span><span class=\"style-scope yt-formatted-string\" dir=\"auto\">\n",
       " </span><span class=\"style-scope yt-formatted-string\" dir=\"auto\">긍정적인 모습 본받아갑니다 형!!!!!</span></yt-formatted-string>,\n",
       " <yt-formatted-string class=\"style-scope ytd-comment-renderer\" id=\"content-text\" slot=\"content\" split-lines=\"\" user-input=\"\"><span class=\"style-scope yt-formatted-string\" dir=\"auto\">빠니님 가방 잃어버리셨다는거 보고 하루종일 일이 손에 잡히지 않더라구요 ㅜㅜ 방구석에서 빠니님 영상으로 매일 힐링받고 그 어떤 예능 영화 드라마보다도 재미있게 보고있어요 앞으로 여행길 안전하고 순탄하게 쭉쭉 나아가시기만을 바랍니다 오늘 마지막 3줄요약은 특히 멋있네요 마인드 배워갑니다 빠니버를 화이팅!</span><img alt=\"💖\" class=\"small-emoji emoji style-scope yt-formatted-string\" src=\"https://www.youtube.com/s/gaming/emoji/7ff574f2/emoji_u1f496.png\"/></yt-formatted-string>,\n",
       " <yt-formatted-string class=\"style-scope ytd-comment-renderer\" id=\"content-text\" slot=\"content\" split-lines=\"\" user-input=\"\">빠니형 영상 조용히보고 좋아요만 누르다가 처음 댓글 달아봐요 늘 고독하고 빡센 여행에서 국내에선 오지라퍼들과 현지엔 이런저런 변수들에 어려움도 많으시겠지만 국내 많은 팬들 대신 여행해주고 너무나 값진 영상들을 공유해주는것에 늘 감사합니다 어떤 선택을 하시던 묵묵히 응원하지만 멘탈 잘 추스리시고 여행 잘마무리하시는 결정에 더욱 더 감사하고 멋지다는 생각이 듭니다 아무쪼록 항상 무탈하시고 건강이 우선이므로 여행 마무리까지 화이팅하시고 무사귀환하시길 빌어요!</yt-formatted-string>,\n",
       " <yt-formatted-string class=\"style-scope ytd-comment-renderer\" id=\"content-text\" slot=\"content\" split-lines=\"\" user-input=\"\">빠니형 정주행할때는 몰랐는데 알람 켜놓고 영상 기다리는 입장이 되어보니 가방 도둑맞았을때 얼마나 멘탈이 나가고 심란했을지 감히 상상도 안갔습니다ㅠㅠ.. 힘내시고 여행 잘 마무리 하시길 바라겠습니다!!</yt-formatted-string>,\n",
       " <yt-formatted-string class=\"style-scope ytd-comment-renderer\" id=\"content-text\" slot=\"content\" split-lines=\"\" user-input=\"\">소식 들었을 때 큰일이다 싶었는데 마음 추스르고 여행을 계속 하신다니 응원합니다! 이번 기회로 더 단단해진 마음으로 여행 조심히 잘 하시길 바라요. 새해 복 많이 받으세요!</yt-formatted-string>]"
      ]
     },
     "execution_count": 24,
     "metadata": {},
     "output_type": "execute_result"
    }
   ],
   "source": [
    "comment"
   ]
  },
  {
   "cell_type": "code",
   "execution_count": null,
   "id": "b2a3f695",
   "metadata": {},
   "outputs": [],
   "source": []
  },
  {
   "cell_type": "code",
   "execution_count": 27,
   "id": "e384f816",
   "metadata": {
    "id": "e384f816"
   },
   "outputs": [],
   "source": [
    "#뽑아낸 정보 중 댓글만 추출하기\n",
    "id_final = []\n",
    "comment_final = []\n",
    "\n",
    "for i in range(len(id)):\n",
    "    temp_id = id[i].text\n",
    "    temp_id = temp_id.replace('\\n', '')\n",
    "    temp_id = temp_id.replace('\\t', '')\n",
    "    temp_id = temp_id.replace('    ', '')\n",
    "    id_final.append(temp_id) # 댓글 작성자\n",
    "\n",
    "    temp_comment = comment[i].text\n",
    "    temp_comment = temp_comment.replace('\\n', '')\n",
    "    temp_comment = temp_comment.replace('\\t', '')\n",
    "    temp_comment = temp_comment.replace('    ', '')\n",
    "    comment_final.append(temp_comment) # 댓글 내용"
   ]
  },
  {
   "cell_type": "code",
   "execution_count": 31,
   "id": "5eb230f0",
   "metadata": {},
   "outputs": [
    {
     "data": {
      "text/plain": [
       "['어려운 상황에 도움을 주신 쿠스코 사랑채 식당 사장님께 감사 인사를 드립니다.',\n",
       " '가방 도둑 맞으셨다는 라이브 보고, 저라면진짜 멘붕와서 정신 못차렸을것 같은데마음다잡고 다시 일어나신 모습에진심어린 응원의 박수를 보냅니다!남은 기간 몸건강히 여행 마치시고안전하게 귀국하시길 바랍니다~',\n",
       " '진짜 힘든 상황을 겪으신건데 ㅠㅠ 남은 여정 포기하지 않으시고 계속해서 이어가시는 모습 너무 멋집니다  남은 여행 일정들 잘 진행하실 수 있기를 응원하겠습니다!!!',\n",
       " '사실 국내에서 지갑 잃어버려도 어떻게 해야하나 막막하고  깝깝한데.. 외국에서 그보다 더한 놑북이 든 가방을 두둑맞았을때 보틀형님의 심정은 상상도 못할거 같아요. .그래도  마음 다잡고 여행에 심기일전하는 모습에 한편으로는 짠하면서도 다른 한편으로는 멋있고 존경스럽다는 생각이 듭니다.위험하지않게 조심히 여행 끝나기를 응원하겠습니다',\n",
       " '아는사람 하나 없는 타지에서 고생 많으셨습니다 여행을 그만두시고 귀국하시는게 최선이라고 생각했는데 이상황에서도 \"끝까지 달려보자\"는 말씀이 참 인상깊고 멋지네요 얼마남지않은 이번 여행 무사히 마치시길 바랍니다 기다리시는 동안 정주행 한번 더 했네요ㅎㅎ 항상 영상보고 힐링하고 있습니다 감사합니다 새해 복 많이 받으시고 힘내세요!!',\n",
       " '힘드셨을텐데 이렇게 마음 잡으신거 보니 너무 대단해요!! 저도 동유럽에서 지갑 도난 당하고 멘붕 와서 진짜 뭘 구경했는지 기억도 안 나는데 빠니님 정말 대단합니다! 마지막까지 여행 잘 마치시고 무사히 돌아오시길 :)',\n",
       " '라이브 보고 깜짝놀랐는데 멘탈잡고 다시 달리시려는 모습에 감탄했습니다! 사실 한국으로 돌아올 생각도 있다고 하시는거 보고 살짝 아쉬웠지만 그래도 빠니님이 최우선이니 어쩔 수없다고 생각했는데 이렇게 계속 여행 하시는 모습을 볼 수있어서 넘나 기뻐요!! 항상 응원하고있겠습니다!!',\n",
       " '힘든 상황임에도.. 이렇게 여행을 계속 해주셔서 너무 감사해요  빠니님 영상 하나하나가.. 정말 제가 마치 여행하듯이.. 삶의 행복이에요  이대로 멈추나 했는데 다시 같이 가게되서 너무 기쁩니다. 항상 행복한 일만 있으시길 바래요️',\n",
       " '진짜 나도 유럽에서 캐리어 통째로 잃어버리고 멘탈 나갔던 기억 난다 ㅋㅋ 빠니형 물론 마음고생은 크게 했지만 이 사건 때문에 어쩌면 환기도 되고 큰 이야깃거리도 생겼고 구독자들과 다같이 으쌰으쌰하게 된거 같아 다시 일어서는 모습 나한테도 정말 큰 힘이 되네 계속 가보자고오♡',\n",
       " '사고를 당했음에도 불구하고 마음을 다잡는 모습을 보고 정신력,마음가짐을 배웠습니다. 빠니형 힘내시고 남은 여행 마무리 잘하시길 바라겠습니다.',\n",
       " '엔딩보면서 그냥 뭉클해진다.. 이게 사람 사는거지 하고 느껴지면서도 다잡고 다시 가보자는 빠니보틀도 멋있고.. 볼거리 들을거리 제공해주셔서 항상 감사합니다! 부디 마지막까지 안전하게 여행하세요!',\n",
       " '형 진심 존경합니다! 뜻하지 않는 부딪침이 있었는데 멘탈잡고 끝까지 나아가는 자세 보면서 도전을 받습니다 마지막까지 여행 잘 마무리하고 멋지게 돌아오길 응원할게요!',\n",
       " '진짜 힘드셨을텐데 재정비하시는것보고 다시한번 존경스럽습니다 꼭 여행 마무리잘하시고 무사히 한국돌아오셨으면 좋겠습니다. 새해복 많이 받으세요!',\n",
       " '진짜 중요한 물건 잃어버리면 멘탈잡기 힘들실텐데...끝까지 여행 하시는거 보고 정말 대단하다고 생각합니다....항상 응원합니다',\n",
       " '고생 많으셨습니다. 위기에도 마음 다 잡으시는 모습이 대단하시네요..! 아무쪼록 별탈없이 무사히 여행 마무리 하시길 바라고 응원하겠습니다! 빠니보틀 화이팅!!',\n",
       " '새 보금자리라는 표현이 진짜 멋있다…. 힘든 상황일텐데 마음 다잡는 것도 너무 멋있고 긍정적인 모습 본받아갑니다 형!!!!!',\n",
       " '빠니님 가방 잃어버리셨다는거 보고 하루종일 일이 손에 잡히지 않더라구요 ㅜㅜ 방구석에서 빠니님 영상으로 매일 힐링받고 그 어떤 예능 영화 드라마보다도 재미있게 보고있어요 앞으로 여행길 안전하고 순탄하게 쭉쭉 나아가시기만을 바랍니다 오늘 마지막 3줄요약은 특히 멋있네요 마인드 배워갑니다 빠니버를 화이팅!',\n",
       " '빠니형 영상 조용히보고 좋아요만 누르다가 처음 댓글 달아봐요 늘 고독하고 빡센 여행에서 국내에선 오지라퍼들과 현지엔 이런저런 변수들에 어려움도 많으시겠지만 국내 많은 팬들 대신 여행해주고 너무나 값진 영상들을 공유해주는것에 늘 감사합니다 어떤 선택을 하시던 묵묵히 응원하지만 멘탈 잘 추스리시고 여행 잘마무리하시는 결정에 더욱 더 감사하고 멋지다는 생각이 듭니다 아무쪼록 항상 무탈하시고 건강이 우선이므로 여행 마무리까지 화이팅하시고 무사귀환하시길 빌어요!',\n",
       " '빠니형 정주행할때는 몰랐는데 알람 켜놓고 영상 기다리는 입장이 되어보니 가방 도둑맞았을때 얼마나 멘탈이 나가고 심란했을지 감히 상상도 안갔습니다ㅠㅠ.. 힘내시고 여행 잘 마무리 하시길 바라겠습니다!!',\n",
       " '소식 들었을 때 큰일이다 싶었는데 마음 추스르고 여행을 계속 하신다니 응원합니다! 이번 기회로 더 단단해진 마음으로 여행 조심히 잘 하시길 바라요. 새해 복 많이 받으세요!']"
      ]
     },
     "execution_count": 31,
     "metadata": {},
     "output_type": "execute_result"
    }
   ],
   "source": [
    "comment_final"
   ]
  },
  {
   "cell_type": "code",
   "execution_count": 33,
   "id": "c880f28e",
   "metadata": {
    "id": "c880f28e"
   },
   "outputs": [],
   "source": [
    "#엑셀에 댓글표 만들어 저장하기\n",
    "\n",
    "# 저장된 내용을 아이디, 댓글 내용를 가지도록 dict으로 저장\n",
    "pd_data = {\"아이디\" : id_final, \"댓글 내용\" : comment_final}\n",
    "\n",
    "# 데이터 프레임으로 변환\n",
    "youtube_pd = pd.DataFrame(pd_data)\n",
    "\n",
    "# 데이터를 xlsx로 저장 index=False 데이터의 순서 번호 제거\n",
    "youtube_pd.to_excel(\"yo.xlsx\", index=False)\n",
    "df = pd.read_excel(\"yo.xlsx\")\n",
    "df.to_csv(\"yo.csv \", index=False, encoding=\"utf-8-sig\")"
   ]
  },
  {
   "cell_type": "code",
   "execution_count": null,
   "id": "55a4808a",
   "metadata": {},
   "outputs": [],
   "source": []
  },
  {
   "cell_type": "code",
   "execution_count": 34,
   "id": "073b0621",
   "metadata": {
    "id": "073b0621"
   },
   "outputs": [
    {
     "data": {
      "text/plain": [
       "0       빠니보틀 Pani Bottle\n",
       "1           Bum Chul Kim\n",
       "2         한타스틱 Hantastic\n",
       "3                   ro j\n",
       "4                    리바이\n",
       "5             sohee park\n",
       "6             HYP Travel\n",
       "7                   먹구누나\n",
       "8                  낭만적이야\n",
       "9                   푸른하늘\n",
       "10                    진영\n",
       "11              Hoon luo\n",
       "12                 막걸리수액\n",
       "13                     킴\n",
       "14               yontube\n",
       "15                   영원히\n",
       "16               Noah _E\n",
       "17                   라다임\n",
       "18               lia_dad\n",
       "19             solmi Kim\n",
       "Name: 아이디, dtype: object"
      ]
     },
     "execution_count": 34,
     "metadata": {},
     "output_type": "execute_result"
    }
   ],
   "source": [
    "df[\"아이디\"]"
   ]
  },
  {
   "cell_type": "code",
   "execution_count": 52,
   "id": "b3ab9403",
   "metadata": {
    "id": "b3ab9403"
   },
   "outputs": [],
   "source": [
    "import matplotlib.font_manager as fm\n",
    "\n",
    "for f in fm.fontManager.ttflist:\n",
    "    if 'Nanum' in f.name:\n",
    "        print(f.name, f.fname)"
   ]
  },
  {
   "cell_type": "code",
   "execution_count": 45,
   "id": "0600b0d2",
   "metadata": {},
   "outputs": [
    {
     "data": {
      "text/plain": [
       "'C:\\\\Windows\\\\Fonts\\\\GENISO.ttf'"
      ]
     },
     "execution_count": 45,
     "metadata": {},
     "output_type": "execute_result"
    }
   ],
   "source": [
    "f.fname"
   ]
  },
  {
   "cell_type": "code",
   "execution_count": 51,
   "id": "d8b656ea",
   "metadata": {
    "id": "d8b656ea"
   },
   "outputs": [],
   "source": [
    "# 폰트 경로 설정\n",
    "font_path = 'C:/Users/USER/AppData/Local/Microsoft/Windows/Fonts/NanumSquareB.ttf'"
   ]
  },
  {
   "cell_type": "code",
   "execution_count": 70,
   "id": "95939575",
   "metadata": {
    "id": "95939575"
   },
   "outputs": [],
   "source": [
    "# 불필요한 단어 제거하기\n",
    "from wordcloud import WordCloud, STOPWORDS \n",
    "\n",
    "stopwords = set(STOPWORDS)\n",
    "stopwords.add(\"ㅋㅋ\")\n",
    "stopwords.add(\"ㅎㅎ\")\n",
    "stopwords.add(\"너무\")\n",
    "stopwords.add(\"진짜\")\n",
    "stopwords.add(\"와\")"
   ]
  },
  {
   "cell_type": "code",
   "execution_count": 53,
   "id": "2c4507e6",
   "metadata": {
    "id": "2c4507e6"
   },
   "outputs": [
    {
     "data": {
      "text/plain": [
       "{'a',\n",
       " 'about',\n",
       " 'above',\n",
       " 'after',\n",
       " 'again',\n",
       " 'against',\n",
       " 'all',\n",
       " 'also',\n",
       " 'am',\n",
       " 'an',\n",
       " 'and',\n",
       " 'any',\n",
       " 'are',\n",
       " \"aren't\",\n",
       " 'as',\n",
       " 'at',\n",
       " 'be',\n",
       " 'because',\n",
       " 'been',\n",
       " 'before',\n",
       " 'being',\n",
       " 'below',\n",
       " 'between',\n",
       " 'both',\n",
       " 'but',\n",
       " 'by',\n",
       " 'can',\n",
       " \"can't\",\n",
       " 'cannot',\n",
       " 'com',\n",
       " 'could',\n",
       " \"couldn't\",\n",
       " 'did',\n",
       " \"didn't\",\n",
       " 'do',\n",
       " 'does',\n",
       " \"doesn't\",\n",
       " 'doing',\n",
       " \"don't\",\n",
       " 'down',\n",
       " 'during',\n",
       " 'each',\n",
       " 'else',\n",
       " 'ever',\n",
       " 'few',\n",
       " 'for',\n",
       " 'from',\n",
       " 'further',\n",
       " 'get',\n",
       " 'had',\n",
       " \"hadn't\",\n",
       " 'has',\n",
       " \"hasn't\",\n",
       " 'have',\n",
       " \"haven't\",\n",
       " 'having',\n",
       " 'he',\n",
       " \"he'd\",\n",
       " \"he'll\",\n",
       " \"he's\",\n",
       " 'hence',\n",
       " 'her',\n",
       " 'here',\n",
       " \"here's\",\n",
       " 'hers',\n",
       " 'herself',\n",
       " 'him',\n",
       " 'himself',\n",
       " 'his',\n",
       " 'how',\n",
       " \"how's\",\n",
       " 'however',\n",
       " 'http',\n",
       " 'i',\n",
       " \"i'd\",\n",
       " \"i'll\",\n",
       " \"i'm\",\n",
       " \"i've\",\n",
       " 'if',\n",
       " 'in',\n",
       " 'into',\n",
       " 'is',\n",
       " \"isn't\",\n",
       " 'it',\n",
       " \"it's\",\n",
       " 'its',\n",
       " 'itself',\n",
       " 'just',\n",
       " 'k',\n",
       " \"let's\",\n",
       " 'like',\n",
       " 'me',\n",
       " 'more',\n",
       " 'most',\n",
       " \"mustn't\",\n",
       " 'my',\n",
       " 'myself',\n",
       " 'no',\n",
       " 'nor',\n",
       " 'not',\n",
       " 'of',\n",
       " 'off',\n",
       " 'on',\n",
       " 'once',\n",
       " 'only',\n",
       " 'or',\n",
       " 'other',\n",
       " 'otherwise',\n",
       " 'ought',\n",
       " 'our',\n",
       " 'ours',\n",
       " 'ourselves',\n",
       " 'out',\n",
       " 'over',\n",
       " 'own',\n",
       " 'r',\n",
       " 'same',\n",
       " 'shall',\n",
       " \"shan't\",\n",
       " 'she',\n",
       " \"she'd\",\n",
       " \"she'll\",\n",
       " \"she's\",\n",
       " 'should',\n",
       " \"shouldn't\",\n",
       " 'since',\n",
       " 'so',\n",
       " 'some',\n",
       " 'such',\n",
       " 'than',\n",
       " 'that',\n",
       " \"that's\",\n",
       " 'the',\n",
       " 'their',\n",
       " 'theirs',\n",
       " 'them',\n",
       " 'themselves',\n",
       " 'then',\n",
       " 'there',\n",
       " \"there's\",\n",
       " 'therefore',\n",
       " 'these',\n",
       " 'they',\n",
       " \"they'd\",\n",
       " \"they'll\",\n",
       " \"they're\",\n",
       " \"they've\",\n",
       " 'this',\n",
       " 'those',\n",
       " 'through',\n",
       " 'to',\n",
       " 'too',\n",
       " 'under',\n",
       " 'until',\n",
       " 'up',\n",
       " 'very',\n",
       " 'was',\n",
       " \"wasn't\",\n",
       " 'we',\n",
       " \"we'd\",\n",
       " \"we'll\",\n",
       " \"we're\",\n",
       " \"we've\",\n",
       " 'were',\n",
       " \"weren't\",\n",
       " 'what',\n",
       " \"what's\",\n",
       " 'when',\n",
       " \"when's\",\n",
       " 'where',\n",
       " \"where's\",\n",
       " 'which',\n",
       " 'while',\n",
       " 'who',\n",
       " \"who's\",\n",
       " 'whom',\n",
       " 'why',\n",
       " \"why's\",\n",
       " 'with',\n",
       " \"won't\",\n",
       " 'would',\n",
       " \"wouldn't\",\n",
       " 'www',\n",
       " 'you',\n",
       " \"you'd\",\n",
       " \"you'll\",\n",
       " \"you're\",\n",
       " \"you've\",\n",
       " 'your',\n",
       " 'yours',\n",
       " 'yourself',\n",
       " 'yourselves',\n",
       " 'ㅋㅋ',\n",
       " 'ㅎㅎ',\n",
       " '너무',\n",
       " '와',\n",
       " '진짜'}"
      ]
     },
     "execution_count": 53,
     "metadata": {},
     "output_type": "execute_result"
    }
   ],
   "source": [
    "stopwords"
   ]
  },
  {
   "cell_type": "code",
   "execution_count": 71,
   "id": "5bca2a42",
   "metadata": {
    "id": "5bca2a42"
   },
   "outputs": [],
   "source": [
    "with open(\"stopwords.txt\", encoding=\"utf-8\") as f:\n",
    "    stopwords = set(f.read().splitlines())"
   ]
  },
  {
   "cell_type": "code",
   "execution_count": 72,
   "id": "eb27e918",
   "metadata": {
    "id": "eb27e918"
   },
   "outputs": [],
   "source": [
    "from wordcloud import WordCloud\n",
    "import matplotlib.pyplot as plt\n",
    "\n",
    "# CSV 파일을 pandas 데이터프레임으로 읽어옴\n",
    "#df = pd.read_csv('파일이름.csv',encoding='utf-8')\n",
    "\n",
    "# 댓글 내용이 저장된 컬럼 선택\n",
    "comment_col = '댓글 내용'\n",
    "comment_list = df[comment_col].tolist()\n",
    "new_list = []\n",
    "for x in comment_list:\n",
    "    new_list.append(str(x))\n",
    "\n",
    "# 모든 댓글 내용을 하나의 문자열로 결합\n",
    "text = ' '.join(new_list)"
   ]
  },
  {
   "cell_type": "code",
   "execution_count": 73,
   "id": "9c43e549",
   "metadata": {
    "id": "9c43e549"
   },
   "outputs": [
    {
     "data": {
      "text/plain": [
       "'어려운 상황에 도움을 주신 쿠스코 사랑채 식당 사장님께 감사 인사를 드립니다. 가방 도둑 맞으셨다는 라이브 보고, 저라면진짜 멘붕와서 정신 못차렸을것 같은데마음다잡고 다시 일어나신 모습에진심어린 응원의 박수를 보냅니다!남은 기간 몸건강히 여행 마치시고안전하게 귀국하시길 바랍니다~ 진짜 힘든 상황을 겪으신건데 ㅠㅠ 남은 여정 포기하지 않으시고 계속해서 이어가시는 모습 너무 멋집니다  남은 여행 일정들 잘 진행하실 수 있기를 응원하겠습니다!!! 사실 국내에서 지갑 잃어버려도 어떻게 해야하나 막막하고  깝깝한데.. 외국에서 그보다 더한 놑북이 든 가방을 두둑맞았을때 보틀형님의 심정은 상상도 못할거 같아요. .그래도  마음 다잡고 여행에 심기일전하는 모습에 한편으로는 짠하면서도 다른 한편으로는 멋있고 존경스럽다는 생각이 듭니다.위험하지않게 조심히 여행 끝나기를 응원하겠습니다 아는사람 하나 없는 타지에서 고생 많으셨습니다 여행을 그만두시고 귀국하시는게 최선이라고 생각했는데 이상황에서도 \"끝까지 달려보자\"는 말씀이 참 인상깊고 멋지네요 얼마남지않은 이번 여행 무사히 마치시길 바랍니다 기다리시는 동안 정주행 한번 더 했네요ㅎㅎ 항상 영상보고 힐링하고 있습니다 감사합니다 새해 복 많이 받으시고 힘내세요!! 힘드셨을텐데 이렇게 마음 잡으신거 보니 너무 대단해요!! 저도 동유럽에서 지갑 도난 당하고 멘붕 와서 진짜 뭘 구경했는지 기억도 안 나는데 빠니님 정말 대단합니다! 마지막까지 여행 잘 마치시고 무사히 돌아오시길 :) 라이브 보고 깜짝놀랐는데 멘탈잡고 다시 달리시려는 모습에 감탄했습니다! 사실 한국으로 돌아올 생각도 있다고 하시는거 보고 살짝 아쉬웠지만 그래도 빠니님이 최우선이니 어쩔 수없다고 생각했는데 이렇게 계속 여행 하시는 모습을 볼 수있어서 넘나 기뻐요!! 항상 응원하고있겠습니다!! 힘든 상황임에도.. 이렇게 여행을 계속 해주셔서 너무 감사해요  빠니님 영상 하나하나가.. 정말 제가 마치 여행하듯이.. 삶의 행복이에요  이대로 멈추나 했는데 다시 같이 가게되서 너무 기쁩니다. 항상 행복한 일만 있으시길 바래요️ 진짜 나도 유럽에서 캐리어 통째로 잃어버리고 멘탈 나갔던 기억 난다 ㅋㅋ 빠니형 물론 마음고생은 크게 했지만 이 사건 때문에 어쩌면 환기도 되고 큰 이야깃거리도 생겼고 구독자들과 다같이 으쌰으쌰하게 된거 같아 다시 일어서는 모습 나한테도 정말 큰 힘이 되네 계속 가보자고오♡ 사고를 당했음에도 불구하고 마음을 다잡는 모습을 보고 정신력,마음가짐을 배웠습니다. 빠니형 힘내시고 남은 여행 마무리 잘하시길 바라겠습니다. 엔딩보면서 그냥 뭉클해진다.. 이게 사람 사는거지 하고 느껴지면서도 다잡고 다시 가보자는 빠니보틀도 멋있고.. 볼거리 들을거리 제공해주셔서 항상 감사합니다! 부디 마지막까지 안전하게 여행하세요! 형 진심 존경합니다! 뜻하지 않는 부딪침이 있었는데 멘탈잡고 끝까지 나아가는 자세 보면서 도전을 받습니다 마지막까지 여행 잘 마무리하고 멋지게 돌아오길 응원할게요! 진짜 힘드셨을텐데 재정비하시는것보고 다시한번 존경스럽습니다 꼭 여행 마무리잘하시고 무사히 한국돌아오셨으면 좋겠습니다. 새해복 많이 받으세요! 진짜 중요한 물건 잃어버리면 멘탈잡기 힘들실텐데...끝까지 여행 하시는거 보고 정말 대단하다고 생각합니다....항상 응원합니다 고생 많으셨습니다. 위기에도 마음 다 잡으시는 모습이 대단하시네요..! 아무쪼록 별탈없이 무사히 여행 마무리 하시길 바라고 응원하겠습니다! 빠니보틀 화이팅!! 새 보금자리라는 표현이 진짜 멋있다…. 힘든 상황일텐데 마음 다잡는 것도 너무 멋있고 긍정적인 모습 본받아갑니다 형!!!!! 빠니님 가방 잃어버리셨다는거 보고 하루종일 일이 손에 잡히지 않더라구요 ㅜㅜ 방구석에서 빠니님 영상으로 매일 힐링받고 그 어떤 예능 영화 드라마보다도 재미있게 보고있어요 앞으로 여행길 안전하고 순탄하게 쭉쭉 나아가시기만을 바랍니다 오늘 마지막 3줄요약은 특히 멋있네요 마인드 배워갑니다 빠니버를 화이팅! 빠니형 영상 조용히보고 좋아요만 누르다가 처음 댓글 달아봐요 늘 고독하고 빡센 여행에서 국내에선 오지라퍼들과 현지엔 이런저런 변수들에 어려움도 많으시겠지만 국내 많은 팬들 대신 여행해주고 너무나 값진 영상들을 공유해주는것에 늘 감사합니다 어떤 선택을 하시던 묵묵히 응원하지만 멘탈 잘 추스리시고 여행 잘마무리하시는 결정에 더욱 더 감사하고 멋지다는 생각이 듭니다 아무쪼록 항상 무탈하시고 건강이 우선이므로 여행 마무리까지 화이팅하시고 무사귀환하시길 빌어요! 빠니형 정주행할때는 몰랐는데 알람 켜놓고 영상 기다리는 입장이 되어보니 가방 도둑맞았을때 얼마나 멘탈이 나가고 심란했을지 감히 상상도 안갔습니다ㅠㅠ.. 힘내시고 여행 잘 마무리 하시길 바라겠습니다!! 소식 들었을 때 큰일이다 싶었는데 마음 추스르고 여행을 계속 하신다니 응원합니다! 이번 기회로 더 단단해진 마음으로 여행 조심히 잘 하시길 바라요. 새해 복 많이 받으세요!'"
      ]
     },
     "execution_count": 73,
     "metadata": {},
     "output_type": "execute_result"
    }
   ],
   "source": [
    "text"
   ]
  },
  {
   "cell_type": "code",
   "execution_count": 74,
   "id": "afb6658d",
   "metadata": {
    "id": "afb6658d"
   },
   "outputs": [
    {
     "data": {
      "image/png": "[encoded data removed]",
      "text/plain": [
       "<Figure size 800x800 with 1 Axes>"
      ]
     },
     "metadata": {},
     "output_type": "display_data"
    }
   ],
   "source": [
    "# 워드 클라우드 생성\n",
    "wordcloud = WordCloud(font_path=font_path,width=800, height=800,\n",
    "                      background_color='white',stopwords=stopwords, min_word_length=4).generate(text)\n",
    "\n",
    "# 단어의 빈도 계산\n",
    "wordcloud.generate_from_frequencies(wordcloud.process_text(text.lower()))\n",
    "word_freq = wordcloud.process_text(text.lower())\n",
    "\n",
    "# 워드 클라우드 출력\n",
    "plt.figure(figsize=(8, 8), facecolor=None)\n",
    "plt.imshow(wordcloud, interpolation='bilinear')\n",
    "plt.axis('off')\n",
    "plt.tight_layout(pad=0)\n",
    "\n",
    "# 파일로 저장\n",
    "plt.savefig('wordcloud.png')\n"
   ]
  },
  {
   "cell_type": "code",
   "execution_count": 78,
   "id": "1c12e372",
   "metadata": {
    "id": "1c12e372"
   },
   "outputs": [],
   "source": [
    "##문제 정답\n",
    "\n",
    "# 해당 숫자보다 낮은 빈도의 단어를 도출함\n",
    "word_num = {}\n",
    "for word, freq in word_freq.items():\n",
    "    if freq < 3: # 해당 단어의 빈도수 보다 낮은 단어 도출\n",
    "        word_num[word] = freq\n",
    "\n",
    "# 낮은 빈도의 단어를 프린트함\n",
    "for word, frequency in word_num.items():\n",
    "    print((\"{}: {}\").format(word, frequency))"
   ]
  },
  {
   "cell_type": "code",
   "execution_count": null,
   "id": "2e859e13",
   "metadata": {
    "id": "2e859e13"
   },
   "outputs": [],
   "source": []
  },
  {
   "cell_type": "code",
   "execution_count": null,
   "id": "34ad2abf",
   "metadata": {
    "id": "34ad2abf"
   },
   "outputs": [],
   "source": [
    "from sklearn.feature_extraction.text import CountVectorizer\n",
    "from sklearn.naive_bayes import MultinomialNB\n",
    "import numpy as np"
   ]
  },
  {
   "cell_type": "code",
   "execution_count": null,
   "id": "ca38545b",
   "metadata": {
    "id": "ca38545b"
   },
   "outputs": [],
   "source": [
    "def train_sentiment_analysis_model(positive_file, negative_file):\n",
    "    # 긍정 단어와 부정 단어를 읽어서 리스트로 변환합니다.\n",
    "    with open(positive_file, 'r', encoding='utf-8') as f:\n",
    "        positive_words = f.read().splitlines()\n",
    "\n",
    "    with open(negative_file, 'r', encoding='utf-8') as f:\n",
    "        negative_words = f.read().splitlines()\n",
    "\n",
    "    # 긍정적인 문장과 부정적인 문장을 학습 데이터로 생성합니다.\n",
    "    positive_sentences = [\" \".join(positive_words)] * len(positive_words)\n",
    "    negative_sentences = [\" \".join(negative_words)] * len(negative_words)\n",
    "\n",
    "    # 학습 데이터와 레이블을 생성합니다.\n",
    "    X = positive_sentences + negative_sentences\n",
    "    y = [1] * len(positive_sentences) + [0] * len(negative_sentences)\n",
    "\n",
    "    # CountVectorizer를 사용하여 단어의 빈도수를 측정합니다.\n",
    "    vectorizer = CountVectorizer(token_pattern=r\"\\b\\w+\\b\") \n",
    "    X = vectorizer.fit_transform(X)\n",
    "\n",
    "    # LogisticRegression을 사용하여 모델을 학습합니다.\n",
    "    clf = MultinomialNB()\n",
    "    clf.fit(X, y)\n",
    "\n",
    "    return vectorizer, clf"
   ]
  },
  {
   "cell_type": "code",
   "execution_count": null,
   "id": "Dg78AgE-0cd3",
   "metadata": {
    "id": "Dg78AgE-0cd3"
   },
   "outputs": [],
   "source": [
    "import itertools\n",
    "import numpy as np\n",
    "\n",
    "pos_list = []\n",
    "neg_list = []\n",
    "positive_list=[]\n",
    "negative_list=[]\n",
    "pos_convert=[]\n",
    "neg_convert=[]\n",
    "\n",
    "def train_sentiment_analysis_model(positive_file, negative_file):\n",
    "    # 긍정 단어와 부정 단어를 읽어서 리스트로 변환합니다.\n",
    "    with open(positive_file, 'r', encoding='utf-8') as f:\n",
    "        positive_words = f.read().splitlines()\n",
    "\n",
    "    with open(negative_file, 'r', encoding='utf-8') as f:\n",
    "        negative_words = f.read().splitlines()\n",
    "\n",
    "    max_permutations = 20\n",
    "\n",
    "    pos_per = list(itertools.islice(itertools.permutations(positive_words), max_permutations))\n",
    "    neg_per = list(itertools.islice(itertools.permutations(negative_words), max_permutations))\n",
    "\n",
    "    for p in positive_sentences:\n",
    "        pos_list.append(list(p))\n",
    "\n",
    "    for i in range(0,len(pos_list)):\n",
    "        a=[\" \".join(pos_list[i])]\n",
    "        positive_list.append(a)\n",
    "\n",
    "    for num in positive_list:\n",
    "        pos_convert.append(num[0])\n",
    "    \n",
    "    for n in negative_sentences:\n",
    "        neg_list.append(list(n))\n",
    "\n",
    "    for i in range(0,len(neg_list)):\n",
    "        a=[\" \".join(neg_list[i])]\n",
    "        negative_list.append(a)\n",
    "\n",
    "    for num in negative_list:\n",
    "        neg_convert.append(num[0])\n",
    "\n",
    "    # 학습 데이터와 레이블을 생성합니다.\n",
    "    X = pos_convert + neg_convert\n",
    "    y = [1] * len(pos_convert) + [0] * len(neg_convert)\n",
    "\n",
    "    # CountVectorizer를 사용하여 단어의 빈도수를 측정합니다.\n",
    "    vectorizer = CountVectorizer(token_pattern=r\"\\b\\w+\\b\")\n",
    "    X = vectorizer.fit_transform(X)\n",
    "    # LogisticRegression을 사용하여 모델을 학습합니다.\n",
    "    clf = MultinomialNB()\n",
    "    clf.fit(X, y)\n",
    "\n",
    "    return vectorizer, clf"
   ]
  },
  {
   "cell_type": "code",
   "execution_count": null,
   "id": "e4a1e92c",
   "metadata": {
    "id": "e4a1e92c"
   },
   "outputs": [],
   "source": [
    "def predict_sentiment_analysis(text, vectorizer, clf):\n",
    "    # 입력된 텍스트를 벡터화합니다.\n",
    "    X = vectorizer.transform([text])\n",
    "\n",
    "    # 모델을 사용하여 감성을 예측합니다.\n",
    "    y_pred = clf.predict(X)\n",
    "\n",
    "    # 예측 결과에 따라 출력 메시지와 카운트 정보를 선택합니다.\n",
    "    if y_pred[0] == 1:\n",
    "        result = {\"sentiment\": \"긍정적인 단어\", \"positive_count\": 1, \"negative_count\": 0}\n",
    "    else:\n",
    "        result = {\"sentiment\": \"부정적인 단어\", \"positive_count\": 0, \"negative_count\": 1}\n",
    "\n",
    "    # 입력된 텍스트에 포함된 긍정 단어와 부정 단어를 카운트합니다.\n",
    "    for word in text.split():\n",
    "        if word in positive_words:\n",
    "            result[\"positive_count\"] += 1\n",
    "        elif word in negative_words:\n",
    "            result[\"negative_count\"] += 1\n",
    "\n",
    "    return result"
   ]
  },
  {
   "cell_type": "code",
   "execution_count": null,
   "id": "5b7a4127",
   "metadata": {
    "id": "5b7a4127"
   },
   "outputs": [],
   "source": [
    "with open('text/positive_words.txt', 'r',encoding='utf-8') as f:\n",
    "    positive_words = f.read().splitlines()\n",
    "\n",
    "with open('text/negative_words.txt', 'r',encoding='utf-8') as f:\n",
    "    negative_words = f.read().splitlines()"
   ]
  },
  {
   "cell_type": "code",
   "execution_count": null,
   "id": "0086eba4",
   "metadata": {
    "id": "0086eba4"
   },
   "outputs": [],
   "source": [
    "vectorizer, clf=train_sentiment_analysis_model(\"text/positive_words.txt\",\"text/negative_words.txt\")\n",
    "text = input(\"분석할 문자열을 입력하세요: \")\n",
    "\n",
    "predict_sentiment_analysis(text, vectorizer, clf)"
   ]
  },
  {
   "cell_type": "code",
   "execution_count": null,
   "id": "1e43f923",
   "metadata": {
    "id": "1e43f923"
   },
   "outputs": [],
   "source": [
    "df = pd.read_csv(\"yo.csv\", encoding='utf-8-sig')\n",
    "comment_col = '댓글 내용'\n",
    "comment_list = df[comment_col].tolist()\n",
    "new_list = []\n",
    "for x in comment_list:\n",
    "    new_list.append(str(x))"
   ]
  },
  {
   "cell_type": "code",
   "execution_count": null,
   "id": "8f20cf85",
   "metadata": {
    "id": "8f20cf85"
   },
   "outputs": [],
   "source": [
    "##문제 정답\n",
    "emotion = []\n",
    "for comment in new_list:\n",
    "    prediction = predict_sentiment_analysis(comment, vectorizer, clf)\n",
    "    emotion.append(prediction['sentiment'])\n",
    "\n",
    "df[\"감정\"]=pd.DataFrame(emotion)"
   ]
  },
  {
   "cell_type": "code",
   "execution_count": null,
   "id": "47f60332",
   "metadata": {
    "id": "47f60332"
   },
   "outputs": [],
   "source": []
  },
  {
   "cell_type": "code",
   "execution_count": null,
   "id": "e6502b97",
   "metadata": {
    "id": "e6502b97"
   },
   "outputs": [],
   "source": []
  },
  {
   "cell_type": "code",
   "execution_count": null,
   "id": "7fcc9030",
   "metadata": {},
   "outputs": [],
   "source": []
  },
  {
   "cell_type": "code",
   "execution_count": null,
   "id": "ea988b70",
   "metadata": {},
   "outputs": [],
   "source": []
  }
 ],
 "metadata": {
  "colab": {
   "provenance": []
  },
  "kernelspec": {
   "display_name": "AI",
   "language": "python",
   "name": "ai"
  },
  "language_info": {
   "codemirror_mode": {
    "name": "ipython",
    "version": 3
   },
   "file_extension": ".py",
   "mimetype": "text/x-python",
   "name": "python",
   "nbconvert_exporter": "python",
   "pygments_lexer": "ipython3",
   "version": "3.10.9"
  }
 },
 "nbformat": 4,
 "nbformat_minor": 5
}

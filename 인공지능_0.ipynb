{
  "nbformat": 4,
  "nbformat_minor": 0,
  "metadata": {
    "colab": {
      "provenance": [],
      "authorship_tag": "ABX9TyP2efehIxP+SLJhdujjdFNO",
      "include_colab_link": true
    },
    "kernelspec": {
      "name": "python3",
      "display_name": "Python 3"
    },
    "language_info": {
      "name": "python"
    }
  },
  "cells": [
    {
      "cell_type": "markdown",
      "metadata": {
        "id": "view-in-github",
        "colab_type": "text"
      },
      "source": [
        "<a href=\"https://colab.research.google.com/github/gomdoori/user1/blob/main/%EC%9D%B8%EA%B3%B5%EC%A7%80%EB%8A%A5_0.ipynb\" target=\"_parent\"><img src=\"https://colab.research.google.com/assets/colab-badge.svg\" alt=\"Open In Colab\"/></a>"
      ]
    },
    {
      "cell_type": "code",
      "source": [
        "\n",
        "for i in range(9) :\n",
        "  print(\"------------ %d 단 --------------\" % (i+1))\n",
        "  for j in range(9) :\n",
        "    print(\"구구단 : %d X %d = %d\"% (i+1, j+1, (i+1)*(j+1)))"
      ],
      "metadata": {
        "colab": {
          "base_uri": "https://localhost:8080/"
        },
        "id": "H-xxCzMbmUm8",
        "outputId": "bc41bc9d-60c5-47ff-b127-81dea6bc85cc"
      },
      "execution_count": 38,
      "outputs": [
        {
          "output_type": "stream",
          "name": "stdout",
          "text": [
            "------------ 1 단 --------------\n",
            "구구단 : 1 X 1 = 1\n",
            "구구단 : 1 X 2 = 2\n",
            "구구단 : 1 X 3 = 3\n",
            "구구단 : 1 X 4 = 4\n",
            "구구단 : 1 X 5 = 5\n",
            "구구단 : 1 X 6 = 6\n",
            "구구단 : 1 X 7 = 7\n",
            "구구단 : 1 X 8 = 8\n",
            "구구단 : 1 X 9 = 9\n",
            "------------ 2 단 --------------\n",
            "구구단 : 2 X 1 = 2\n",
            "구구단 : 2 X 2 = 4\n",
            "구구단 : 2 X 3 = 6\n",
            "구구단 : 2 X 4 = 8\n",
            "구구단 : 2 X 5 = 10\n",
            "구구단 : 2 X 6 = 12\n",
            "구구단 : 2 X 7 = 14\n",
            "구구단 : 2 X 8 = 16\n",
            "구구단 : 2 X 9 = 18\n",
            "------------ 3 단 --------------\n",
            "구구단 : 3 X 1 = 3\n",
            "구구단 : 3 X 2 = 6\n",
            "구구단 : 3 X 3 = 9\n",
            "구구단 : 3 X 4 = 12\n",
            "구구단 : 3 X 5 = 15\n",
            "구구단 : 3 X 6 = 18\n",
            "구구단 : 3 X 7 = 21\n",
            "구구단 : 3 X 8 = 24\n",
            "구구단 : 3 X 9 = 27\n",
            "------------ 4 단 --------------\n",
            "구구단 : 4 X 1 = 4\n",
            "구구단 : 4 X 2 = 8\n",
            "구구단 : 4 X 3 = 12\n",
            "구구단 : 4 X 4 = 16\n",
            "구구단 : 4 X 5 = 20\n",
            "구구단 : 4 X 6 = 24\n",
            "구구단 : 4 X 7 = 28\n",
            "구구단 : 4 X 8 = 32\n",
            "구구단 : 4 X 9 = 36\n",
            "------------ 5 단 --------------\n",
            "구구단 : 5 X 1 = 5\n",
            "구구단 : 5 X 2 = 10\n",
            "구구단 : 5 X 3 = 15\n",
            "구구단 : 5 X 4 = 20\n",
            "구구단 : 5 X 5 = 25\n",
            "구구단 : 5 X 6 = 30\n",
            "구구단 : 5 X 7 = 35\n",
            "구구단 : 5 X 8 = 40\n",
            "구구단 : 5 X 9 = 45\n",
            "------------ 6 단 --------------\n",
            "구구단 : 6 X 1 = 6\n",
            "구구단 : 6 X 2 = 12\n",
            "구구단 : 6 X 3 = 18\n",
            "구구단 : 6 X 4 = 24\n",
            "구구단 : 6 X 5 = 30\n",
            "구구단 : 6 X 6 = 36\n",
            "구구단 : 6 X 7 = 42\n",
            "구구단 : 6 X 8 = 48\n",
            "구구단 : 6 X 9 = 54\n",
            "------------ 7 단 --------------\n",
            "구구단 : 7 X 1 = 7\n",
            "구구단 : 7 X 2 = 14\n",
            "구구단 : 7 X 3 = 21\n",
            "구구단 : 7 X 4 = 28\n",
            "구구단 : 7 X 5 = 35\n",
            "구구단 : 7 X 6 = 42\n",
            "구구단 : 7 X 7 = 49\n",
            "구구단 : 7 X 8 = 56\n",
            "구구단 : 7 X 9 = 63\n",
            "------------ 8 단 --------------\n",
            "구구단 : 8 X 1 = 8\n",
            "구구단 : 8 X 2 = 16\n",
            "구구단 : 8 X 3 = 24\n",
            "구구단 : 8 X 4 = 32\n",
            "구구단 : 8 X 5 = 40\n",
            "구구단 : 8 X 6 = 48\n",
            "구구단 : 8 X 7 = 56\n",
            "구구단 : 8 X 8 = 64\n",
            "구구단 : 8 X 9 = 72\n",
            "------------ 9 단 --------------\n",
            "구구단 : 9 X 1 = 9\n",
            "구구단 : 9 X 2 = 18\n",
            "구구단 : 9 X 3 = 27\n",
            "구구단 : 9 X 4 = 36\n",
            "구구단 : 9 X 5 = 45\n",
            "구구단 : 9 X 6 = 54\n",
            "구구단 : 9 X 7 = 63\n",
            "구구단 : 9 X 8 = 72\n",
            "구구단 : 9 X 9 = 81\n"
          ]
        }
      ]
    },
    {
      "cell_type": "code",
      "source": [
        "exam = (64, 99, 80, 12, 87, 66, 78, 36, 100, 95)\n",
        "\n",
        "for i in range(10) :\n",
        "  score = exam[i]\n",
        "\n",
        "  if (score < 60) :\n",
        "    grade = 'F'\n",
        "  if (score >= 60) :\n",
        "    grade = 'D'\n",
        "  if (score >= 70) :\n",
        "    grade = 'C'\n",
        "  if (score >= 80) :\n",
        "    grade = 'B'\n",
        "  if (score >= 90) :\n",
        "    grade = 'A'\n",
        "\n",
        "  print(\"당신의 성적은 %d이므로 점수는 %c입니다.\" % (score, grade))"
      ],
      "metadata": {
        "colab": {
          "base_uri": "https://localhost:8080/"
        },
        "id": "omTbO_0pn07D",
        "outputId": "77c22a03-15e5-4f8a-f8a8-155c493ffeee"
      },
      "execution_count": 27,
      "outputs": [
        {
          "output_type": "stream",
          "name": "stdout",
          "text": [
            "당신의 성적은 64이므로 점수는 D입니다.\n",
            "당신의 성적은 99이므로 점수는 A입니다.\n",
            "당신의 성적은 80이므로 점수는 B입니다.\n",
            "당신의 성적은 12이므로 점수는 F입니다.\n",
            "당신의 성적은 87이므로 점수는 B입니다.\n",
            "당신의 성적은 66이므로 점수는 D입니다.\n",
            "당신의 성적은 78이므로 점수는 C입니다.\n",
            "당신의 성적은 36이므로 점수는 F입니다.\n",
            "당신의 성적은 100이므로 점수는 A입니다.\n",
            "당신의 성적은 95이므로 점수는 A입니다.\n"
          ]
        }
      ]
    },
    {
      "cell_type": "code",
      "source": [
        "sum = 0\n",
        "\n",
        "for i in range(10) :\n",
        "  sum = sum + i+1\n",
        "  print(\"i의 값 : %d, 합계 : %d\" % (i+1, sum))"
      ],
      "metadata": {
        "colab": {
          "base_uri": "https://localhost:8080/"
        },
        "id": "MpcTTbVBrxCV",
        "outputId": "18c733ac-e111-4305-e499-e1443054f456"
      },
      "execution_count": 24,
      "outputs": [
        {
          "output_type": "stream",
          "name": "stdout",
          "text": [
            "i의 값 : 1, 합계 : 1\n",
            "i의 값 : 2, 합계 : 3\n",
            "i의 값 : 3, 합계 : 6\n",
            "i의 값 : 4, 합계 : 10\n",
            "i의 값 : 5, 합계 : 15\n",
            "i의 값 : 6, 합계 : 21\n",
            "i의 값 : 7, 합계 : 28\n",
            "i의 값 : 8, 합계 : 36\n",
            "i의 값 : 9, 합계 : 45\n",
            "i의 값 : 10, 합계 : 55\n"
          ]
        }
      ]
    },
    {
      "cell_type": "code",
      "source": [
        "cha = 10000\n",
        "\n",
        "print(\"현재 가진 돈은?\")\n",
        "input(you)\n",
        "\n",
        "if cha < you :\n",
        "  print(\"구매가능\")\n",
        "else :\n",
        "  print(\"구매 불가능\")"
      ],
      "metadata": {
        "colab": {
          "base_uri": "https://localhost:8080/"
        },
        "id": "gWQBdbHAs8BL",
        "outputId": "42a8af0d-bbc7-4d6a-8e07-6733a05952d9"
      },
      "execution_count": 37,
      "outputs": [
        {
          "output_type": "stream",
          "name": "stdout",
          "text": [
            "현재 가진 돈은?\n",
            "110002\n",
            "구매 불가능\n"
          ]
        }
      ]
    },
    {
      "cell_type": "markdown",
      "source": [
        "이번 학기 잘 부탁드립니다 :)\n",
        "작년에 잠깐 c언어 한게 전부라 실력이 많이 부족하네요\n",
        "다른 분들보다 더 분발하겠습니다\n",
        "감사합니다.\n",
        "\n",
        "건의사항 : 계속해서 학생들을 배려해 주시는 모습이 정말 감사하지만 그냥 교수님께서 원하는 스타일대로 진행하다보면 자연스럽게 학생들이 따라오리라 믿습니다."
      ],
      "metadata": {
        "id": "HRBGYKo2xe1S"
      }
    },
    {
      "cell_type": "code",
      "source": [],
      "metadata": {
        "id": "ygOLVTW9vs9e"
      },
      "execution_count": null,
      "outputs": []
    }
  ]
}